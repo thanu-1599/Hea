{
 "cells": [
  {
   "cell_type": "code",
   "execution_count": null,
   "metadata": {
    "id": "VQ16J0mIVwwG"
   },
   "outputs": [],
   "source": [
    "import numpy as np\n",
    "import pandas as pd\n",
    "import matplotlib.pyplot as plt\n",
    "import seaborn as sns\n",
    "import xgboost as xgb\n",
    "\n",
    "from sklearn.model_selection import train_test_split\n",
    "from sklearn.metrics import accuracy_score\n",
    "from sklearn.linear_model import LogisticRegression\n",
    "from sklearn.naive_bayes import GaussianNB\n",
    "from sklearn import svm\n",
    "from sklearn.neighbors import KNeighborsClassifier\n",
    "from sklearn.tree import DecisionTreeClassifier\n",
    "from sklearn.ensemble import RandomForestClassifier\n",
    "\n",
    "from keras.models import Sequential\n",
    "from keras.layers import Dense\n",
    "\n",
    "%matplotlib inline\n",
    "\n",
    "import warnings\n",
    "warnings.filterwarnings('ignore')"
   ]
  },
  {
   "cell_type": "code",
   "execution_count": null,
   "metadata": {
    "id": "yWDeHcixWsOQ"
   },
   "outputs": [],
   "source": [
    "dataset = pd.read_csv(\"/content/heart.csv\")"
   ]
  },
  {
   "cell_type": "code",
   "execution_count": null,
   "metadata": {
    "colab": {
     "base_uri": "https://localhost:8080/"
    },
    "id": "HWnygPpPW6RW",
    "outputId": "25926309-e9e3-49c6-d231-44390a99e2e7"
   },
   "outputs": [
    {
     "data": {
      "text/plain": [
       "pandas.core.frame.DataFrame"
      ]
     },
     "execution_count": 5,
     "metadata": {},
     "output_type": "execute_result"
    }
   ],
   "source": [
    "type(dataset)"
   ]
  },
  {
   "cell_type": "code",
   "execution_count": null,
   "metadata": {
    "colab": {
     "base_uri": "https://localhost:8080/"
    },
    "id": "wbLh2zQKW9TI",
    "outputId": "9215f494-8551-4839-b966-f694f1c7d6cf"
   },
   "outputs": [
    {
     "data": {
      "text/plain": [
       "(303, 14)"
      ]
     },
     "execution_count": 6,
     "metadata": {},
     "output_type": "execute_result"
    }
   ],
   "source": [
    "dataset.shape"
   ]
  },
  {
   "cell_type": "code",
   "execution_count": null,
   "metadata": {
    "colab": {
     "base_uri": "https://localhost:8080/",
     "height": 206
    },
    "id": "etDA4mwWXBpm",
    "outputId": "830d0902-d187-4994-fcf8-b8b8e270049b"
   },
   "outputs": [
    {
     "data": {
      "text/html": [
       "\n",
       "\n",
       "  <div id=\"df-3a9582d8-2ddc-4725-8848-1e9d34c8ea80\">\n",
       "    <div class=\"colab-df-container\">\n",
       "      <div>\n",
       "<style scoped>\n",
       "    .dataframe tbody tr th:only-of-type {\n",
       "        vertical-align: middle;\n",
       "    }\n",
       "\n",
       "    .dataframe tbody tr th {\n",
       "        vertical-align: top;\n",
       "    }\n",
       "\n",
       "    .dataframe thead th {\n",
       "        text-align: right;\n",
       "    }\n",
       "</style>\n",
       "<table border=\"1\" class=\"dataframe\">\n",
       "  <thead>\n",
       "    <tr style=\"text-align: right;\">\n",
       "      <th></th>\n",
       "      <th>age</th>\n",
       "      <th>sex</th>\n",
       "      <th>cp</th>\n",
       "      <th>trestbps</th>\n",
       "      <th>chol</th>\n",
       "      <th>fbs</th>\n",
       "      <th>restecg</th>\n",
       "      <th>thalach</th>\n",
       "      <th>exang</th>\n",
       "      <th>oldpeak</th>\n",
       "      <th>slope</th>\n",
       "      <th>ca</th>\n",
       "      <th>thal</th>\n",
       "      <th>target</th>\n",
       "    </tr>\n",
       "  </thead>\n",
       "  <tbody>\n",
       "    <tr>\n",
       "      <th>0</th>\n",
       "      <td>63</td>\n",
       "      <td>1</td>\n",
       "      <td>3</td>\n",
       "      <td>145</td>\n",
       "      <td>233</td>\n",
       "      <td>1</td>\n",
       "      <td>0</td>\n",
       "      <td>150</td>\n",
       "      <td>0</td>\n",
       "      <td>2.3</td>\n",
       "      <td>0</td>\n",
       "      <td>0</td>\n",
       "      <td>1</td>\n",
       "      <td>1</td>\n",
       "    </tr>\n",
       "    <tr>\n",
       "      <th>1</th>\n",
       "      <td>37</td>\n",
       "      <td>1</td>\n",
       "      <td>2</td>\n",
       "      <td>130</td>\n",
       "      <td>250</td>\n",
       "      <td>0</td>\n",
       "      <td>1</td>\n",
       "      <td>187</td>\n",
       "      <td>0</td>\n",
       "      <td>3.5</td>\n",
       "      <td>0</td>\n",
       "      <td>0</td>\n",
       "      <td>2</td>\n",
       "      <td>1</td>\n",
       "    </tr>\n",
       "    <tr>\n",
       "      <th>2</th>\n",
       "      <td>41</td>\n",
       "      <td>0</td>\n",
       "      <td>1</td>\n",
       "      <td>130</td>\n",
       "      <td>204</td>\n",
       "      <td>0</td>\n",
       "      <td>0</td>\n",
       "      <td>172</td>\n",
       "      <td>0</td>\n",
       "      <td>1.4</td>\n",
       "      <td>2</td>\n",
       "      <td>0</td>\n",
       "      <td>2</td>\n",
       "      <td>1</td>\n",
       "    </tr>\n",
       "    <tr>\n",
       "      <th>3</th>\n",
       "      <td>56</td>\n",
       "      <td>1</td>\n",
       "      <td>1</td>\n",
       "      <td>120</td>\n",
       "      <td>236</td>\n",
       "      <td>0</td>\n",
       "      <td>1</td>\n",
       "      <td>178</td>\n",
       "      <td>0</td>\n",
       "      <td>0.8</td>\n",
       "      <td>2</td>\n",
       "      <td>0</td>\n",
       "      <td>2</td>\n",
       "      <td>1</td>\n",
       "    </tr>\n",
       "    <tr>\n",
       "      <th>4</th>\n",
       "      <td>57</td>\n",
       "      <td>0</td>\n",
       "      <td>0</td>\n",
       "      <td>120</td>\n",
       "      <td>354</td>\n",
       "      <td>0</td>\n",
       "      <td>1</td>\n",
       "      <td>163</td>\n",
       "      <td>1</td>\n",
       "      <td>0.6</td>\n",
       "      <td>2</td>\n",
       "      <td>0</td>\n",
       "      <td>2</td>\n",
       "      <td>1</td>\n",
       "    </tr>\n",
       "  </tbody>\n",
       "</table>\n",
       "</div>\n",
       "      <button class=\"colab-df-convert\" onclick=\"convertToInteractive('df-3a9582d8-2ddc-4725-8848-1e9d34c8ea80')\"\n",
       "              title=\"Convert this dataframe to an interactive table.\"\n",
       "              style=\"display:none;\">\n",
       "\n",
       "  <svg xmlns=\"http://www.w3.org/2000/svg\" height=\"24px\"viewBox=\"0 0 24 24\"\n",
       "       width=\"24px\">\n",
       "    <path d=\"M0 0h24v24H0V0z\" fill=\"none\"/>\n",
       "    <path d=\"M18.56 5.44l.94 2.06.94-2.06 2.06-.94-2.06-.94-.94-2.06-.94 2.06-2.06.94zm-11 1L8.5 8.5l.94-2.06 2.06-.94-2.06-.94L8.5 2.5l-.94 2.06-2.06.94zm10 10l.94 2.06.94-2.06 2.06-.94-2.06-.94-.94-2.06-.94 2.06-2.06.94z\"/><path d=\"M17.41 7.96l-1.37-1.37c-.4-.4-.92-.59-1.43-.59-.52 0-1.04.2-1.43.59L10.3 9.45l-7.72 7.72c-.78.78-.78 2.05 0 2.83L4 21.41c.39.39.9.59 1.41.59.51 0 1.02-.2 1.41-.59l7.78-7.78 2.81-2.81c.8-.78.8-2.07 0-2.86zM5.41 20L4 18.59l7.72-7.72 1.47 1.35L5.41 20z\"/>\n",
       "  </svg>\n",
       "      </button>\n",
       "\n",
       "\n",
       "\n",
       "    <div id=\"df-523cd4bc-4f8e-424d-bf9f-6820c4161589\">\n",
       "      <button class=\"colab-df-quickchart\" onclick=\"quickchart('df-523cd4bc-4f8e-424d-bf9f-6820c4161589')\"\n",
       "              title=\"Suggest charts.\"\n",
       "              style=\"display:none;\">\n",
       "\n",
       "<svg xmlns=\"http://www.w3.org/2000/svg\" height=\"24px\"viewBox=\"0 0 24 24\"\n",
       "     width=\"24px\">\n",
       "    <g>\n",
       "        <path d=\"M19 3H5c-1.1 0-2 .9-2 2v14c0 1.1.9 2 2 2h14c1.1 0 2-.9 2-2V5c0-1.1-.9-2-2-2zM9 17H7v-7h2v7zm4 0h-2V7h2v10zm4 0h-2v-4h2v4z\"/>\n",
       "    </g>\n",
       "</svg>\n",
       "      </button>\n",
       "    </div>\n",
       "\n",
       "<style>\n",
       "  .colab-df-quickchart {\n",
       "    background-color: #E8F0FE;\n",
       "    border: none;\n",
       "    border-radius: 50%;\n",
       "    cursor: pointer;\n",
       "    display: none;\n",
       "    fill: #1967D2;\n",
       "    height: 32px;\n",
       "    padding: 0 0 0 0;\n",
       "    width: 32px;\n",
       "  }\n",
       "\n",
       "  .colab-df-quickchart:hover {\n",
       "    background-color: #E2EBFA;\n",
       "    box-shadow: 0px 1px 2px rgba(60, 64, 67, 0.3), 0px 1px 3px 1px rgba(60, 64, 67, 0.15);\n",
       "    fill: #174EA6;\n",
       "  }\n",
       "\n",
       "  [theme=dark] .colab-df-quickchart {\n",
       "    background-color: #3B4455;\n",
       "    fill: #D2E3FC;\n",
       "  }\n",
       "\n",
       "  [theme=dark] .colab-df-quickchart:hover {\n",
       "    background-color: #434B5C;\n",
       "    box-shadow: 0px 1px 3px 1px rgba(0, 0, 0, 0.15);\n",
       "    filter: drop-shadow(0px 1px 2px rgba(0, 0, 0, 0.3));\n",
       "    fill: #FFFFFF;\n",
       "  }\n",
       "</style>\n",
       "\n",
       "    <script>\n",
       "      async function quickchart(key) {\n",
       "        const containerElement = document.querySelector('#' + key);\n",
       "        const charts = await google.colab.kernel.invokeFunction(\n",
       "            'suggestCharts', [key], {});\n",
       "      }\n",
       "    </script>\n",
       "\n",
       "      <script>\n",
       "\n",
       "function displayQuickchartButton(domScope) {\n",
       "  let quickchartButtonEl =\n",
       "    domScope.querySelector('#df-523cd4bc-4f8e-424d-bf9f-6820c4161589 button.colab-df-quickchart');\n",
       "  quickchartButtonEl.style.display =\n",
       "    google.colab.kernel.accessAllowed ? 'block' : 'none';\n",
       "}\n",
       "\n",
       "        displayQuickchartButton(document);\n",
       "      </script>\n",
       "      <style>\n",
       "    .colab-df-container {\n",
       "      display:flex;\n",
       "      flex-wrap:wrap;\n",
       "      gap: 12px;\n",
       "    }\n",
       "\n",
       "    .colab-df-convert {\n",
       "      background-color: #E8F0FE;\n",
       "      border: none;\n",
       "      border-radius: 50%;\n",
       "      cursor: pointer;\n",
       "      display: none;\n",
       "      fill: #1967D2;\n",
       "      height: 32px;\n",
       "      padding: 0 0 0 0;\n",
       "      width: 32px;\n",
       "    }\n",
       "\n",
       "    .colab-df-convert:hover {\n",
       "      background-color: #E2EBFA;\n",
       "      box-shadow: 0px 1px 2px rgba(60, 64, 67, 0.3), 0px 1px 3px 1px rgba(60, 64, 67, 0.15);\n",
       "      fill: #174EA6;\n",
       "    }\n",
       "\n",
       "    [theme=dark] .colab-df-convert {\n",
       "      background-color: #3B4455;\n",
       "      fill: #D2E3FC;\n",
       "    }\n",
       "\n",
       "    [theme=dark] .colab-df-convert:hover {\n",
       "      background-color: #434B5C;\n",
       "      box-shadow: 0px 1px 3px 1px rgba(0, 0, 0, 0.15);\n",
       "      filter: drop-shadow(0px 1px 2px rgba(0, 0, 0, 0.3));\n",
       "      fill: #FFFFFF;\n",
       "    }\n",
       "  </style>\n",
       "\n",
       "      <script>\n",
       "        const buttonEl =\n",
       "          document.querySelector('#df-3a9582d8-2ddc-4725-8848-1e9d34c8ea80 button.colab-df-convert');\n",
       "        buttonEl.style.display =\n",
       "          google.colab.kernel.accessAllowed ? 'block' : 'none';\n",
       "\n",
       "        async function convertToInteractive(key) {\n",
       "          const element = document.querySelector('#df-3a9582d8-2ddc-4725-8848-1e9d34c8ea80');\n",
       "          const dataTable =\n",
       "            await google.colab.kernel.invokeFunction('convertToInteractive',\n",
       "                                                     [key], {});\n",
       "          if (!dataTable) return;\n",
       "\n",
       "          const docLinkHtml = 'Like what you see? Visit the ' +\n",
       "            '<a target=\"_blank\" href=https://colab.research.google.com/notebooks/data_table.ipynb>data table notebook</a>'\n",
       "            + ' to learn more about interactive tables.';\n",
       "          element.innerHTML = '';\n",
       "          dataTable['output_type'] = 'display_data';\n",
       "          await google.colab.output.renderOutput(dataTable, element);\n",
       "          const docLink = document.createElement('div');\n",
       "          docLink.innerHTML = docLinkHtml;\n",
       "          element.appendChild(docLink);\n",
       "        }\n",
       "      </script>\n",
       "    </div>\n",
       "  </div>\n"
      ],
      "text/plain": [
       "   age  sex  cp  trestbps  chol  fbs  restecg  thalach  exang  oldpeak  slope  \\\n",
       "0   63    1   3       145   233    1        0      150      0      2.3      0   \n",
       "1   37    1   2       130   250    0        1      187      0      3.5      0   \n",
       "2   41    0   1       130   204    0        0      172      0      1.4      2   \n",
       "3   56    1   1       120   236    0        1      178      0      0.8      2   \n",
       "4   57    0   0       120   354    0        1      163      1      0.6      2   \n",
       "\n",
       "   ca  thal  target  \n",
       "0   0     1       1  \n",
       "1   0     2       1  \n",
       "2   0     2       1  \n",
       "3   0     2       1  \n",
       "4   0     2       1  "
      ]
     },
     "execution_count": 7,
     "metadata": {},
     "output_type": "execute_result"
    }
   ],
   "source": [
    "dataset.head()"
   ]
  },
  {
   "cell_type": "code",
   "execution_count": null,
   "metadata": {
    "colab": {
     "base_uri": "https://localhost:8080/",
     "height": 344
    },
    "id": "XUkZ1kviXF7k",
    "outputId": "a306e90c-16f1-4148-8382-1be1fd7d7ffc"
   },
   "outputs": [
    {
     "data": {
      "text/html": [
       "\n",
       "\n",
       "  <div id=\"df-3a4102e3-a496-467d-9a00-d748c39c3957\">\n",
       "    <div class=\"colab-df-container\">\n",
       "      <div>\n",
       "<style scoped>\n",
       "    .dataframe tbody tr th:only-of-type {\n",
       "        vertical-align: middle;\n",
       "    }\n",
       "\n",
       "    .dataframe tbody tr th {\n",
       "        vertical-align: top;\n",
       "    }\n",
       "\n",
       "    .dataframe thead th {\n",
       "        text-align: right;\n",
       "    }\n",
       "</style>\n",
       "<table border=\"1\" class=\"dataframe\">\n",
       "  <thead>\n",
       "    <tr style=\"text-align: right;\">\n",
       "      <th></th>\n",
       "      <th>age</th>\n",
       "      <th>sex</th>\n",
       "      <th>cp</th>\n",
       "      <th>trestbps</th>\n",
       "      <th>chol</th>\n",
       "      <th>fbs</th>\n",
       "      <th>restecg</th>\n",
       "      <th>thalach</th>\n",
       "      <th>exang</th>\n",
       "      <th>oldpeak</th>\n",
       "      <th>slope</th>\n",
       "      <th>ca</th>\n",
       "      <th>thal</th>\n",
       "      <th>target</th>\n",
       "    </tr>\n",
       "  </thead>\n",
       "  <tbody>\n",
       "    <tr>\n",
       "      <th>count</th>\n",
       "      <td>303.000000</td>\n",
       "      <td>303.000000</td>\n",
       "      <td>303.000000</td>\n",
       "      <td>303.000000</td>\n",
       "      <td>303.000000</td>\n",
       "      <td>303.000000</td>\n",
       "      <td>303.000000</td>\n",
       "      <td>303.000000</td>\n",
       "      <td>303.000000</td>\n",
       "      <td>303.000000</td>\n",
       "      <td>303.000000</td>\n",
       "      <td>303.000000</td>\n",
       "      <td>303.000000</td>\n",
       "      <td>303.000000</td>\n",
       "    </tr>\n",
       "    <tr>\n",
       "      <th>mean</th>\n",
       "      <td>54.366337</td>\n",
       "      <td>0.683168</td>\n",
       "      <td>0.966997</td>\n",
       "      <td>131.623762</td>\n",
       "      <td>246.264026</td>\n",
       "      <td>0.148515</td>\n",
       "      <td>0.528053</td>\n",
       "      <td>149.646865</td>\n",
       "      <td>0.326733</td>\n",
       "      <td>1.039604</td>\n",
       "      <td>1.399340</td>\n",
       "      <td>0.729373</td>\n",
       "      <td>2.313531</td>\n",
       "      <td>0.544554</td>\n",
       "    </tr>\n",
       "    <tr>\n",
       "      <th>std</th>\n",
       "      <td>9.082101</td>\n",
       "      <td>0.466011</td>\n",
       "      <td>1.032052</td>\n",
       "      <td>17.538143</td>\n",
       "      <td>51.830751</td>\n",
       "      <td>0.356198</td>\n",
       "      <td>0.525860</td>\n",
       "      <td>22.905161</td>\n",
       "      <td>0.469794</td>\n",
       "      <td>1.161075</td>\n",
       "      <td>0.616226</td>\n",
       "      <td>1.022606</td>\n",
       "      <td>0.612277</td>\n",
       "      <td>0.498835</td>\n",
       "    </tr>\n",
       "    <tr>\n",
       "      <th>min</th>\n",
       "      <td>29.000000</td>\n",
       "      <td>0.000000</td>\n",
       "      <td>0.000000</td>\n",
       "      <td>94.000000</td>\n",
       "      <td>126.000000</td>\n",
       "      <td>0.000000</td>\n",
       "      <td>0.000000</td>\n",
       "      <td>71.000000</td>\n",
       "      <td>0.000000</td>\n",
       "      <td>0.000000</td>\n",
       "      <td>0.000000</td>\n",
       "      <td>0.000000</td>\n",
       "      <td>0.000000</td>\n",
       "      <td>0.000000</td>\n",
       "    </tr>\n",
       "    <tr>\n",
       "      <th>25%</th>\n",
       "      <td>47.500000</td>\n",
       "      <td>0.000000</td>\n",
       "      <td>0.000000</td>\n",
       "      <td>120.000000</td>\n",
       "      <td>211.000000</td>\n",
       "      <td>0.000000</td>\n",
       "      <td>0.000000</td>\n",
       "      <td>133.500000</td>\n",
       "      <td>0.000000</td>\n",
       "      <td>0.000000</td>\n",
       "      <td>1.000000</td>\n",
       "      <td>0.000000</td>\n",
       "      <td>2.000000</td>\n",
       "      <td>0.000000</td>\n",
       "    </tr>\n",
       "    <tr>\n",
       "      <th>50%</th>\n",
       "      <td>55.000000</td>\n",
       "      <td>1.000000</td>\n",
       "      <td>1.000000</td>\n",
       "      <td>130.000000</td>\n",
       "      <td>240.000000</td>\n",
       "      <td>0.000000</td>\n",
       "      <td>1.000000</td>\n",
       "      <td>153.000000</td>\n",
       "      <td>0.000000</td>\n",
       "      <td>0.800000</td>\n",
       "      <td>1.000000</td>\n",
       "      <td>0.000000</td>\n",
       "      <td>2.000000</td>\n",
       "      <td>1.000000</td>\n",
       "    </tr>\n",
       "    <tr>\n",
       "      <th>75%</th>\n",
       "      <td>61.000000</td>\n",
       "      <td>1.000000</td>\n",
       "      <td>2.000000</td>\n",
       "      <td>140.000000</td>\n",
       "      <td>274.500000</td>\n",
       "      <td>0.000000</td>\n",
       "      <td>1.000000</td>\n",
       "      <td>166.000000</td>\n",
       "      <td>1.000000</td>\n",
       "      <td>1.600000</td>\n",
       "      <td>2.000000</td>\n",
       "      <td>1.000000</td>\n",
       "      <td>3.000000</td>\n",
       "      <td>1.000000</td>\n",
       "    </tr>\n",
       "    <tr>\n",
       "      <th>max</th>\n",
       "      <td>77.000000</td>\n",
       "      <td>1.000000</td>\n",
       "      <td>3.000000</td>\n",
       "      <td>200.000000</td>\n",
       "      <td>564.000000</td>\n",
       "      <td>1.000000</td>\n",
       "      <td>2.000000</td>\n",
       "      <td>202.000000</td>\n",
       "      <td>1.000000</td>\n",
       "      <td>6.200000</td>\n",
       "      <td>2.000000</td>\n",
       "      <td>4.000000</td>\n",
       "      <td>3.000000</td>\n",
       "      <td>1.000000</td>\n",
       "    </tr>\n",
       "  </tbody>\n",
       "</table>\n",
       "</div>\n",
       "      <button class=\"colab-df-convert\" onclick=\"convertToInteractive('df-3a4102e3-a496-467d-9a00-d748c39c3957')\"\n",
       "              title=\"Convert this dataframe to an interactive table.\"\n",
       "              style=\"display:none;\">\n",
       "\n",
       "  <svg xmlns=\"http://www.w3.org/2000/svg\" height=\"24px\"viewBox=\"0 0 24 24\"\n",
       "       width=\"24px\">\n",
       "    <path d=\"M0 0h24v24H0V0z\" fill=\"none\"/>\n",
       "    <path d=\"M18.56 5.44l.94 2.06.94-2.06 2.06-.94-2.06-.94-.94-2.06-.94 2.06-2.06.94zm-11 1L8.5 8.5l.94-2.06 2.06-.94-2.06-.94L8.5 2.5l-.94 2.06-2.06.94zm10 10l.94 2.06.94-2.06 2.06-.94-2.06-.94-.94-2.06-.94 2.06-2.06.94z\"/><path d=\"M17.41 7.96l-1.37-1.37c-.4-.4-.92-.59-1.43-.59-.52 0-1.04.2-1.43.59L10.3 9.45l-7.72 7.72c-.78.78-.78 2.05 0 2.83L4 21.41c.39.39.9.59 1.41.59.51 0 1.02-.2 1.41-.59l7.78-7.78 2.81-2.81c.8-.78.8-2.07 0-2.86zM5.41 20L4 18.59l7.72-7.72 1.47 1.35L5.41 20z\"/>\n",
       "  </svg>\n",
       "      </button>\n",
       "\n",
       "\n",
       "\n",
       "    <div id=\"df-bf526f47-d31d-439a-bce9-3cbefff91657\">\n",
       "      <button class=\"colab-df-quickchart\" onclick=\"quickchart('df-bf526f47-d31d-439a-bce9-3cbefff91657')\"\n",
       "              title=\"Suggest charts.\"\n",
       "              style=\"display:none;\">\n",
       "\n",
       "<svg xmlns=\"http://www.w3.org/2000/svg\" height=\"24px\"viewBox=\"0 0 24 24\"\n",
       "     width=\"24px\">\n",
       "    <g>\n",
       "        <path d=\"M19 3H5c-1.1 0-2 .9-2 2v14c0 1.1.9 2 2 2h14c1.1 0 2-.9 2-2V5c0-1.1-.9-2-2-2zM9 17H7v-7h2v7zm4 0h-2V7h2v10zm4 0h-2v-4h2v4z\"/>\n",
       "    </g>\n",
       "</svg>\n",
       "      </button>\n",
       "    </div>\n",
       "\n",
       "<style>\n",
       "  .colab-df-quickchart {\n",
       "    background-color: #E8F0FE;\n",
       "    border: none;\n",
       "    border-radius: 50%;\n",
       "    cursor: pointer;\n",
       "    display: none;\n",
       "    fill: #1967D2;\n",
       "    height: 32px;\n",
       "    padding: 0 0 0 0;\n",
       "    width: 32px;\n",
       "  }\n",
       "\n",
       "  .colab-df-quickchart:hover {\n",
       "    background-color: #E2EBFA;\n",
       "    box-shadow: 0px 1px 2px rgba(60, 64, 67, 0.3), 0px 1px 3px 1px rgba(60, 64, 67, 0.15);\n",
       "    fill: #174EA6;\n",
       "  }\n",
       "\n",
       "  [theme=dark] .colab-df-quickchart {\n",
       "    background-color: #3B4455;\n",
       "    fill: #D2E3FC;\n",
       "  }\n",
       "\n",
       "  [theme=dark] .colab-df-quickchart:hover {\n",
       "    background-color: #434B5C;\n",
       "    box-shadow: 0px 1px 3px 1px rgba(0, 0, 0, 0.15);\n",
       "    filter: drop-shadow(0px 1px 2px rgba(0, 0, 0, 0.3));\n",
       "    fill: #FFFFFF;\n",
       "  }\n",
       "</style>\n",
       "\n",
       "    <script>\n",
       "      async function quickchart(key) {\n",
       "        const containerElement = document.querySelector('#' + key);\n",
       "        const charts = await google.colab.kernel.invokeFunction(\n",
       "            'suggestCharts', [key], {});\n",
       "      }\n",
       "    </script>\n",
       "\n",
       "      <script>\n",
       "\n",
       "function displayQuickchartButton(domScope) {\n",
       "  let quickchartButtonEl =\n",
       "    domScope.querySelector('#df-bf526f47-d31d-439a-bce9-3cbefff91657 button.colab-df-quickchart');\n",
       "  quickchartButtonEl.style.display =\n",
       "    google.colab.kernel.accessAllowed ? 'block' : 'none';\n",
       "}\n",
       "\n",
       "        displayQuickchartButton(document);\n",
       "      </script>\n",
       "      <style>\n",
       "    .colab-df-container {\n",
       "      display:flex;\n",
       "      flex-wrap:wrap;\n",
       "      gap: 12px;\n",
       "    }\n",
       "\n",
       "    .colab-df-convert {\n",
       "      background-color: #E8F0FE;\n",
       "      border: none;\n",
       "      border-radius: 50%;\n",
       "      cursor: pointer;\n",
       "      display: none;\n",
       "      fill: #1967D2;\n",
       "      height: 32px;\n",
       "      padding: 0 0 0 0;\n",
       "      width: 32px;\n",
       "    }\n",
       "\n",
       "    .colab-df-convert:hover {\n",
       "      background-color: #E2EBFA;\n",
       "      box-shadow: 0px 1px 2px rgba(60, 64, 67, 0.3), 0px 1px 3px 1px rgba(60, 64, 67, 0.15);\n",
       "      fill: #174EA6;\n",
       "    }\n",
       "\n",
       "    [theme=dark] .colab-df-convert {\n",
       "      background-color: #3B4455;\n",
       "      fill: #D2E3FC;\n",
       "    }\n",
       "\n",
       "    [theme=dark] .colab-df-convert:hover {\n",
       "      background-color: #434B5C;\n",
       "      box-shadow: 0px 1px 3px 1px rgba(0, 0, 0, 0.15);\n",
       "      filter: drop-shadow(0px 1px 2px rgba(0, 0, 0, 0.3));\n",
       "      fill: #FFFFFF;\n",
       "    }\n",
       "  </style>\n",
       "\n",
       "      <script>\n",
       "        const buttonEl =\n",
       "          document.querySelector('#df-3a4102e3-a496-467d-9a00-d748c39c3957 button.colab-df-convert');\n",
       "        buttonEl.style.display =\n",
       "          google.colab.kernel.accessAllowed ? 'block' : 'none';\n",
       "\n",
       "        async function convertToInteractive(key) {\n",
       "          const element = document.querySelector('#df-3a4102e3-a496-467d-9a00-d748c39c3957');\n",
       "          const dataTable =\n",
       "            await google.colab.kernel.invokeFunction('convertToInteractive',\n",
       "                                                     [key], {});\n",
       "          if (!dataTable) return;\n",
       "\n",
       "          const docLinkHtml = 'Like what you see? Visit the ' +\n",
       "            '<a target=\"_blank\" href=https://colab.research.google.com/notebooks/data_table.ipynb>data table notebook</a>'\n",
       "            + ' to learn more about interactive tables.';\n",
       "          element.innerHTML = '';\n",
       "          dataTable['output_type'] = 'display_data';\n",
       "          await google.colab.output.renderOutput(dataTable, element);\n",
       "          const docLink = document.createElement('div');\n",
       "          docLink.innerHTML = docLinkHtml;\n",
       "          element.appendChild(docLink);\n",
       "        }\n",
       "      </script>\n",
       "    </div>\n",
       "  </div>\n"
      ],
      "text/plain": [
       "              age         sex          cp    trestbps        chol         fbs  \\\n",
       "count  303.000000  303.000000  303.000000  303.000000  303.000000  303.000000   \n",
       "mean    54.366337    0.683168    0.966997  131.623762  246.264026    0.148515   \n",
       "std      9.082101    0.466011    1.032052   17.538143   51.830751    0.356198   \n",
       "min     29.000000    0.000000    0.000000   94.000000  126.000000    0.000000   \n",
       "25%     47.500000    0.000000    0.000000  120.000000  211.000000    0.000000   \n",
       "50%     55.000000    1.000000    1.000000  130.000000  240.000000    0.000000   \n",
       "75%     61.000000    1.000000    2.000000  140.000000  274.500000    0.000000   \n",
       "max     77.000000    1.000000    3.000000  200.000000  564.000000    1.000000   \n",
       "\n",
       "          restecg     thalach       exang     oldpeak       slope          ca  \\\n",
       "count  303.000000  303.000000  303.000000  303.000000  303.000000  303.000000   \n",
       "mean     0.528053  149.646865    0.326733    1.039604    1.399340    0.729373   \n",
       "std      0.525860   22.905161    0.469794    1.161075    0.616226    1.022606   \n",
       "min      0.000000   71.000000    0.000000    0.000000    0.000000    0.000000   \n",
       "25%      0.000000  133.500000    0.000000    0.000000    1.000000    0.000000   \n",
       "50%      1.000000  153.000000    0.000000    0.800000    1.000000    0.000000   \n",
       "75%      1.000000  166.000000    1.000000    1.600000    2.000000    1.000000   \n",
       "max      2.000000  202.000000    1.000000    6.200000    2.000000    4.000000   \n",
       "\n",
       "             thal      target  \n",
       "count  303.000000  303.000000  \n",
       "mean     2.313531    0.544554  \n",
       "std      0.612277    0.498835  \n",
       "min      0.000000    0.000000  \n",
       "25%      2.000000    0.000000  \n",
       "50%      2.000000    1.000000  \n",
       "75%      3.000000    1.000000  \n",
       "max      3.000000    1.000000  "
      ]
     },
     "execution_count": 8,
     "metadata": {},
     "output_type": "execute_result"
    }
   ],
   "source": [
    "dataset.describe()"
   ]
  },
  {
   "cell_type": "code",
   "execution_count": null,
   "metadata": {
    "colab": {
     "base_uri": "https://localhost:8080/"
    },
    "id": "tRgCui7nXLT6",
    "outputId": "71ed20f9-d763-412e-917b-9fd7c5acf041"
   },
   "outputs": [
    {
     "name": "stdout",
     "output_type": "stream",
     "text": [
      "<class 'pandas.core.frame.DataFrame'>\n",
      "RangeIndex: 303 entries, 0 to 302\n",
      "Data columns (total 14 columns):\n",
      " #   Column    Non-Null Count  Dtype  \n",
      "---  ------    --------------  -----  \n",
      " 0   age       303 non-null    int64  \n",
      " 1   sex       303 non-null    int64  \n",
      " 2   cp        303 non-null    int64  \n",
      " 3   trestbps  303 non-null    int64  \n",
      " 4   chol      303 non-null    int64  \n",
      " 5   fbs       303 non-null    int64  \n",
      " 6   restecg   303 non-null    int64  \n",
      " 7   thalach   303 non-null    int64  \n",
      " 8   exang     303 non-null    int64  \n",
      " 9   oldpeak   303 non-null    float64\n",
      " 10  slope     303 non-null    int64  \n",
      " 11  ca        303 non-null    int64  \n",
      " 12  thal      303 non-null    int64  \n",
      " 13  target    303 non-null    int64  \n",
      "dtypes: float64(1), int64(13)\n",
      "memory usage: 33.3 KB\n"
     ]
    }
   ],
   "source": [
    "dataset.info()"
   ]
  },
  {
   "cell_type": "code",
   "execution_count": null,
   "metadata": {
    "colab": {
     "base_uri": "https://localhost:8080/"
    },
    "id": "OK3xdGDEXOtN",
    "outputId": "2880c962-76c9-4d27-8f1d-198c25b08849"
   },
   "outputs": [
    {
     "name": "stdout",
     "output_type": "stream",
     "text": [
      "age:      age\n",
      "sex:      1: male, 0: female\n",
      "cp:       chest pain type, 0: typical angina, 1: atypical angina, 2: non-anginal pain, 3: asymptomatic\n",
      "trestbps: resting blood pressure\n",
      "chol:     serum cholestoral in mg/dl\n",
      "fbs:      fasting blood sugar > 120 mg/dl\n",
      "restecg:  resting electrocardiographic results (values 0,1,2)\n",
      "thalach:  maximum heart rate achieved\n",
      "exang:    exercise induced angina\n",
      "oldpeak:  oldpeak = ST depression induced by exercise relative to rest\n",
      "slope:    the slope of the peak exercise ST segment\n",
      "ca:       number of major vessels (0-3) colored by flourosopy\n",
      "thal:     3 = normal; 6 = fixed defect; 7 = reversable defect\n"
     ]
    }
   ],
   "source": [
    "info = [\"      age\",\n",
    "        \"      1: male, 0: female\",\n",
    "        \"       chest pain type, 0: typical angina, 1: atypical angina, 2: non-anginal pain, 3: asymptomatic\",\n",
    "        \" resting blood pressure\",\n",
    "        \"     serum cholestoral in mg/dl\",\n",
    "        \"      fasting blood sugar > 120 mg/dl\",\n",
    "        \"  resting electrocardiographic results (values 0,1,2)\",\n",
    "        \"  maximum heart rate achieved\",\n",
    "        \"    exercise induced angina\",\n",
    "        \"  oldpeak = ST depression induced by exercise relative to rest\",\n",
    "        \"    the slope of the peak exercise ST segment\",\n",
    "        \"       number of major vessels (0-3) colored by flourosopy\",\n",
    "        \"     3 = normal; 6 = fixed defect; 7 = reversable defect\"]\n",
    "\n",
    "\n",
    "for i in range(len(info)):\n",
    "    print(dataset.columns[i]+\":\"+info[i])"
   ]
  },
  {
   "cell_type": "code",
   "execution_count": null,
   "metadata": {
    "colab": {
     "base_uri": "https://localhost:8080/"
    },
    "id": "ErCseKUmZeNg",
    "outputId": "665d43cc-0b16-4e3e-b2da-a7a64d9fc9af"
   },
   "outputs": [
    {
     "data": {
      "text/plain": [
       "count    303.000000\n",
       "mean       0.544554\n",
       "std        0.498835\n",
       "min        0.000000\n",
       "25%        0.000000\n",
       "50%        1.000000\n",
       "75%        1.000000\n",
       "max        1.000000\n",
       "Name: target, dtype: float64"
      ]
     },
     "execution_count": 11,
     "metadata": {},
     "output_type": "execute_result"
    }
   ],
   "source": [
    "dataset[\"target\"].describe()"
   ]
  },
  {
   "cell_type": "code",
   "execution_count": null,
   "metadata": {
    "colab": {
     "base_uri": "https://localhost:8080/"
    },
    "id": "whxj9bbuZkuT",
    "outputId": "3d6c2608-99c6-4da2-a80d-62ec76178b68"
   },
   "outputs": [
    {
     "data": {
      "text/plain": [
       "array([1, 0])"
      ]
     },
     "execution_count": 12,
     "metadata": {},
     "output_type": "execute_result"
    }
   ],
   "source": [
    "dataset[\"target\"].unique()"
   ]
  },
  {
   "cell_type": "code",
   "execution_count": null,
   "metadata": {
    "colab": {
     "base_uri": "https://localhost:8080/"
    },
    "id": "EqcGWgeOZsbK",
    "outputId": "f1c2755a-1504-45d9-ca99-143e2f5da9c4"
   },
   "outputs": [
    {
     "name": "stdout",
     "output_type": "stream",
     "text": [
      "target      1.000000\n",
      "exang       0.436757\n",
      "cp          0.433798\n",
      "oldpeak     0.430696\n",
      "thalach     0.421741\n",
      "ca          0.391724\n",
      "slope       0.345877\n",
      "thal        0.344029\n",
      "sex         0.280937\n",
      "age         0.225439\n",
      "trestbps    0.144931\n",
      "restecg     0.137230\n",
      "chol        0.085239\n",
      "fbs         0.028046\n",
      "Name: target, dtype: float64\n"
     ]
    }
   ],
   "source": [
    "print(dataset.corr()[\"target\"].abs().sort_values(ascending=False))"
   ]
  },
  {
   "cell_type": "markdown",
   "metadata": {
    "id": "QYChZpf0ZxwN"
   },
   "source": [
    "- This shows that most columns are moderately correlated with target, but 'fbs' is very weakly correlated."
   ]
  },
  {
   "cell_type": "code",
   "execution_count": null,
   "metadata": {
    "colab": {
     "base_uri": "https://localhost:8080/",
     "height": 504
    },
    "id": "FShbHNBQZyl9",
    "outputId": "f0fb1787-3989-4188-88cf-82e7d1293b2b"
   },
   "outputs": [
    {
     "name": "stdout",
     "output_type": "stream",
     "text": [
      "1    165\n",
      "0    138\n",
      "Name: target, dtype: int64\n"
     ]
    },
    {
     "data": {
      "image/png": "[encoded data removed]",
      "text/plain": [
       "<Figure size 640x480 with 1 Axes>"
      ]
     },
     "metadata": {},
     "output_type": "display_data"
    }
   ],
   "source": [
    "y = dataset[\"target\"]\n",
    "import seaborn as sns\n",
    "sns.countplot(x=dataset[\"target\"])\n",
    "\n",
    "target_temp = dataset.target.value_counts()\n",
    "\n",
    "print(target_temp)"
   ]
  },
  {
   "cell_type": "code",
   "execution_count": null,
   "metadata": {
    "colab": {
     "base_uri": "https://localhost:8080/"
    },
    "id": "Yf9KO2YHTvHM",
    "outputId": "b68cdcbf-8e8d-4351-df51-467d6f55eb21"
   },
   "outputs": [
    {
     "name": "stdout",
     "output_type": "stream",
     "text": [
      "Mounted at /content/drive\n"
     ]
    }
   ],
   "source": [
    "from google.colab import drive\n",
    "drive.mount('/content/drive')"
   ]
  },
  {
   "cell_type": "code",
   "execution_count": null,
   "metadata": {
    "colab": {
     "base_uri": "https://localhost:8080/"
    },
    "id": "XMFNns1MaEkx",
    "outputId": "21c4924e-13c9-4f07-ff38-4a742f434b2b"
   },
   "outputs": [
    {
     "name": "stdout",
     "output_type": "stream",
     "text": [
      "Percentage of patients without heart problems: 45.54455445544554\n",
      "Percentage of patients with heart problems: 54.45544554455446\n"
     ]
    }
   ],
   "source": [
    "print(\"Percentage of patience without heart problems: \"+str(target_temp[0]*100/303))\n",
    "print(\"Percentage of patience with heart problems: \"+str(target_temp[1]*100/303))"
   ]
  },
  {
   "cell_type": "code",
   "execution_count": null,
   "metadata": {
    "colab": {
     "base_uri": "https://localhost:8080/"
    },
    "id": "-grDqGrbaUuP",
    "outputId": "16a833df-2621-4d7a-b8f0-d791506c2ff9"
   },
   "outputs": [
    {
     "data": {
      "text/plain": [
       "array([1, 0])"
      ]
     },
     "execution_count": 17,
     "metadata": {},
     "output_type": "execute_result"
    }
   ],
   "source": [
    "dataset[\"sex\"].unique()"
   ]
  },
  {
   "cell_type": "markdown",
   "metadata": {
    "id": "p3uAi9U_zZKb"
   },
   "source": [
    "\n",
    "\n",
    "Double click (or enter) to edit\n"
   ]
  },
  {
   "cell_type": "code",
   "execution_count": null,
   "metadata": {
    "colab": {
     "base_uri": "https://localhost:8080/",
     "height": 467
    },
    "id": "lL5KBztkabTo",
    "outputId": "7c62b5be-b7b0-498a-8e1d-1e6537c983dd"
   },
   "outputs": [
    {
     "data": {
      "text/plain": [
       "<Axes: xlabel='sex', ylabel='target'>"
      ]
     },
     "execution_count": 18,
     "metadata": {},
     "output_type": "execute_result"
    },
    {
     "data": {
      "image/png": "[encoded data removed]",
      "text/plain": [
       "<Figure size 640x480 with 1 Axes>"
      ]
     },
     "metadata": {},
     "output_type": "display_data"
    }
   ],
   "source": [
    "import seaborn as sns\n",
    "sns.barplot(x=dataset[\"sex\"],y=y)"
   ]
  },
  {
   "cell_type": "markdown",
   "metadata": {
    "id": "KGuo5dGbajmB"
   },
   "source": [
    "- We notice, that females are more likely to have heart problems than males"
   ]
  },
  {
   "cell_type": "code",
   "execution_count": null,
   "metadata": {
    "colab": {
     "base_uri": "https://localhost:8080/"
    },
    "id": "EOnVj3pAalMo",
    "outputId": "1d2b651c-6787-4c77-b327-369611cf9210"
   },
   "outputs": [
    {
     "data": {
      "text/plain": [
       "array([3, 2, 1, 0])"
      ]
     },
     "execution_count": 19,
     "metadata": {},
     "output_type": "execute_result"
    }
   ],
   "source": [
    "dataset[\"cp\"].unique()"
   ]
  },
  {
   "cell_type": "code",
   "execution_count": null,
   "metadata": {
    "colab": {
     "base_uri": "https://localhost:8080/",
     "height": 467
    },
    "id": "OYOPlexyaxgE",
    "outputId": "5c724f2c-1f20-4705-b473-5306225af684"
   },
   "outputs": [
    {
     "data": {
      "text/plain": [
       "<Axes: xlabel='cp', ylabel='target'>"
      ]
     },
     "execution_count": 20,
     "metadata": {},
     "output_type": "execute_result"
    },
    {
     "data": {
      "image/png": "[encoded data removed]",
      "text/plain": [
       "<Figure size 640x480 with 1 Axes>"
      ]
     },
     "metadata": {},
     "output_type": "display_data"
    }
   ],
   "source": [
    "sns.barplot(x=dataset[\"cp\"],y=y)"
   ]
  },
  {
   "cell_type": "markdown",
   "metadata": {
    "id": "W0ETv1cKa2C5"
   },
   "source": [
    "- We notice that chest pain of '0', i.e. the ones with typical angina are less likely to have heart problems.\n",
    "- The chest pain of '1', i.e. the ones with atypical angina are more likely to have heart problems."
   ]
  },
  {
   "cell_type": "code",
   "execution_count": null,
   "metadata": {
    "colab": {
     "base_uri": "https://localhost:8080/"
    },
    "id": "AifLNmqAbGtW",
    "outputId": "411f9b8c-28ac-466d-cfe8-3e242172d439"
   },
   "outputs": [
    {
     "data": {
      "text/plain": [
       "count    303.000000\n",
       "mean       0.148515\n",
       "std        0.356198\n",
       "min        0.000000\n",
       "25%        0.000000\n",
       "50%        0.000000\n",
       "75%        0.000000\n",
       "max        1.000000\n",
       "Name: fbs, dtype: float64"
      ]
     },
     "execution_count": 21,
     "metadata": {},
     "output_type": "execute_result"
    }
   ],
   "source": [
    "dataset[\"fbs\"].describe()"
   ]
  },
  {
   "cell_type": "code",
   "execution_count": null,
   "metadata": {
    "colab": {
     "base_uri": "https://localhost:8080/"
    },
    "id": "H3RSnHs_bQIZ",
    "outputId": "a07b700c-40ca-493c-ed0d-f5d7adbe7a5b"
   },
   "outputs": [
    {
     "data": {
      "text/plain": [
       "array([1, 0])"
      ]
     },
     "execution_count": 22,
     "metadata": {},
     "output_type": "execute_result"
    }
   ],
   "source": [
    "dataset[\"fbs\"].unique()"
   ]
  },
  {
   "cell_type": "code",
   "execution_count": null,
   "metadata": {
    "colab": {
     "base_uri": "https://localhost:8080/",
     "height": 473
    },
    "id": "5DAt039CbTQf",
    "outputId": "1178058c-02bb-46f5-d4a8-f2dd1f975c3f"
   },
   "outputs": [
    {
     "data": {
      "text/plain": [
       "<Axes: xlabel='fbs', ylabel='target'>"
      ]
     },
     "execution_count": 23,
     "metadata": {},
     "output_type": "execute_result"
    },
    {
     "data": {
      "image/png": "[encoded data removed]",
      "text/plain": [
       "<Figure size 640x480 with 1 Axes>"
      ]
     },
     "metadata": {},
     "output_type": "display_data"
    }
   ],
   "source": [
    "sns.barplot(x=dataset[\"fbs\"],y=y)"
   ]
  },
  {
   "cell_type": "code",
   "execution_count": null,
   "metadata": {
    "colab": {
     "base_uri": "https://localhost:8080/"
    },
    "id": "IC3ujq6OdLfm",
    "outputId": "13b85461-404c-499c-83f7-4bcb66db2760"
   },
   "outputs": [
    {
     "data": {
      "text/plain": [
       "array([0, 1, 2])"
      ]
     },
     "execution_count": 24,
     "metadata": {},
     "output_type": "execute_result"
    }
   ],
   "source": [
    "dataset[\"restecg\"].unique()"
   ]
  },
  {
   "cell_type": "code",
   "execution_count": null,
   "metadata": {
    "colab": {
     "base_uri": "https://localhost:8080/",
     "height": 467
    },
    "id": "vwasmtzZdRVo",
    "outputId": "a1e3b9dd-8d10-45c7-ace7-71371dc2b5a1"
   },
   "outputs": [
    {
     "data": {
      "text/plain": [
       "<Axes: xlabel='restecg', ylabel='target'>"
      ]
     },
     "execution_count": 25,
     "metadata": {},
     "output_type": "execute_result"
    },
    {
     "data": {
      "image/png": "[encoded data removed]",
      "text/plain": [
       "<Figure size 640x480 with 1 Axes>"
      ]
     },
     "metadata": {},
     "output_type": "display_data"
    }
   ],
   "source": [
    "sns.barplot(x=dataset[\"restecg\"],y=y)"
   ]
  },
  {
   "cell_type": "markdown",
   "metadata": {
    "id": "n1d3cTRpdX5l"
   },
   "source": [
    "- We observe that people with restecg '1' and '0' are much more likely to have a heart disease than with restecg '2'"
   ]
  },
  {
   "cell_type": "code",
   "execution_count": null,
   "metadata": {
    "colab": {
     "base_uri": "https://localhost:8080/"
    },
    "id": "eAZWZQT5dfcb",
    "outputId": "bf50709f-1cc4-44b3-fc75-27ab3ce73d0c"
   },
   "outputs": [
    {
     "data": {
      "text/plain": [
       "array([0, 1])"
      ]
     },
     "execution_count": 26,
     "metadata": {},
     "output_type": "execute_result"
    }
   ],
   "source": [
    "dataset[\"exang\"].unique()"
   ]
  },
  {
   "cell_type": "code",
   "execution_count": null,
   "metadata": {
    "colab": {
     "base_uri": "https://localhost:8080/",
     "height": 467
    },
    "id": "pNcZqTbZdmG5",
    "outputId": "0d35ba47-b787-485c-9e53-12dfa57cd716"
   },
   "outputs": [
    {
     "data": {
      "text/plain": [
       "<Axes: xlabel='exang', ylabel='target'>"
      ]
     },
     "execution_count": 27,
     "metadata": {},
     "output_type": "execute_result"
    },
    {
     "data": {
      "image/png": "[encoded data removed]",
      "text/plain": [
       "<Figure size 640x480 with 1 Axes>"
      ]
     },
     "metadata": {},
     "output_type": "display_data"
    }
   ],
   "source": [
    "sns.barplot(x=dataset[\"exang\"],y=y)"
   ]
  },
  {
   "cell_type": "markdown",
   "metadata": {
    "id": "wUsZoDaNdtHC"
   },
   "source": [
    "- People with exang=1 i.e. Exercise induced angina are much less likely to have heart problems"
   ]
  },
  {
   "cell_type": "code",
   "execution_count": null,
   "metadata": {
    "colab": {
     "base_uri": "https://localhost:8080/"
    },
    "id": "QPhZ-3SQd4OK",
    "outputId": "671d070c-a9ce-416b-c4b9-556e3f4eada9"
   },
   "outputs": [
    {
     "data": {
      "text/plain": [
       "array([0, 2, 1])"
      ]
     },
     "execution_count": 28,
     "metadata": {},
     "output_type": "execute_result"
    }
   ],
   "source": [
    "dataset[\"slope\"].unique()"
   ]
  },
  {
   "cell_type": "code",
   "execution_count": null,
   "metadata": {
    "colab": {
     "base_uri": "https://localhost:8080/",
     "height": 467
    },
    "id": "SdDkRssleAr3",
    "outputId": "460c92b0-37dc-47fd-fc96-cf16acf1decf"
   },
   "outputs": [
    {
     "data": {
      "text/plain": [
       "<Axes: xlabel='slope', ylabel='target'>"
      ]
     },
     "execution_count": 29,
     "metadata": {},
     "output_type": "execute_result"
    },
    {
     "data": {
      "image/png": "[encoded data removed]",
      "text/plain": [
       "<Figure size 640x480 with 1 Axes>"
      ]
     },
     "metadata": {},
     "output_type": "display_data"
    }
   ],
   "source": [
    "sns.barplot(x=dataset[\"slope\"],y=y)"
   ]
  },
  {
   "cell_type": "markdown",
   "metadata": {
    "id": "wkZRE4CFeEdQ"
   },
   "source": [
    "- We observe that Slope '2' causes heart pain much more than Slope '0' and '1'"
   ]
  },
  {
   "cell_type": "code",
   "execution_count": null,
   "metadata": {
    "colab": {
     "base_uri": "https://localhost:8080/"
    },
    "id": "JqNCb3CSeIBM",
    "outputId": "40359623-c9cc-489c-f758-17bdc0cb3b32"
   },
   "outputs": [
    {
     "data": {
      "text/plain": [
       "array([0, 2, 1, 3, 4])"
      ]
     },
     "execution_count": 30,
     "metadata": {},
     "output_type": "execute_result"
    }
   ],
   "source": [
    "dataset[\"ca\"].unique()"
   ]
  },
  {
   "cell_type": "code",
   "execution_count": null,
   "metadata": {
    "colab": {
     "base_uri": "https://localhost:8080/",
     "height": 467
    },
    "id": "7h802EFieTmj",
    "outputId": "74eb8f23-7f7e-4870-ab31-25405a066946"
   },
   "outputs": [
    {
     "data": {
      "text/plain": [
       "<Axes: xlabel='ca', ylabel='count'>"
      ]
     },
     "execution_count": 31,
     "metadata": {},
     "output_type": "execute_result"
    },
    {
     "data": {
      "image/png": "[encoded data removed]",
      "text/plain": [
       "<Figure size 640x480 with 1 Axes>"
      ]
     },
     "metadata": {},
     "output_type": "display_data"
    }
   ],
   "source": [
    "sns.countplot(x=dataset[\"ca\"])"
   ]
  },
  {
   "cell_type": "code",
   "execution_count": null,
   "metadata": {
    "colab": {
     "base_uri": "https://localhost:8080/",
     "height": 467
    },
    "id": "8JyeRCKoebDY",
    "outputId": "19e876f7-5a0d-4e27-e485-fc11386f5c7b"
   },
   "outputs": [
    {
     "data": {
      "text/plain": [
       "<Axes: xlabel='ca', ylabel='target'>"
      ]
     },
     "execution_count": 32,
     "metadata": {},
     "output_type": "execute_result"
    },
    {
     "data": {
      "image/png": "[encoded data removed]",
      "text/plain": [
       "<Figure size 640x480 with 1 Axes>"
      ]
     },
     "metadata": {},
     "output_type": "display_data"
    }
   ],
   "source": [
    "sns.barplot(x=dataset[\"ca\"],y=y)"
   ]
  },
  {
   "cell_type": "markdown",
   "metadata": {
    "id": "_NkhjRIRekyZ"
   },
   "source": [
    "- ca=4 has large number of heart patients"
   ]
  },
  {
   "cell_type": "code",
   "execution_count": null,
   "metadata": {
    "colab": {
     "base_uri": "https://localhost:8080/"
    },
    "id": "Y4lMhFsMenoj",
    "outputId": "77233456-c481-4af1-c8d0-4e0b96f90ec1"
   },
   "outputs": [
    {
     "data": {
      "text/plain": [
       "array([1, 2, 3, 0])"
      ]
     },
     "execution_count": 33,
     "metadata": {},
     "output_type": "execute_result"
    }
   ],
   "source": [
    "dataset[\"thal\"].unique()"
   ]
  },
  {
   "cell_type": "code",
   "execution_count": null,
   "metadata": {
    "colab": {
     "base_uri": "https://localhost:8080/",
     "height": 467
    },
    "id": "kSIRTNTZe2k3",
    "outputId": "d13bffa2-b734-479c-87c3-10c5511686b6"
   },
   "outputs": [
    {
     "data": {
      "text/plain": [
       "<Axes: xlabel='thal', ylabel='target'>"
      ]
     },
     "execution_count": 34,
     "metadata": {},
     "output_type": "execute_result"
    },
    {
     "data": {
      "image/png": "[encoded data removed]",
      "text/plain": [
       "<Figure size 640x480 with 1 Axes>"
      ]
     },
     "metadata": {},
     "output_type": "display_data"
    }
   ],
   "source": [
    "sns.barplot(x=dataset[\"thal\"],y=y)"
   ]
  },
  {
   "cell_type": "code",
   "execution_count": null,
   "metadata": {
    "colab": {
     "base_uri": "https://localhost:8080/",
     "height": 448
    },
    "id": "99UWgRXpe7CT",
    "outputId": "4589b9c8-ac27-4bf5-e5aa-84463a825c32"
   },
   "outputs": [
    {
     "data": {
      "text/plain": [
       "<Axes: ylabel='Density'>"
      ]
     },
     "execution_count": 35,
     "metadata": {},
     "output_type": "execute_result"
    },
    {
     "data": {
      "image/png": "[encoded data removed]",
      "text/plain": [
       "<Figure size 640x480 with 1 Axes>"
      ]
     },
     "metadata": {},
     "output_type": "display_data"
    }
   ],
   "source": [
    "sns.distplot(x=dataset[\"thal\"])"
   ]
  },
  {
   "cell_type": "markdown",
   "metadata": {
    "id": "K7Tv9uBzfHun"
   },
   "source": [
    "# **Train Test split**"
   ]
  },
  {
   "cell_type": "code",
   "execution_count": null,
   "metadata": {
    "id": "qYWqQaKPfQpr"
   },
   "outputs": [],
   "source": [
    "predictors = dataset.drop(\"target\",axis=1)\n",
    "target = dataset[\"target\"]\n",
    "\n",
    "X_train,X_test,Y_train,Y_test = train_test_split(predictors,target,test_size=0.20,random_state=0)"
   ]
  },
  {
   "cell_type": "code",
   "execution_count": null,
   "metadata": {
    "colab": {
     "base_uri": "https://localhost:8080/"
    },
    "id": "aDNaopVifYl2",
    "outputId": "bd6189df-130b-47b7-c028-0e3406189a85"
   },
   "outputs": [
    {
     "data": {
      "text/plain": [
       "(242, 13)"
      ]
     },
     "execution_count": 37,
     "metadata": {},
     "output_type": "execute_result"
    }
   ],
   "source": [
    "X_train.shape"
   ]
  },
  {
   "cell_type": "code",
   "execution_count": null,
   "metadata": {
    "colab": {
     "base_uri": "https://localhost:8080/"
    },
    "id": "3sUvyelFfcDD",
    "outputId": "afd74d63-2f6a-4e67-ae86-d3369e8e2306"
   },
   "outputs": [
    {
     "data": {
      "text/plain": [
       "(61, 13)"
      ]
     },
     "execution_count": 38,
     "metadata": {},
     "output_type": "execute_result"
    }
   ],
   "source": [
    "X_test.shape"
   ]
  },
  {
   "cell_type": "code",
   "execution_count": null,
   "metadata": {
    "colab": {
     "base_uri": "https://localhost:8080/"
    },
    "id": "SJK-Q4G0fkE7",
    "outputId": "dd85ae57-7b7d-4d77-b401-bb07c698c86e"
   },
   "outputs": [
    {
     "data": {
      "text/plain": [
       "(242,)"
      ]
     },
     "execution_count": 39,
     "metadata": {},
     "output_type": "execute_result"
    }
   ],
   "source": [
    "Y_train.shape"
   ]
  },
  {
   "cell_type": "code",
   "execution_count": null,
   "metadata": {
    "colab": {
     "base_uri": "https://localhost:8080/"
    },
    "id": "SiUVwyBmfnEz",
    "outputId": "112a1968-463c-49d3-e3fb-aa99b40a9cf4"
   },
   "outputs": [
    {
     "data": {
      "text/plain": [
       "(61,)"
      ]
     },
     "execution_count": 40,
     "metadata": {},
     "output_type": "execute_result"
    }
   ],
   "source": [
    "Y_test.shape"
   ]
  },
  {
   "cell_type": "markdown",
   "metadata": {
    "id": "Yt-nHR0wfz7C"
   },
   "source": [
    "# **Model Fitting**"
   ]
  },
  {
   "cell_type": "markdown",
   "metadata": {
    "id": "tjzGJWSngjjq"
   },
   "source": [
    "# Logistic Regression"
   ]
  },
  {
   "cell_type": "code",
   "execution_count": null,
   "metadata": {
    "id": "k8Rf30c8f4G9"
   },
   "outputs": [],
   "source": [
    "lr = LogisticRegression()\n",
    "\n",
    "lr.fit(X_train,Y_train)\n",
    "\n",
    "Y_pred_lr = lr.predict(X_test)"
   ]
  },
  {
   "cell_type": "code",
   "execution_count": null,
   "metadata": {
    "colab": {
     "base_uri": "https://localhost:8080/"
    },
    "id": "7jRLTGp5gqnn",
    "outputId": "55075b2d-88e9-496e-96c9-70cfad8f6693"
   },
   "outputs": [
    {
     "data": {
      "text/plain": [
       "(61,)"
      ]
     },
     "execution_count": 42,
     "metadata": {},
     "output_type": "execute_result"
    }
   ],
   "source": [
    "Y_pred_lr.shape"
   ]
  },
  {
   "cell_type": "code",
   "execution_count": null,
   "metadata": {
    "colab": {
     "base_uri": "https://localhost:8080/"
    },
    "id": "TBDrccgpgt7y",
    "outputId": "fd1ed215-ef4b-484d-a8cb-3b84a1850597"
   },
   "outputs": [
    {
     "name": "stdout",
     "output_type": "stream",
     "text": [
      "The accuracy score achieved using Logistic Regression is: 85.25 %\n"
     ]
    }
   ],
   "source": [
    "score_lr = round(accuracy_score(Y_pred_lr,Y_test)*100,2)\n",
    "\n",
    "print(\"The accuracy score achieved using Logistic Regression is: \"+str(score_lr)+\" %\")"
   ]
  },
  {
   "cell_type": "markdown",
   "metadata": {
    "id": "G_JL4icpgxjm"
   },
   "source": [
    "# Naive Bayes"
   ]
  },
  {
   "cell_type": "code",
   "execution_count": null,
   "metadata": {
    "id": "URNhyQuCgzmg"
   },
   "outputs": [],
   "source": [
    "nb = GaussianNB()\n",
    "nb.fit(X_train,Y_train)\n",
    "\n",
    "Y_pred_nb = nb.predict(X_test)"
   ]
  },
  {
   "cell_type": "code",
   "execution_count": null,
   "metadata": {
    "colab": {
     "base_uri": "https://localhost:8080/"
    },
    "id": "auYjViR6g3Nj",
    "outputId": "e147b898-934d-46ec-d2ea-e307fe67da76"
   },
   "outputs": [
    {
     "data": {
      "text/plain": [
       "(61,)"
      ]
     },
     "execution_count": 45,
     "metadata": {},
     "output_type": "execute_result"
    }
   ],
   "source": [
    "Y_pred_nb.shape"
   ]
  },
  {
   "cell_type": "code",
   "execution_count": null,
   "metadata": {
    "colab": {
     "base_uri": "https://localhost:8080/"
    },
    "id": "ALSbzt1cg6o4",
    "outputId": "5a1f04f9-491a-430a-a6c1-7c960562470a"
   },
   "outputs": [
    {
     "name": "stdout",
     "output_type": "stream",
     "text": [
      "The accuracy score achieved using Naive Bayes is: 85.25 %\n"
     ]
    }
   ],
   "source": [
    "score_nb = round(accuracy_score(Y_pred_nb,Y_test)*100,2)\n",
    "\n",
    "print(\"The accuracy score achieved using Naive Bayes is: \"+str(score_nb)+\" %\")"
   ]
  },
  {
   "cell_type": "markdown",
   "metadata": {
    "id": "ZDffhTsKg94i"
   },
   "source": [
    "# SVM"
   ]
  },
  {
   "cell_type": "code",
   "execution_count": null,
   "metadata": {
    "id": "D8EErsn4g_6X"
   },
   "outputs": [],
   "source": [
    "sv = svm.SVC(kernel='linear')\n",
    "\n",
    "sv.fit(X_train, Y_train)\n",
    "\n",
    "Y_pred_svm = sv.predict(X_test)"
   ]
  },
  {
   "cell_type": "code",
   "execution_count": null,
   "metadata": {
    "colab": {
     "base_uri": "https://localhost:8080/"
    },
    "id": "ahyuDlCWhDGG",
    "outputId": "19e2832a-da48-480b-e19f-380c0738f1ea"
   },
   "outputs": [
    {
     "data": {
      "text/plain": [
       "(61,)"
      ]
     },
     "execution_count": 48,
     "metadata": {},
     "output_type": "execute_result"
    }
   ],
   "source": [
    "Y_pred_svm.shape"
   ]
  },
  {
   "cell_type": "code",
   "execution_count": null,
   "metadata": {
    "colab": {
     "base_uri": "https://localhost:8080/"
    },
    "id": "WrwV6aighGHU",
    "outputId": "ba88c500-3ee9-479e-83be-def232eda995"
   },
   "outputs": [
    {
     "name": "stdout",
     "output_type": "stream",
     "text": [
      "The accuracy score achieved using Linear SVM is: 81.97 %\n"
     ]
    }
   ],
   "source": [
    "score_svm = round(accuracy_score(Y_pred_svm,Y_test)*100,2)\n",
    "\n",
    "print(\"The accuracy score achieved using Linear SVM is: \"+str(score_svm)+\" %\")"
   ]
  },
  {
   "cell_type": "markdown",
   "metadata": {
    "id": "PLd2hbmPhJnQ"
   },
   "source": [
    "# K Nearest Neighbours"
   ]
  },
  {
   "cell_type": "code",
   "execution_count": null,
   "metadata": {
    "id": "oDAwJYJdhMkW"
   },
   "outputs": [],
   "source": [
    "knn = KNeighborsClassifier(n_neighbors=7)\n",
    "\n",
    "knn.fit(X_train,Y_train)\n",
    "\n",
    "Y_pred_knn=knn.predict(X_test)"
   ]
  },
  {
   "cell_type": "code",
   "execution_count": null,
   "metadata": {
    "colab": {
     "base_uri": "https://localhost:8080/"
    },
    "id": "lmAnXDOUhQiR",
    "outputId": "188fd3da-d020-4378-8b4a-d2cabc9ddada"
   },
   "outputs": [
    {
     "data": {
      "text/plain": [
       "(61,)"
      ]
     },
     "execution_count": 51,
     "metadata": {},
     "output_type": "execute_result"
    }
   ],
   "source": [
    "Y_pred_knn.shape"
   ]
  },
  {
   "cell_type": "code",
   "execution_count": null,
   "metadata": {
    "colab": {
     "base_uri": "https://localhost:8080/"
    },
    "id": "DQGY-Y_fhT4a",
    "outputId": "a37b90cc-852b-401f-b814-032cab54e7a8"
   },
   "outputs": [
    {
     "name": "stdout",
     "output_type": "stream",
     "text": [
      "The accuracy score achieved using KNN is: 67.21 %\n"
     ]
    }
   ],
   "source": [
    "score_knn = round(accuracy_score(Y_pred_knn,Y_test)*100,2)\n",
    "print(\"The accuracy score achieved using KNN is: \"+str(score_knn)+\" %\")"
   ]
  },
  {
   "cell_type": "markdown",
   "metadata": {
    "id": "UAVPUlakhW-D"
   },
   "source": [
    "# Decision Tree"
   ]
  },
  {
   "cell_type": "code",
   "execution_count": null,
   "metadata": {
    "id": "UOe4A_L4hY_i"
   },
   "outputs": [],
   "source": [
    "max_accuracy = 0\n",
    "\n",
    "\n",
    "for x in range(200):\n",
    "    dt = DecisionTreeClassifier(random_state=x)\n",
    "    dt.fit(X_train,Y_train)\n",
    "    Y_pred_dt = dt.predict(X_test)\n",
    "    current_accuracy = round(accuracy_score(Y_pred_dt,Y_test)*100,2)\n",
    "    if(current_accuracy>max_accuracy):\n",
    "        max_accuracy = current_accuracy\n",
    "        best_x = x\n",
    "\n",
    "dt = DecisionTreeClassifier(random_state=best_x)\n",
    "dt.fit(X_train,Y_train)\n",
    "Y_pred_dt = dt.predict(X_test)"
   ]
  },
  {
   "cell_type": "code",
   "execution_count": null,
   "metadata": {
    "colab": {
     "base_uri": "https://localhost:8080/"
    },
    "id": "L0uPrpG7hcoy",
    "outputId": "40985bc0-5222-47d9-bf9d-719c7f978b88"
   },
   "outputs": [
    {
     "name": "stdout",
     "output_type": "stream",
     "text": [
      "(61,)\n"
     ]
    }
   ],
   "source": [
    "print(Y_pred_dt.shape)"
   ]
  },
  {
   "cell_type": "code",
   "execution_count": null,
   "metadata": {
    "colab": {
     "base_uri": "https://localhost:8080/"
    },
    "id": "0OTrpVB3hfKf",
    "outputId": "f61a5996-fb3e-4d5c-aaa5-9a76057353b4"
   },
   "outputs": [
    {
     "name": "stdout",
     "output_type": "stream",
     "text": [
      "The accuracy score achieved using Decision Tree is: 81.97 %\n"
     ]
    }
   ],
   "source": [
    "score_dt = round(accuracy_score(Y_pred_dt,Y_test)*100,2)\n",
    "\n",
    "print(\"The accuracy score achieved using Decision Tree is: \"+str(score_dt)+\" %\")"
   ]
  },
  {
   "cell_type": "markdown",
   "metadata": {
    "id": "Q7oez6FJhiRx"
   },
   "source": [
    "# Random Forest"
   ]
  },
  {
   "cell_type": "code",
   "execution_count": null,
   "metadata": {
    "colab": {
     "base_uri": "https://localhost:8080/"
    },
    "id": "5t8DZlpNhk4o",
    "outputId": "cac9c64b-868c-4f4d-b753-821d2f62d0a2"
   },
   "outputs": [
    {
     "name": "stdout",
     "output_type": "stream",
     "text": [
      "90.16\n",
      "323\n"
     ]
    }
   ],
   "source": [
    "max_accuracy = 0\n",
    "from sklearn.ensemble import RandomForestClassifier\n",
    "for x in range(1000):\n",
    "    rf = RandomForestClassifier(random_state=x)\n",
    "    rf.fit(X_train,Y_train)\n",
    "    Y_pred_rf = rf.predict(X_test)\n",
    "    current_accuracy = round(accuracy_score(Y_pred_rf,Y_test)*100,2)\n",
    "    if(current_accuracy>max_accuracy):\n",
    "        max_accuracy = current_accuracy\n",
    "        best_x = x\n",
    "\n",
    "print(max_accuracy)\n",
    "print(best_x)\n",
    "\n",
    "rf = RandomForestClassifier(random_state=best_x)\n",
    "rf.fit(X_train,Y_train)\n",
    "Y_pred_rf = rf.predict(X_test)"
   ]
  },
  {
   "cell_type": "code",
   "execution_count": null,
   "metadata": {
    "colab": {
     "base_uri": "https://localhost:8080/"
    },
    "id": "yBzjkSabjPhI",
    "outputId": "d16310e9-d412-48d1-df68-43d759ea4332"
   },
   "outputs": [
    {
     "data": {
      "text/plain": [
       "(61,)"
      ]
     },
     "execution_count": 57,
     "metadata": {},
     "output_type": "execute_result"
    }
   ],
   "source": [
    "Y_pred_rf.shape"
   ]
  },
  {
   "cell_type": "code",
   "execution_count": null,
   "metadata": {
    "colab": {
     "base_uri": "https://localhost:8080/"
    },
    "id": "SzDgJmA7jSon",
    "outputId": "db8f8dfa-d07f-4279-c604-88ccd003c8cd"
   },
   "outputs": [
    {
     "name": "stdout",
     "output_type": "stream",
     "text": [
      "The accuracy score achieved using Random Forest is: 90.16 %\n"
     ]
    }
   ],
   "source": [
    "score_rf = round(accuracy_score(Y_pred_rf,Y_test)*100,2)\n",
    "\n",
    "print(\"The accuracy score achieved using Random Forest is: \"+str(score_rf)+\" %\")"
   ]
  },
  {
   "cell_type": "markdown",
   "metadata": {
    "id": "gmaMyGJCDfSg"
   },
   "source": [
    "**XG** **BOOST**\n",
    "# New Section"
   ]
  },
  {
   "cell_type": "code",
   "execution_count": null,
   "metadata": {
    "id": "2AQm4G43jWQ0"
   },
   "outputs": [],
   "source": [
    "xgb_model = xgb.XGBClassifier(objective=\"binary:logistic\", random_state=42)\n",
    "\n",
    "xgb_model.fit(X_train, Y_train)\n",
    "\n",
    "Y_pred_xgb = xgb_model.predict(X_test)"
   ]
  },
  {
   "cell_type": "code",
   "execution_count": null,
   "metadata": {
    "colab": {
     "base_uri": "https://localhost:8080/"
    },
    "id": "511usuWDj-56",
    "outputId": "147a6c9d-40ec-4a39-8c86-d507ed441f1f"
   },
   "outputs": [
    {
     "data": {
      "text/plain": [
       "(61,)"
      ]
     },
     "execution_count": 60,
     "metadata": {},
     "output_type": "execute_result"
    }
   ],
   "source": [
    "Y_pred_xgb.shape"
   ]
  },
  {
   "cell_type": "code",
   "execution_count": null,
   "metadata": {
    "colab": {
     "base_uri": "https://localhost:8080/"
    },
    "id": "0LAejWl8kBir",
    "outputId": "a2cdb1fc-3709-45c1-d9b7-b00bdedbc9b2"
   },
   "outputs": [
    {
     "name": "stdout",
     "output_type": "stream",
     "text": [
      "The accuracy score achieved using XGBoost is: 78.69 %\n"
     ]
    }
   ],
   "source": [
    "score_xgb = round(accuracy_score(Y_pred_xgb,Y_test)*100,2)\n",
    "\n",
    "print(\"The accuracy score achieved using XGBoost is: \"+str(score_xgb)+\" %\")"
   ]
  },
  {
   "cell_type": "markdown",
   "metadata": {
    "id": "yj2fvRA8kHry"
   },
   "source": [
    "# Neural Network"
   ]
  },
  {
   "cell_type": "code",
   "execution_count": null,
   "metadata": {
    "id": "HOBVF9yckKfX"
   },
   "outputs": [],
   "source": [
    "model = Sequential()\n",
    "model.add(Dense(11,activation='relu',input_dim=13))\n",
    "model.add(Dense(1,activation='sigmoid'))\n",
    "\n",
    "model.compile(loss='binary_crossentropy',optimizer='adam',metrics=['accuracy'])"
   ]
  },
  {
   "cell_type": "code",
   "execution_count": null,
   "metadata": {
    "colab": {
     "base_uri": "https://localhost:8080/"
    },
    "id": "gxM0tubokN0-",
    "outputId": "460ead8a-76bf-4c3d-a503-221bca20ff20"
   },
   "outputs": [
    {
     "name": "stdout",
     "output_type": "stream",
     "text": [
      "Epoch 1/1000\n",
      "8/8 [==============================] - 1s 4ms/step - loss: 41.8010 - accuracy: 0.4587\n",
      "Epoch 2/1000\n",
      "8/8 [==============================] - 0s 2ms/step - loss: 35.8412 - accuracy: 0.4587\n",
      "Epoch 3/1000\n",
      "8/8 [==============================] - 0s 2ms/step - loss: 29.3822 - accuracy: 0.4628\n",
      "Epoch 4/1000\n",
      "8/8 [==============================] - 0s 3ms/step - loss: 23.1164 - accuracy: 0.4628\n",
      "Epoch 5/1000\n",
      "8/8 [==============================] - 0s 3ms/step - loss: 16.4914 - accuracy: 0.4628\n",
      "Epoch 6/1000\n",
      "8/8 [==============================] - 0s 3ms/step - loss: 10.4214 - accuracy: 0.4380\n",
      "Epoch 7/1000\n",
      "8/8 [==============================] - 0s 2ms/step - loss: 4.9618 - accuracy: 0.3926\n",
      "Epoch 8/1000\n",
      "8/8 [==============================] - 0s 3ms/step - loss: 3.9983 - accuracy: 0.4091\n",
      "Epoch 9/1000\n",
      "8/8 [==============================] - 0s 2ms/step - loss: 4.4383 - accuracy: 0.4421\n",
      "Epoch 10/1000\n",
      "8/8 [==============================] - 0s 3ms/step - loss: 3.6666 - accuracy: 0.4050\n",
      "Epoch 11/1000\n",
      "8/8 [==============================] - 0s 3ms/step - loss: 3.3908 - accuracy: 0.3636\n",
      "Epoch 12/1000\n",
      "8/8 [==============================] - 0s 3ms/step - loss: 3.2245 - accuracy: 0.3595\n",
      "Epoch 13/1000\n",
      "8/8 [==============================] - 0s 3ms/step - loss: 3.0056 - accuracy: 0.3802\n",
      "Epoch 14/1000\n",
      "8/8 [==============================] - 0s 3ms/step - loss: 2.8062 - accuracy: 0.3884\n",
      "Epoch 15/1000\n",
      "8/8 [==============================] - 0s 3ms/step - loss: 2.6565 - accuracy: 0.3926\n",
      "Epoch 16/1000\n",
      "8/8 [==============================] - 0s 2ms/step - loss: 2.5002 - accuracy: 0.4091\n",
      "Epoch 17/1000\n",
      "8/8 [==============================] - 0s 3ms/step - loss: 2.3581 - accuracy: 0.4174\n",
      "Epoch 18/1000\n",
      "8/8 [==============================] - 0s 3ms/step - loss: 2.2604 - accuracy: 0.4298\n",
      "Epoch 19/1000\n",
      "8/8 [==============================] - 0s 3ms/step - loss: 2.1625 - accuracy: 0.4380\n",
      "Epoch 20/1000\n",
      "8/8 [==============================] - 0s 3ms/step - loss: 2.0532 - accuracy: 0.4463\n",
      "Epoch 21/1000\n",
      "8/8 [==============================] - 0s 3ms/step - loss: 1.9692 - accuracy: 0.4421\n",
      "Epoch 22/1000\n",
      "8/8 [==============================] - 0s 3ms/step - loss: 1.9069 - accuracy: 0.4793\n",
      "Epoch 23/1000\n",
      "8/8 [==============================] - 0s 2ms/step - loss: 1.8328 - accuracy: 0.4835\n",
      "Epoch 24/1000\n",
      "8/8 [==============================] - 0s 3ms/step - loss: 1.7924 - accuracy: 0.4917\n",
      "Epoch 25/1000\n",
      "8/8 [==============================] - 0s 3ms/step - loss: 1.6979 - accuracy: 0.4835\n",
      "Epoch 26/1000\n",
      "8/8 [==============================] - 0s 3ms/step - loss: 1.6518 - accuracy: 0.4917\n",
      "Epoch 27/1000\n",
      "8/8 [==============================] - 0s 2ms/step - loss: 1.5870 - accuracy: 0.5041\n",
      "Epoch 28/1000\n",
      "8/8 [==============================] - 0s 2ms/step - loss: 1.5227 - accuracy: 0.5041\n",
      "Epoch 29/1000\n",
      "8/8 [==============================] - 0s 3ms/step - loss: 1.4906 - accuracy: 0.5083\n",
      "Epoch 30/1000\n",
      "8/8 [==============================] - 0s 2ms/step - loss: 1.4367 - accuracy: 0.5207\n",
      "Epoch 31/1000\n",
      "8/8 [==============================] - 0s 2ms/step - loss: 1.4020 - accuracy: 0.5289\n",
      "Epoch 32/1000\n",
      "8/8 [==============================] - 0s 3ms/step - loss: 1.3739 - accuracy: 0.5413\n",
      "Epoch 33/1000\n",
      "8/8 [==============================] - 0s 4ms/step - loss: 1.3405 - accuracy: 0.5413\n",
      "Epoch 34/1000\n",
      "8/8 [==============================] - 0s 2ms/step - loss: 1.2914 - accuracy: 0.5496\n",
      "Epoch 35/1000\n",
      "8/8 [==============================] - 0s 3ms/step - loss: 1.2520 - accuracy: 0.5455\n",
      "Epoch 36/1000\n",
      "8/8 [==============================] - 0s 2ms/step - loss: 1.2306 - accuracy: 0.5661\n",
      "Epoch 37/1000\n",
      "8/8 [==============================] - 0s 2ms/step - loss: 1.2349 - accuracy: 0.5785\n",
      "Epoch 38/1000\n",
      "8/8 [==============================] - 0s 2ms/step - loss: 1.1729 - accuracy: 0.5826\n",
      "Epoch 39/1000\n",
      "8/8 [==============================] - 0s 4ms/step - loss: 1.1341 - accuracy: 0.5785\n",
      "Epoch 40/1000\n",
      "8/8 [==============================] - 0s 2ms/step - loss: 1.1087 - accuracy: 0.5992\n",
      "Epoch 41/1000\n",
      "8/8 [==============================] - 0s 2ms/step - loss: 1.0822 - accuracy: 0.5868\n",
      "Epoch 42/1000\n",
      "8/8 [==============================] - 0s 3ms/step - loss: 1.0440 - accuracy: 0.5909\n",
      "Epoch 43/1000\n",
      "8/8 [==============================] - 0s 2ms/step - loss: 1.0345 - accuracy: 0.6198\n",
      "Epoch 44/1000\n",
      "8/8 [==============================] - 0s 3ms/step - loss: 1.0231 - accuracy: 0.6116\n",
      "Epoch 45/1000\n",
      "8/8 [==============================] - 0s 2ms/step - loss: 0.9794 - accuracy: 0.6198\n",
      "Epoch 46/1000\n",
      "8/8 [==============================] - 0s 3ms/step - loss: 0.9726 - accuracy: 0.6446\n",
      "Epoch 47/1000\n",
      "8/8 [==============================] - 0s 3ms/step - loss: 0.9828 - accuracy: 0.6033\n",
      "Epoch 48/1000\n",
      "8/8 [==============================] - 0s 2ms/step - loss: 0.9293 - accuracy: 0.6529\n",
      "Epoch 49/1000\n",
      "8/8 [==============================] - 0s 3ms/step - loss: 0.9996 - accuracy: 0.5909\n",
      "Epoch 50/1000\n",
      "8/8 [==============================] - 0s 3ms/step - loss: 0.9562 - accuracy: 0.6694\n",
      "Epoch 51/1000\n",
      "8/8 [==============================] - 0s 3ms/step - loss: 0.8611 - accuracy: 0.6653\n",
      "Epoch 52/1000\n",
      "8/8 [==============================] - 0s 3ms/step - loss: 0.8652 - accuracy: 0.6488\n",
      "Epoch 53/1000\n",
      "8/8 [==============================] - 0s 3ms/step - loss: 0.8418 - accuracy: 0.6570\n",
      "Epoch 54/1000\n",
      "8/8 [==============================] - 0s 3ms/step - loss: 0.8234 - accuracy: 0.6488\n",
      "Epoch 55/1000\n",
      "8/8 [==============================] - 0s 3ms/step - loss: 0.8128 - accuracy: 0.6612\n",
      "Epoch 56/1000\n",
      "8/8 [==============================] - 0s 3ms/step - loss: 0.8004 - accuracy: 0.6694\n",
      "Epoch 57/1000\n",
      "8/8 [==============================] - 0s 3ms/step - loss: 0.7817 - accuracy: 0.6653\n",
      "Epoch 58/1000\n",
      "8/8 [==============================] - 0s 3ms/step - loss: 0.7750 - accuracy: 0.6694\n",
      "Epoch 59/1000\n",
      "8/8 [==============================] - 0s 3ms/step - loss: 0.7579 - accuracy: 0.6818\n",
      "Epoch 60/1000\n",
      "8/8 [==============================] - 0s 3ms/step - loss: 0.7614 - accuracy: 0.6694\n",
      "Epoch 61/1000\n",
      "8/8 [==============================] - 0s 3ms/step - loss: 0.7561 - accuracy: 0.7066\n",
      "Epoch 62/1000\n",
      "8/8 [==============================] - 0s 3ms/step - loss: 0.7387 - accuracy: 0.6694\n",
      "Epoch 63/1000\n",
      "8/8 [==============================] - 0s 3ms/step - loss: 0.7220 - accuracy: 0.7025\n",
      "Epoch 64/1000\n",
      "8/8 [==============================] - 0s 3ms/step - loss: 0.6974 - accuracy: 0.7025\n",
      "Epoch 65/1000\n",
      "8/8 [==============================] - 0s 3ms/step - loss: 0.7023 - accuracy: 0.6818\n",
      "Epoch 66/1000\n",
      "8/8 [==============================] - 0s 4ms/step - loss: 0.6939 - accuracy: 0.7025\n",
      "Epoch 67/1000\n",
      "8/8 [==============================] - 0s 4ms/step - loss: 0.6799 - accuracy: 0.6942\n",
      "Epoch 68/1000\n",
      "8/8 [==============================] - 0s 3ms/step - loss: 0.6631 - accuracy: 0.7025\n",
      "Epoch 69/1000\n",
      "8/8 [==============================] - 0s 3ms/step - loss: 0.6629 - accuracy: 0.6901\n",
      "Epoch 70/1000\n",
      "8/8 [==============================] - 0s 3ms/step - loss: 0.6431 - accuracy: 0.7066\n",
      "Epoch 71/1000\n",
      "8/8 [==============================] - 0s 3ms/step - loss: 0.6399 - accuracy: 0.7149\n",
      "Epoch 72/1000\n",
      "8/8 [==============================] - 0s 3ms/step - loss: 0.6276 - accuracy: 0.7231\n",
      "Epoch 73/1000\n",
      "8/8 [==============================] - 0s 3ms/step - loss: 0.6232 - accuracy: 0.7231\n",
      "Epoch 74/1000\n",
      "8/8 [==============================] - 0s 3ms/step - loss: 0.6223 - accuracy: 0.7397\n",
      "Epoch 75/1000\n",
      "8/8 [==============================] - 0s 3ms/step - loss: 0.6186 - accuracy: 0.7149\n",
      "Epoch 76/1000\n",
      "8/8 [==============================] - 0s 3ms/step - loss: 0.6121 - accuracy: 0.7479\n",
      "Epoch 77/1000\n",
      "8/8 [==============================] - 0s 2ms/step - loss: 0.5966 - accuracy: 0.7355\n",
      "Epoch 78/1000\n",
      "8/8 [==============================] - 0s 3ms/step - loss: 0.5922 - accuracy: 0.7314\n",
      "Epoch 79/1000\n",
      "8/8 [==============================] - 0s 3ms/step - loss: 0.5856 - accuracy: 0.7231\n",
      "Epoch 80/1000\n",
      "8/8 [==============================] - 0s 3ms/step - loss: 0.5764 - accuracy: 0.7479\n",
      "Epoch 81/1000\n",
      "8/8 [==============================] - 0s 3ms/step - loss: 0.5800 - accuracy: 0.7562\n",
      "Epoch 82/1000\n",
      "8/8 [==============================] - 0s 3ms/step - loss: 0.6182 - accuracy: 0.7107\n",
      "Epoch 83/1000\n",
      "8/8 [==============================] - 0s 3ms/step - loss: 0.5946 - accuracy: 0.7397\n",
      "Epoch 84/1000\n",
      "8/8 [==============================] - 0s 3ms/step - loss: 0.5663 - accuracy: 0.7355\n",
      "Epoch 85/1000\n",
      "8/8 [==============================] - 0s 3ms/step - loss: 0.5404 - accuracy: 0.7603\n",
      "Epoch 86/1000\n",
      "8/8 [==============================] - 0s 2ms/step - loss: 0.5444 - accuracy: 0.7562\n",
      "Epoch 87/1000\n",
      "8/8 [==============================] - 0s 2ms/step - loss: 0.5408 - accuracy: 0.7603\n",
      "Epoch 88/1000\n",
      "8/8 [==============================] - 0s 3ms/step - loss: 0.5342 - accuracy: 0.7603\n",
      "Epoch 89/1000\n",
      "8/8 [==============================] - 0s 3ms/step - loss: 0.5266 - accuracy: 0.7479\n",
      "Epoch 90/1000\n",
      "8/8 [==============================] - 0s 2ms/step - loss: 0.5233 - accuracy: 0.7603\n",
      "Epoch 91/1000\n",
      "8/8 [==============================] - 0s 3ms/step - loss: 0.5280 - accuracy: 0.7521\n",
      "Epoch 92/1000\n",
      "8/8 [==============================] - 0s 3ms/step - loss: 0.5109 - accuracy: 0.7727\n",
      "Epoch 93/1000\n",
      "8/8 [==============================] - 0s 4ms/step - loss: 0.5102 - accuracy: 0.7645\n",
      "Epoch 94/1000\n",
      "8/8 [==============================] - 0s 3ms/step - loss: 0.5218 - accuracy: 0.7521\n",
      "Epoch 95/1000\n",
      "8/8 [==============================] - 0s 3ms/step - loss: 0.5228 - accuracy: 0.7562\n",
      "Epoch 96/1000\n",
      "8/8 [==============================] - 0s 3ms/step - loss: 0.5089 - accuracy: 0.7686\n",
      "Epoch 97/1000\n",
      "8/8 [==============================] - 0s 3ms/step - loss: 0.5069 - accuracy: 0.7810\n",
      "Epoch 98/1000\n",
      "8/8 [==============================] - 0s 2ms/step - loss: 0.4915 - accuracy: 0.7893\n",
      "Epoch 99/1000\n",
      "8/8 [==============================] - 0s 3ms/step - loss: 0.4915 - accuracy: 0.7851\n",
      "Epoch 100/1000\n",
      "8/8 [==============================] - 0s 3ms/step - loss: 0.4898 - accuracy: 0.7810\n",
      "Epoch 101/1000\n",
      "8/8 [==============================] - 0s 4ms/step - loss: 0.5312 - accuracy: 0.7479\n",
      "Epoch 102/1000\n",
      "8/8 [==============================] - 0s 3ms/step - loss: 0.5052 - accuracy: 0.7893\n",
      "Epoch 103/1000\n",
      "8/8 [==============================] - 0s 3ms/step - loss: 0.4804 - accuracy: 0.7686\n",
      "Epoch 104/1000\n",
      "8/8 [==============================] - 0s 3ms/step - loss: 0.4728 - accuracy: 0.7893\n",
      "Epoch 105/1000\n",
      "8/8 [==============================] - 0s 3ms/step - loss: 0.4625 - accuracy: 0.7975\n",
      "Epoch 106/1000\n",
      "8/8 [==============================] - 0s 3ms/step - loss: 0.4574 - accuracy: 0.8017\n",
      "Epoch 107/1000\n",
      "8/8 [==============================] - 0s 3ms/step - loss: 0.4542 - accuracy: 0.7975\n",
      "Epoch 108/1000\n",
      "8/8 [==============================] - 0s 3ms/step - loss: 0.4619 - accuracy: 0.7851\n",
      "Epoch 109/1000\n",
      "8/8 [==============================] - 0s 3ms/step - loss: 0.4504 - accuracy: 0.7851\n",
      "Epoch 110/1000\n",
      "8/8 [==============================] - 0s 3ms/step - loss: 0.4556 - accuracy: 0.7934\n",
      "Epoch 111/1000\n",
      "8/8 [==============================] - 0s 2ms/step - loss: 0.4625 - accuracy: 0.7769\n",
      "Epoch 112/1000\n",
      "8/8 [==============================] - 0s 3ms/step - loss: 0.4591 - accuracy: 0.7769\n",
      "Epoch 113/1000\n",
      "8/8 [==============================] - 0s 3ms/step - loss: 0.4415 - accuracy: 0.7975\n",
      "Epoch 114/1000\n",
      "8/8 [==============================] - 0s 3ms/step - loss: 0.4361 - accuracy: 0.8017\n",
      "Epoch 115/1000\n",
      "8/8 [==============================] - 0s 3ms/step - loss: 0.4346 - accuracy: 0.8017\n",
      "Epoch 116/1000\n",
      "8/8 [==============================] - 0s 2ms/step - loss: 0.4385 - accuracy: 0.7975\n",
      "Epoch 117/1000\n",
      "8/8 [==============================] - 0s 2ms/step - loss: 0.4298 - accuracy: 0.7975\n",
      "Epoch 118/1000\n",
      "8/8 [==============================] - 0s 3ms/step - loss: 0.4405 - accuracy: 0.8017\n",
      "Epoch 119/1000\n",
      "8/8 [==============================] - 0s 3ms/step - loss: 0.4399 - accuracy: 0.7893\n",
      "Epoch 120/1000\n",
      "8/8 [==============================] - 0s 3ms/step - loss: 0.4421 - accuracy: 0.8017\n",
      "Epoch 121/1000\n",
      "8/8 [==============================] - 0s 3ms/step - loss: 0.4414 - accuracy: 0.8017\n",
      "Epoch 122/1000\n",
      "8/8 [==============================] - 0s 3ms/step - loss: 0.4339 - accuracy: 0.8017\n",
      "Epoch 123/1000\n",
      "8/8 [==============================] - 0s 3ms/step - loss: 0.4191 - accuracy: 0.8017\n",
      "Epoch 124/1000\n",
      "8/8 [==============================] - 0s 3ms/step - loss: 0.4210 - accuracy: 0.8058\n",
      "Epoch 125/1000\n",
      "8/8 [==============================] - 0s 3ms/step - loss: 0.4156 - accuracy: 0.8017\n",
      "Epoch 126/1000\n",
      "8/8 [==============================] - 0s 3ms/step - loss: 0.4253 - accuracy: 0.8017\n",
      "Epoch 127/1000\n",
      "8/8 [==============================] - 0s 3ms/step - loss: 0.4365 - accuracy: 0.8099\n",
      "Epoch 128/1000\n",
      "8/8 [==============================] - 0s 3ms/step - loss: 0.4131 - accuracy: 0.8140\n",
      "Epoch 129/1000\n",
      "8/8 [==============================] - 0s 2ms/step - loss: 0.4081 - accuracy: 0.8099\n",
      "Epoch 130/1000\n",
      "8/8 [==============================] - 0s 3ms/step - loss: 0.4213 - accuracy: 0.7975\n",
      "Epoch 131/1000\n",
      "8/8 [==============================] - 0s 3ms/step - loss: 0.4427 - accuracy: 0.7975\n",
      "Epoch 132/1000\n",
      "8/8 [==============================] - 0s 2ms/step - loss: 0.4152 - accuracy: 0.8140\n",
      "Epoch 133/1000\n",
      "8/8 [==============================] - 0s 2ms/step - loss: 0.4235 - accuracy: 0.8017\n",
      "Epoch 134/1000\n",
      "8/8 [==============================] - 0s 3ms/step - loss: 0.4059 - accuracy: 0.8140\n",
      "Epoch 135/1000\n",
      "8/8 [==============================] - 0s 3ms/step - loss: 0.4071 - accuracy: 0.8140\n",
      "Epoch 136/1000\n",
      "8/8 [==============================] - 0s 4ms/step - loss: 0.4027 - accuracy: 0.8223\n",
      "Epoch 137/1000\n",
      "8/8 [==============================] - 0s 3ms/step - loss: 0.4004 - accuracy: 0.8223\n",
      "Epoch 138/1000\n",
      "8/8 [==============================] - 0s 3ms/step - loss: 0.3973 - accuracy: 0.8223\n",
      "Epoch 139/1000\n",
      "8/8 [==============================] - 0s 3ms/step - loss: 0.3967 - accuracy: 0.8182\n",
      "Epoch 140/1000\n",
      "8/8 [==============================] - 0s 3ms/step - loss: 0.4016 - accuracy: 0.8140\n",
      "Epoch 141/1000\n",
      "8/8 [==============================] - 0s 3ms/step - loss: 0.3964 - accuracy: 0.8223\n",
      "Epoch 142/1000\n",
      "8/8 [==============================] - 0s 3ms/step - loss: 0.4076 - accuracy: 0.8182\n",
      "Epoch 143/1000\n",
      "8/8 [==============================] - 0s 3ms/step - loss: 0.3980 - accuracy: 0.8223\n",
      "Epoch 144/1000\n",
      "8/8 [==============================] - 0s 3ms/step - loss: 0.4090 - accuracy: 0.8264\n",
      "Epoch 145/1000\n",
      "8/8 [==============================] - 0s 3ms/step - loss: 0.3996 - accuracy: 0.8058\n",
      "Epoch 146/1000\n",
      "8/8 [==============================] - 0s 3ms/step - loss: 0.4009 - accuracy: 0.8140\n",
      "Epoch 147/1000\n",
      "8/8 [==============================] - 0s 3ms/step - loss: 0.3922 - accuracy: 0.8264\n",
      "Epoch 148/1000\n",
      "8/8 [==============================] - 0s 3ms/step - loss: 0.3876 - accuracy: 0.8264\n",
      "Epoch 149/1000\n",
      "8/8 [==============================] - 0s 4ms/step - loss: 0.3888 - accuracy: 0.8347\n",
      "Epoch 150/1000\n",
      "8/8 [==============================] - 0s 3ms/step - loss: 0.3899 - accuracy: 0.8347\n",
      "Epoch 151/1000\n",
      "8/8 [==============================] - 0s 3ms/step - loss: 0.3862 - accuracy: 0.8306\n",
      "Epoch 152/1000\n",
      "8/8 [==============================] - 0s 2ms/step - loss: 0.3838 - accuracy: 0.8388\n",
      "Epoch 153/1000\n",
      "8/8 [==============================] - 0s 3ms/step - loss: 0.3950 - accuracy: 0.8264\n",
      "Epoch 154/1000\n",
      "8/8 [==============================] - 0s 3ms/step - loss: 0.3995 - accuracy: 0.8182\n",
      "Epoch 155/1000\n",
      "8/8 [==============================] - 0s 3ms/step - loss: 0.3894 - accuracy: 0.8223\n",
      "Epoch 156/1000\n",
      "8/8 [==============================] - 0s 3ms/step - loss: 0.3934 - accuracy: 0.8264\n",
      "Epoch 157/1000\n",
      "8/8 [==============================] - 0s 3ms/step - loss: 0.4067 - accuracy: 0.8058\n",
      "Epoch 158/1000\n",
      "8/8 [==============================] - 0s 3ms/step - loss: 0.3936 - accuracy: 0.8430\n",
      "Epoch 159/1000\n",
      "8/8 [==============================] - 0s 3ms/step - loss: 0.3803 - accuracy: 0.8471\n",
      "Epoch 160/1000\n",
      "8/8 [==============================] - 0s 4ms/step - loss: 0.3788 - accuracy: 0.8430\n",
      "Epoch 161/1000\n",
      "8/8 [==============================] - 0s 4ms/step - loss: 0.3859 - accuracy: 0.8347\n",
      "Epoch 162/1000\n",
      "8/8 [==============================] - 0s 4ms/step - loss: 0.3899 - accuracy: 0.8099\n",
      "Epoch 163/1000\n",
      "8/8 [==============================] - 0s 3ms/step - loss: 0.3956 - accuracy: 0.8264\n",
      "Epoch 164/1000\n",
      "8/8 [==============================] - 0s 3ms/step - loss: 0.3826 - accuracy: 0.8306\n",
      "Epoch 165/1000\n",
      "8/8 [==============================] - 0s 3ms/step - loss: 0.3840 - accuracy: 0.8388\n",
      "Epoch 166/1000\n",
      "8/8 [==============================] - 0s 3ms/step - loss: 0.3805 - accuracy: 0.8347\n",
      "Epoch 167/1000\n",
      "8/8 [==============================] - 0s 3ms/step - loss: 0.3876 - accuracy: 0.8347\n",
      "Epoch 168/1000\n",
      "8/8 [==============================] - 0s 2ms/step - loss: 0.3820 - accuracy: 0.8347\n",
      "Epoch 169/1000\n",
      "8/8 [==============================] - 0s 4ms/step - loss: 0.3843 - accuracy: 0.8471\n",
      "Epoch 170/1000\n",
      "8/8 [==============================] - 0s 3ms/step - loss: 0.3845 - accuracy: 0.8182\n",
      "Epoch 171/1000\n",
      "8/8 [==============================] - 0s 3ms/step - loss: 0.3789 - accuracy: 0.8347\n",
      "Epoch 172/1000\n",
      "8/8 [==============================] - 0s 3ms/step - loss: 0.3761 - accuracy: 0.8347\n",
      "Epoch 173/1000\n",
      "8/8 [==============================] - 0s 3ms/step - loss: 0.3759 - accuracy: 0.8430\n",
      "Epoch 174/1000\n",
      "8/8 [==============================] - 0s 4ms/step - loss: 0.3771 - accuracy: 0.8430\n",
      "Epoch 175/1000\n",
      "8/8 [==============================] - 0s 3ms/step - loss: 0.3763 - accuracy: 0.8430\n",
      "Epoch 176/1000\n",
      "8/8 [==============================] - 0s 3ms/step - loss: 0.3860 - accuracy: 0.8388\n",
      "Epoch 177/1000\n",
      "8/8 [==============================] - 0s 3ms/step - loss: 0.3879 - accuracy: 0.8306\n",
      "Epoch 178/1000\n",
      "8/8 [==============================] - 0s 3ms/step - loss: 0.3758 - accuracy: 0.8306\n",
      "Epoch 179/1000\n",
      "8/8 [==============================] - 0s 3ms/step - loss: 0.3799 - accuracy: 0.8430\n",
      "Epoch 180/1000\n",
      "8/8 [==============================] - 0s 3ms/step - loss: 0.3811 - accuracy: 0.8223\n",
      "Epoch 181/1000\n",
      "8/8 [==============================] - 0s 3ms/step - loss: 0.3778 - accuracy: 0.8264\n",
      "Epoch 182/1000\n",
      "8/8 [==============================] - 0s 3ms/step - loss: 0.3862 - accuracy: 0.8306\n",
      "Epoch 183/1000\n",
      "8/8 [==============================] - 0s 3ms/step - loss: 0.3834 - accuracy: 0.8306\n",
      "Epoch 184/1000\n",
      "8/8 [==============================] - 0s 3ms/step - loss: 0.4132 - accuracy: 0.8223\n",
      "Epoch 185/1000\n",
      "8/8 [==============================] - 0s 3ms/step - loss: 0.3849 - accuracy: 0.8471\n",
      "Epoch 186/1000\n",
      "8/8 [==============================] - 0s 3ms/step - loss: 0.3839 - accuracy: 0.8264\n",
      "Epoch 187/1000\n",
      "8/8 [==============================] - 0s 3ms/step - loss: 0.3755 - accuracy: 0.8430\n",
      "Epoch 188/1000\n",
      "8/8 [==============================] - 0s 3ms/step - loss: 0.3742 - accuracy: 0.8347\n",
      "Epoch 189/1000\n",
      "8/8 [==============================] - 0s 3ms/step - loss: 0.3694 - accuracy: 0.8347\n",
      "Epoch 190/1000\n",
      "8/8 [==============================] - 0s 3ms/step - loss: 0.3703 - accuracy: 0.8388\n",
      "Epoch 191/1000\n",
      "8/8 [==============================] - 0s 3ms/step - loss: 0.3701 - accuracy: 0.8554\n",
      "Epoch 192/1000\n",
      "8/8 [==============================] - 0s 3ms/step - loss: 0.3700 - accuracy: 0.8471\n",
      "Epoch 193/1000\n",
      "8/8 [==============================] - 0s 3ms/step - loss: 0.3695 - accuracy: 0.8471\n",
      "Epoch 194/1000\n",
      "8/8 [==============================] - 0s 4ms/step - loss: 0.3820 - accuracy: 0.8264\n",
      "Epoch 195/1000\n",
      "8/8 [==============================] - 0s 3ms/step - loss: 0.3908 - accuracy: 0.8471\n",
      "Epoch 196/1000\n",
      "8/8 [==============================] - 0s 3ms/step - loss: 0.3696 - accuracy: 0.8430\n",
      "Epoch 197/1000\n",
      "8/8 [==============================] - 0s 2ms/step - loss: 0.3675 - accuracy: 0.8471\n",
      "Epoch 198/1000\n",
      "8/8 [==============================] - 0s 3ms/step - loss: 0.4031 - accuracy: 0.8058\n",
      "Epoch 199/1000\n",
      "8/8 [==============================] - 0s 3ms/step - loss: 0.3835 - accuracy: 0.8347\n",
      "Epoch 200/1000\n",
      "8/8 [==============================] - 0s 3ms/step - loss: 0.3724 - accuracy: 0.8388\n",
      "Epoch 201/1000\n",
      "8/8 [==============================] - 0s 3ms/step - loss: 0.3976 - accuracy: 0.8099\n",
      "Epoch 202/1000\n",
      "8/8 [==============================] - 0s 2ms/step - loss: 0.3848 - accuracy: 0.8347\n",
      "Epoch 203/1000\n",
      "8/8 [==============================] - 0s 5ms/step - loss: 0.4075 - accuracy: 0.8182\n",
      "Epoch 204/1000\n",
      "8/8 [==============================] - 0s 3ms/step - loss: 0.4990 - accuracy: 0.7521\n",
      "Epoch 205/1000\n",
      "8/8 [==============================] - 0s 3ms/step - loss: 0.4343 - accuracy: 0.8223\n",
      "Epoch 206/1000\n",
      "8/8 [==============================] - 0s 3ms/step - loss: 0.3982 - accuracy: 0.8182\n",
      "Epoch 207/1000\n",
      "8/8 [==============================] - 0s 3ms/step - loss: 0.3826 - accuracy: 0.8223\n",
      "Epoch 208/1000\n",
      "8/8 [==============================] - 0s 3ms/step - loss: 0.3933 - accuracy: 0.8347\n",
      "Epoch 209/1000\n",
      "8/8 [==============================] - 0s 3ms/step - loss: 0.3811 - accuracy: 0.8430\n",
      "Epoch 210/1000\n",
      "8/8 [==============================] - 0s 4ms/step - loss: 0.3773 - accuracy: 0.8347\n",
      "Epoch 211/1000\n",
      "8/8 [==============================] - 0s 3ms/step - loss: 0.3706 - accuracy: 0.8512\n",
      "Epoch 212/1000\n",
      "8/8 [==============================] - 0s 4ms/step - loss: 0.3725 - accuracy: 0.8512\n",
      "Epoch 213/1000\n",
      "8/8 [==============================] - 0s 3ms/step - loss: 0.3712 - accuracy: 0.8471\n",
      "Epoch 214/1000\n",
      "8/8 [==============================] - 0s 3ms/step - loss: 0.3700 - accuracy: 0.8512\n",
      "Epoch 215/1000\n",
      "8/8 [==============================] - 0s 3ms/step - loss: 0.3716 - accuracy: 0.8347\n",
      "Epoch 216/1000\n",
      "8/8 [==============================] - 0s 3ms/step - loss: 0.3996 - accuracy: 0.8099\n",
      "Epoch 217/1000\n",
      "8/8 [==============================] - 0s 3ms/step - loss: 0.3746 - accuracy: 0.8223\n",
      "Epoch 218/1000\n",
      "8/8 [==============================] - 0s 3ms/step - loss: 0.3663 - accuracy: 0.8512\n",
      "Epoch 219/1000\n",
      "8/8 [==============================] - 0s 3ms/step - loss: 0.3918 - accuracy: 0.8264\n",
      "Epoch 220/1000\n",
      "8/8 [==============================] - 0s 3ms/step - loss: 0.4183 - accuracy: 0.8058\n",
      "Epoch 221/1000\n",
      "8/8 [==============================] - 0s 3ms/step - loss: 0.4157 - accuracy: 0.8182\n",
      "Epoch 222/1000\n",
      "8/8 [==============================] - 0s 3ms/step - loss: 0.4758 - accuracy: 0.8140\n",
      "Epoch 223/1000\n",
      "8/8 [==============================] - 0s 3ms/step - loss: 0.3797 - accuracy: 0.8223\n",
      "Epoch 224/1000\n",
      "8/8 [==============================] - 0s 4ms/step - loss: 0.3777 - accuracy: 0.8347\n",
      "Epoch 225/1000\n",
      "8/8 [==============================] - 0s 4ms/step - loss: 0.3829 - accuracy: 0.8306\n",
      "Epoch 226/1000\n",
      "8/8 [==============================] - 0s 5ms/step - loss: 0.3828 - accuracy: 0.8306\n",
      "Epoch 227/1000\n",
      "8/8 [==============================] - 0s 3ms/step - loss: 0.4420 - accuracy: 0.8264\n",
      "Epoch 228/1000\n",
      "8/8 [==============================] - 0s 3ms/step - loss: 0.3665 - accuracy: 0.8347\n",
      "Epoch 229/1000\n",
      "8/8 [==============================] - 0s 3ms/step - loss: 0.3925 - accuracy: 0.8388\n",
      "Epoch 230/1000\n",
      "8/8 [==============================] - 0s 3ms/step - loss: 0.3801 - accuracy: 0.8264\n",
      "Epoch 231/1000\n",
      "8/8 [==============================] - 0s 3ms/step - loss: 0.3691 - accuracy: 0.8430\n",
      "Epoch 232/1000\n",
      "8/8 [==============================] - 0s 3ms/step - loss: 0.3655 - accuracy: 0.8388\n",
      "Epoch 233/1000\n",
      "8/8 [==============================] - 0s 3ms/step - loss: 0.3840 - accuracy: 0.8512\n",
      "Epoch 234/1000\n",
      "8/8 [==============================] - 0s 3ms/step - loss: 0.3676 - accuracy: 0.8554\n",
      "Epoch 235/1000\n",
      "8/8 [==============================] - 0s 4ms/step - loss: 0.3673 - accuracy: 0.8430\n",
      "Epoch 236/1000\n",
      "8/8 [==============================] - 0s 4ms/step - loss: 0.3678 - accuracy: 0.8471\n",
      "Epoch 237/1000\n",
      "8/8 [==============================] - 0s 4ms/step - loss: 0.3684 - accuracy: 0.8471\n",
      "Epoch 238/1000\n",
      "8/8 [==============================] - 0s 3ms/step - loss: 0.3743 - accuracy: 0.8388\n",
      "Epoch 239/1000\n",
      "8/8 [==============================] - 0s 3ms/step - loss: 0.3860 - accuracy: 0.8223\n",
      "Epoch 240/1000\n",
      "8/8 [==============================] - 0s 3ms/step - loss: 0.3759 - accuracy: 0.8347\n",
      "Epoch 241/1000\n",
      "8/8 [==============================] - 0s 3ms/step - loss: 0.3612 - accuracy: 0.8512\n",
      "Epoch 242/1000\n",
      "8/8 [==============================] - 0s 3ms/step - loss: 0.3973 - accuracy: 0.8347\n",
      "Epoch 243/1000\n",
      "8/8 [==============================] - 0s 4ms/step - loss: 0.3954 - accuracy: 0.8306\n",
      "Epoch 244/1000\n",
      "8/8 [==============================] - 0s 3ms/step - loss: 0.3690 - accuracy: 0.8264\n",
      "Epoch 245/1000\n",
      "8/8 [==============================] - 0s 4ms/step - loss: 0.3739 - accuracy: 0.8388\n",
      "Epoch 246/1000\n",
      "8/8 [==============================] - 0s 4ms/step - loss: 0.3714 - accuracy: 0.8347\n",
      "Epoch 247/1000\n",
      "8/8 [==============================] - 0s 3ms/step - loss: 0.3805 - accuracy: 0.8388\n",
      "Epoch 248/1000\n",
      "8/8 [==============================] - 0s 3ms/step - loss: 0.3676 - accuracy: 0.8388\n",
      "Epoch 249/1000\n",
      "8/8 [==============================] - 0s 3ms/step - loss: 0.3728 - accuracy: 0.8388\n",
      "Epoch 250/1000\n",
      "8/8 [==============================] - 0s 3ms/step - loss: 0.3788 - accuracy: 0.8430\n",
      "Epoch 251/1000\n",
      "8/8 [==============================] - 0s 4ms/step - loss: 0.3777 - accuracy: 0.8430\n",
      "Epoch 252/1000\n",
      "8/8 [==============================] - 0s 3ms/step - loss: 0.3725 - accuracy: 0.8471\n",
      "Epoch 253/1000\n",
      "8/8 [==============================] - 0s 3ms/step - loss: 0.3753 - accuracy: 0.8512\n",
      "Epoch 254/1000\n",
      "8/8 [==============================] - 0s 3ms/step - loss: 0.3711 - accuracy: 0.8512\n",
      "Epoch 255/1000\n",
      "8/8 [==============================] - 0s 3ms/step - loss: 0.4119 - accuracy: 0.8058\n",
      "Epoch 256/1000\n",
      "8/8 [==============================] - 0s 3ms/step - loss: 0.4165 - accuracy: 0.8099\n",
      "Epoch 257/1000\n",
      "8/8 [==============================] - 0s 3ms/step - loss: 0.3925 - accuracy: 0.8182\n",
      "Epoch 258/1000\n",
      "8/8 [==============================] - 0s 3ms/step - loss: 0.3958 - accuracy: 0.8140\n",
      "Epoch 259/1000\n",
      "8/8 [==============================] - 0s 3ms/step - loss: 0.3619 - accuracy: 0.8595\n",
      "Epoch 260/1000\n",
      "8/8 [==============================] - 0s 3ms/step - loss: 0.3695 - accuracy: 0.8264\n",
      "Epoch 261/1000\n",
      "8/8 [==============================] - 0s 3ms/step - loss: 0.3679 - accuracy: 0.8347\n",
      "Epoch 262/1000\n",
      "8/8 [==============================] - 0s 3ms/step - loss: 0.3735 - accuracy: 0.8430\n",
      "Epoch 263/1000\n",
      "8/8 [==============================] - 0s 3ms/step - loss: 0.3690 - accuracy: 0.8347\n",
      "Epoch 264/1000\n",
      "8/8 [==============================] - 0s 3ms/step - loss: 0.3662 - accuracy: 0.8347\n",
      "Epoch 265/1000\n",
      "8/8 [==============================] - 0s 3ms/step - loss: 0.3642 - accuracy: 0.8347\n",
      "Epoch 266/1000\n",
      "8/8 [==============================] - 0s 3ms/step - loss: 0.3886 - accuracy: 0.8264\n",
      "Epoch 267/1000\n",
      "8/8 [==============================] - 0s 4ms/step - loss: 0.4005 - accuracy: 0.8017\n",
      "Epoch 268/1000\n",
      "8/8 [==============================] - 0s 4ms/step - loss: 0.3567 - accuracy: 0.8595\n",
      "Epoch 269/1000\n",
      "8/8 [==============================] - 0s 4ms/step - loss: 0.3605 - accuracy: 0.8388\n",
      "Epoch 270/1000\n",
      "8/8 [==============================] - 0s 3ms/step - loss: 0.3685 - accuracy: 0.8306\n",
      "Epoch 271/1000\n",
      "8/8 [==============================] - 0s 3ms/step - loss: 0.3692 - accuracy: 0.8471\n",
      "Epoch 272/1000\n",
      "8/8 [==============================] - 0s 3ms/step - loss: 0.3710 - accuracy: 0.8430\n",
      "Epoch 273/1000\n",
      "8/8 [==============================] - 0s 3ms/step - loss: 0.3627 - accuracy: 0.8430\n",
      "Epoch 274/1000\n",
      "8/8 [==============================] - 0s 3ms/step - loss: 0.3821 - accuracy: 0.8471\n",
      "Epoch 275/1000\n",
      "8/8 [==============================] - 0s 3ms/step - loss: 0.4058 - accuracy: 0.8182\n",
      "Epoch 276/1000\n",
      "8/8 [==============================] - 0s 3ms/step - loss: 0.3976 - accuracy: 0.7934\n",
      "Epoch 277/1000\n",
      "8/8 [==============================] - 0s 3ms/step - loss: 0.4249 - accuracy: 0.8058\n",
      "Epoch 278/1000\n",
      "8/8 [==============================] - 0s 3ms/step - loss: 0.4021 - accuracy: 0.8264\n",
      "Epoch 279/1000\n",
      "8/8 [==============================] - 0s 3ms/step - loss: 0.4098 - accuracy: 0.8306\n",
      "Epoch 280/1000\n",
      "8/8 [==============================] - 0s 3ms/step - loss: 0.3913 - accuracy: 0.8264\n",
      "Epoch 281/1000\n",
      "8/8 [==============================] - 0s 3ms/step - loss: 0.3662 - accuracy: 0.8306\n",
      "Epoch 282/1000\n",
      "8/8 [==============================] - 0s 4ms/step - loss: 0.3674 - accuracy: 0.8388\n",
      "Epoch 283/1000\n",
      "8/8 [==============================] - 0s 4ms/step - loss: 0.3604 - accuracy: 0.8471\n",
      "Epoch 284/1000\n",
      "8/8 [==============================] - 0s 6ms/step - loss: 0.3809 - accuracy: 0.8223\n",
      "Epoch 285/1000\n",
      "8/8 [==============================] - 0s 5ms/step - loss: 0.3643 - accuracy: 0.8347\n",
      "Epoch 286/1000\n",
      "8/8 [==============================] - 0s 3ms/step - loss: 0.3588 - accuracy: 0.8471\n",
      "Epoch 287/1000\n",
      "8/8 [==============================] - 0s 3ms/step - loss: 0.3652 - accuracy: 0.8554\n",
      "Epoch 288/1000\n",
      "8/8 [==============================] - 0s 3ms/step - loss: 0.3608 - accuracy: 0.8512\n",
      "Epoch 289/1000\n",
      "8/8 [==============================] - 0s 3ms/step - loss: 0.3584 - accuracy: 0.8430\n",
      "Epoch 290/1000\n",
      "8/8 [==============================] - 0s 3ms/step - loss: 0.3849 - accuracy: 0.8140\n",
      "Epoch 291/1000\n",
      "8/8 [==============================] - 0s 3ms/step - loss: 0.3616 - accuracy: 0.8306\n",
      "Epoch 292/1000\n",
      "8/8 [==============================] - 0s 3ms/step - loss: 0.3648 - accuracy: 0.8430\n",
      "Epoch 293/1000\n",
      "8/8 [==============================] - 0s 4ms/step - loss: 0.3584 - accuracy: 0.8471\n",
      "Epoch 294/1000\n",
      "8/8 [==============================] - 0s 3ms/step - loss: 0.3719 - accuracy: 0.8388\n",
      "Epoch 295/1000\n",
      "8/8 [==============================] - 0s 3ms/step - loss: 0.3708 - accuracy: 0.8554\n",
      "Epoch 296/1000\n",
      "8/8 [==============================] - 0s 3ms/step - loss: 0.3719 - accuracy: 0.8430\n",
      "Epoch 297/1000\n",
      "8/8 [==============================] - 0s 3ms/step - loss: 0.3605 - accuracy: 0.8430\n",
      "Epoch 298/1000\n",
      "8/8 [==============================] - 0s 3ms/step - loss: 0.3605 - accuracy: 0.8347\n",
      "Epoch 299/1000\n",
      "8/8 [==============================] - 0s 3ms/step - loss: 0.3673 - accuracy: 0.8388\n",
      "Epoch 300/1000\n",
      "8/8 [==============================] - 0s 3ms/step - loss: 0.3639 - accuracy: 0.8388\n",
      "Epoch 301/1000\n",
      "8/8 [==============================] - 0s 3ms/step - loss: 0.3656 - accuracy: 0.8471\n",
      "Epoch 302/1000\n",
      "8/8 [==============================] - 0s 4ms/step - loss: 0.3667 - accuracy: 0.8471\n",
      "Epoch 303/1000\n",
      "8/8 [==============================] - 0s 3ms/step - loss: 0.3614 - accuracy: 0.8430\n",
      "Epoch 304/1000\n",
      "8/8 [==============================] - 0s 4ms/step - loss: 0.3576 - accuracy: 0.8471\n",
      "Epoch 305/1000\n",
      "8/8 [==============================] - 0s 3ms/step - loss: 0.3710 - accuracy: 0.8554\n",
      "Epoch 306/1000\n",
      "8/8 [==============================] - 0s 3ms/step - loss: 0.3674 - accuracy: 0.8430\n",
      "Epoch 307/1000\n",
      "8/8 [==============================] - 0s 3ms/step - loss: 0.3678 - accuracy: 0.8306\n",
      "Epoch 308/1000\n",
      "8/8 [==============================] - 0s 3ms/step - loss: 0.3984 - accuracy: 0.8182\n",
      "Epoch 309/1000\n",
      "8/8 [==============================] - 0s 3ms/step - loss: 0.4383 - accuracy: 0.7934\n",
      "Epoch 310/1000\n",
      "8/8 [==============================] - 0s 3ms/step - loss: 0.3917 - accuracy: 0.8388\n",
      "Epoch 311/1000\n",
      "8/8 [==============================] - 0s 3ms/step - loss: 0.3656 - accuracy: 0.8223\n",
      "Epoch 312/1000\n",
      "8/8 [==============================] - 0s 3ms/step - loss: 0.3689 - accuracy: 0.8388\n",
      "Epoch 313/1000\n",
      "8/8 [==============================] - 0s 3ms/step - loss: 0.3774 - accuracy: 0.8347\n",
      "Epoch 314/1000\n",
      "8/8 [==============================] - 0s 3ms/step - loss: 0.3662 - accuracy: 0.8264\n",
      "Epoch 315/1000\n",
      "8/8 [==============================] - 0s 3ms/step - loss: 0.3667 - accuracy: 0.8471\n",
      "Epoch 316/1000\n",
      "8/8 [==============================] - 0s 4ms/step - loss: 0.4013 - accuracy: 0.7975\n",
      "Epoch 317/1000\n",
      "8/8 [==============================] - 0s 3ms/step - loss: 0.3652 - accuracy: 0.8512\n",
      "Epoch 318/1000\n",
      "8/8 [==============================] - 0s 4ms/step - loss: 0.3800 - accuracy: 0.8430\n",
      "Epoch 319/1000\n",
      "8/8 [==============================] - 0s 3ms/step - loss: 0.3576 - accuracy: 0.8471\n",
      "Epoch 320/1000\n",
      "8/8 [==============================] - 0s 3ms/step - loss: 0.3718 - accuracy: 0.8347\n",
      "Epoch 321/1000\n",
      "8/8 [==============================] - 0s 3ms/step - loss: 0.3621 - accuracy: 0.8471\n",
      "Epoch 322/1000\n",
      "8/8 [==============================] - 0s 4ms/step - loss: 0.3579 - accuracy: 0.8512\n",
      "Epoch 323/1000\n",
      "8/8 [==============================] - 0s 4ms/step - loss: 0.3594 - accuracy: 0.8430\n",
      "Epoch 324/1000\n",
      "8/8 [==============================] - 0s 5ms/step - loss: 0.3630 - accuracy: 0.8306\n",
      "Epoch 325/1000\n",
      "8/8 [==============================] - 0s 4ms/step - loss: 0.3667 - accuracy: 0.8554\n",
      "Epoch 326/1000\n",
      "8/8 [==============================] - 0s 4ms/step - loss: 0.3657 - accuracy: 0.8347\n",
      "Epoch 327/1000\n",
      "8/8 [==============================] - 0s 3ms/step - loss: 0.3799 - accuracy: 0.8182\n",
      "Epoch 328/1000\n",
      "8/8 [==============================] - 0s 3ms/step - loss: 0.3814 - accuracy: 0.8140\n",
      "Epoch 329/1000\n",
      "8/8 [==============================] - 0s 3ms/step - loss: 0.3898 - accuracy: 0.8140\n",
      "Epoch 330/1000\n",
      "8/8 [==============================] - 0s 3ms/step - loss: 0.3809 - accuracy: 0.8306\n",
      "Epoch 331/1000\n",
      "8/8 [==============================] - 0s 3ms/step - loss: 0.3731 - accuracy: 0.8306\n",
      "Epoch 332/1000\n",
      "8/8 [==============================] - 0s 3ms/step - loss: 0.3670 - accuracy: 0.8388\n",
      "Epoch 333/1000\n",
      "8/8 [==============================] - 0s 4ms/step - loss: 0.3750 - accuracy: 0.8223\n",
      "Epoch 334/1000\n",
      "8/8 [==============================] - 0s 4ms/step - loss: 0.3787 - accuracy: 0.8306\n",
      "Epoch 335/1000\n",
      "8/8 [==============================] - 0s 3ms/step - loss: 0.3684 - accuracy: 0.8306\n",
      "Epoch 336/1000\n",
      "8/8 [==============================] - 0s 3ms/step - loss: 0.3559 - accuracy: 0.8388\n",
      "Epoch 337/1000\n",
      "8/8 [==============================] - 0s 4ms/step - loss: 0.3574 - accuracy: 0.8512\n",
      "Epoch 338/1000\n",
      "8/8 [==============================] - 0s 3ms/step - loss: 0.3621 - accuracy: 0.8471\n",
      "Epoch 339/1000\n",
      "8/8 [==============================] - 0s 3ms/step - loss: 0.3576 - accuracy: 0.8595\n",
      "Epoch 340/1000\n",
      "8/8 [==============================] - 0s 4ms/step - loss: 0.3566 - accuracy: 0.8388\n",
      "Epoch 341/1000\n",
      "8/8 [==============================] - 0s 3ms/step - loss: 0.3579 - accuracy: 0.8388\n",
      "Epoch 342/1000\n",
      "8/8 [==============================] - 0s 3ms/step - loss: 0.3549 - accuracy: 0.8388\n",
      "Epoch 343/1000\n",
      "8/8 [==============================] - 0s 3ms/step - loss: 0.3573 - accuracy: 0.8430\n",
      "Epoch 344/1000\n",
      "8/8 [==============================] - 0s 3ms/step - loss: 0.3634 - accuracy: 0.8512\n",
      "Epoch 345/1000\n",
      "8/8 [==============================] - 0s 3ms/step - loss: 0.3578 - accuracy: 0.8471\n",
      "Epoch 346/1000\n",
      "8/8 [==============================] - 0s 3ms/step - loss: 0.3620 - accuracy: 0.8430\n",
      "Epoch 347/1000\n",
      "8/8 [==============================] - 0s 3ms/step - loss: 0.3744 - accuracy: 0.8512\n",
      "Epoch 348/1000\n",
      "8/8 [==============================] - 0s 3ms/step - loss: 0.3763 - accuracy: 0.8471\n",
      "Epoch 349/1000\n",
      "8/8 [==============================] - 0s 3ms/step - loss: 0.3613 - accuracy: 0.8512\n",
      "Epoch 350/1000\n",
      "8/8 [==============================] - 0s 4ms/step - loss: 0.3646 - accuracy: 0.8430\n",
      "Epoch 351/1000\n",
      "8/8 [==============================] - 0s 3ms/step - loss: 0.3563 - accuracy: 0.8595\n",
      "Epoch 352/1000\n",
      "8/8 [==============================] - 0s 3ms/step - loss: 0.3618 - accuracy: 0.8430\n",
      "Epoch 353/1000\n",
      "8/8 [==============================] - 0s 4ms/step - loss: 0.3619 - accuracy: 0.8512\n",
      "Epoch 354/1000\n",
      "8/8 [==============================] - 0s 4ms/step - loss: 0.3603 - accuracy: 0.8388\n",
      "Epoch 355/1000\n",
      "8/8 [==============================] - 0s 3ms/step - loss: 0.3551 - accuracy: 0.8471\n",
      "Epoch 356/1000\n",
      "8/8 [==============================] - 0s 3ms/step - loss: 0.3652 - accuracy: 0.8430\n",
      "Epoch 357/1000\n",
      "8/8 [==============================] - 0s 3ms/step - loss: 0.3630 - accuracy: 0.8388\n",
      "Epoch 358/1000\n",
      "8/8 [==============================] - 0s 3ms/step - loss: 0.3677 - accuracy: 0.8388\n",
      "Epoch 359/1000\n",
      "8/8 [==============================] - 0s 4ms/step - loss: 0.3585 - accuracy: 0.8512\n",
      "Epoch 360/1000\n",
      "8/8 [==============================] - 0s 3ms/step - loss: 0.3561 - accuracy: 0.8430\n",
      "Epoch 361/1000\n",
      "8/8 [==============================] - 0s 3ms/step - loss: 0.3919 - accuracy: 0.8264\n",
      "Epoch 362/1000\n",
      "8/8 [==============================] - 0s 3ms/step - loss: 0.3797 - accuracy: 0.8471\n",
      "Epoch 363/1000\n",
      "8/8 [==============================] - 0s 3ms/step - loss: 0.3740 - accuracy: 0.8430\n",
      "Epoch 364/1000\n",
      "8/8 [==============================] - 0s 3ms/step - loss: 0.3575 - accuracy: 0.8388\n",
      "Epoch 365/1000\n",
      "8/8 [==============================] - 0s 4ms/step - loss: 0.3712 - accuracy: 0.8347\n",
      "Epoch 366/1000\n",
      "8/8 [==============================] - 0s 4ms/step - loss: 0.3683 - accuracy: 0.8388\n",
      "Epoch 367/1000\n",
      "8/8 [==============================] - 0s 4ms/step - loss: 0.3622 - accuracy: 0.8471\n",
      "Epoch 368/1000\n",
      "8/8 [==============================] - 0s 4ms/step - loss: 0.3619 - accuracy: 0.8471\n",
      "Epoch 369/1000\n",
      "8/8 [==============================] - 0s 4ms/step - loss: 0.3754 - accuracy: 0.8264\n",
      "Epoch 370/1000\n",
      "8/8 [==============================] - 0s 4ms/step - loss: 0.3937 - accuracy: 0.8306\n",
      "Epoch 371/1000\n",
      "8/8 [==============================] - 0s 4ms/step - loss: 0.3789 - accuracy: 0.8264\n",
      "Epoch 372/1000\n",
      "8/8 [==============================] - 0s 5ms/step - loss: 0.3724 - accuracy: 0.8182\n",
      "Epoch 373/1000\n",
      "8/8 [==============================] - 0s 4ms/step - loss: 0.3614 - accuracy: 0.8512\n",
      "Epoch 374/1000\n",
      "8/8 [==============================] - 0s 4ms/step - loss: 0.3578 - accuracy: 0.8430\n",
      "Epoch 375/1000\n",
      "8/8 [==============================] - 0s 5ms/step - loss: 0.3618 - accuracy: 0.8388\n",
      "Epoch 376/1000\n",
      "8/8 [==============================] - 0s 3ms/step - loss: 0.3665 - accuracy: 0.8471\n",
      "Epoch 377/1000\n",
      "8/8 [==============================] - 0s 4ms/step - loss: 0.3777 - accuracy: 0.8471\n",
      "Epoch 378/1000\n",
      "8/8 [==============================] - 0s 4ms/step - loss: 0.3564 - accuracy: 0.8471\n",
      "Epoch 379/1000\n",
      "8/8 [==============================] - 0s 3ms/step - loss: 0.3613 - accuracy: 0.8388\n",
      "Epoch 380/1000\n",
      "8/8 [==============================] - 0s 3ms/step - loss: 0.3528 - accuracy: 0.8347\n",
      "Epoch 381/1000\n",
      "8/8 [==============================] - 0s 3ms/step - loss: 0.3751 - accuracy: 0.8264\n",
      "Epoch 382/1000\n",
      "8/8 [==============================] - 0s 3ms/step - loss: 0.3929 - accuracy: 0.8182\n",
      "Epoch 383/1000\n",
      "8/8 [==============================] - 0s 4ms/step - loss: 0.3887 - accuracy: 0.8264\n",
      "Epoch 384/1000\n",
      "8/8 [==============================] - 0s 4ms/step - loss: 0.3842 - accuracy: 0.8512\n",
      "Epoch 385/1000\n",
      "8/8 [==============================] - 0s 5ms/step - loss: 0.3909 - accuracy: 0.8017\n",
      "Epoch 386/1000\n",
      "8/8 [==============================] - 0s 4ms/step - loss: 0.4401 - accuracy: 0.8058\n",
      "Epoch 387/1000\n",
      "8/8 [==============================] - 0s 4ms/step - loss: 0.3842 - accuracy: 0.7975\n",
      "Epoch 388/1000\n",
      "8/8 [==============================] - 0s 3ms/step - loss: 0.3734 - accuracy: 0.8471\n",
      "Epoch 389/1000\n",
      "8/8 [==============================] - 0s 3ms/step - loss: 0.3649 - accuracy: 0.8347\n",
      "Epoch 390/1000\n",
      "8/8 [==============================] - 0s 5ms/step - loss: 0.3772 - accuracy: 0.8347\n",
      "Epoch 391/1000\n",
      "8/8 [==============================] - 0s 5ms/step - loss: 0.3737 - accuracy: 0.8430\n",
      "Epoch 392/1000\n",
      "8/8 [==============================] - 0s 4ms/step - loss: 0.3727 - accuracy: 0.8471\n",
      "Epoch 393/1000\n",
      "8/8 [==============================] - 0s 5ms/step - loss: 0.3640 - accuracy: 0.8430\n",
      "Epoch 394/1000\n",
      "8/8 [==============================] - 0s 4ms/step - loss: 0.3609 - accuracy: 0.8388\n",
      "Epoch 395/1000\n",
      "8/8 [==============================] - 0s 4ms/step - loss: 0.3661 - accuracy: 0.8347\n",
      "Epoch 396/1000\n",
      "8/8 [==============================] - 0s 3ms/step - loss: 0.3636 - accuracy: 0.8471\n",
      "Epoch 397/1000\n",
      "8/8 [==============================] - 0s 4ms/step - loss: 0.3602 - accuracy: 0.8512\n",
      "Epoch 398/1000\n",
      "8/8 [==============================] - 0s 4ms/step - loss: 0.3540 - accuracy: 0.8512\n",
      "Epoch 399/1000\n",
      "8/8 [==============================] - 0s 5ms/step - loss: 0.3611 - accuracy: 0.8430\n",
      "Epoch 400/1000\n",
      "8/8 [==============================] - 0s 4ms/step - loss: 0.3553 - accuracy: 0.8347\n",
      "Epoch 401/1000\n",
      "8/8 [==============================] - 0s 3ms/step - loss: 0.3739 - accuracy: 0.8388\n",
      "Epoch 402/1000\n",
      "8/8 [==============================] - 0s 4ms/step - loss: 0.3635 - accuracy: 0.8595\n",
      "Epoch 403/1000\n",
      "8/8 [==============================] - 0s 3ms/step - loss: 0.3617 - accuracy: 0.8347\n",
      "Epoch 404/1000\n",
      "8/8 [==============================] - 0s 4ms/step - loss: 0.3595 - accuracy: 0.8347\n",
      "Epoch 405/1000\n",
      "8/8 [==============================] - 0s 4ms/step - loss: 0.3777 - accuracy: 0.8306\n",
      "Epoch 406/1000\n",
      "8/8 [==============================] - 0s 4ms/step - loss: 0.3637 - accuracy: 0.8430\n",
      "Epoch 407/1000\n",
      "8/8 [==============================] - 0s 4ms/step - loss: 0.3603 - accuracy: 0.8471\n",
      "Epoch 408/1000\n",
      "8/8 [==============================] - 0s 4ms/step - loss: 0.3608 - accuracy: 0.8388\n",
      "Epoch 409/1000\n",
      "8/8 [==============================] - 0s 6ms/step - loss: 0.3609 - accuracy: 0.8471\n",
      "Epoch 410/1000\n",
      "8/8 [==============================] - 0s 3ms/step - loss: 0.3703 - accuracy: 0.8388\n",
      "Epoch 411/1000\n",
      "8/8 [==============================] - 0s 3ms/step - loss: 0.3642 - accuracy: 0.8264\n",
      "Epoch 412/1000\n",
      "8/8 [==============================] - 0s 3ms/step - loss: 0.3658 - accuracy: 0.8347\n",
      "Epoch 413/1000\n",
      "8/8 [==============================] - 0s 6ms/step - loss: 0.3766 - accuracy: 0.8306\n",
      "Epoch 414/1000\n",
      "8/8 [==============================] - 0s 3ms/step - loss: 0.3874 - accuracy: 0.8347\n",
      "Epoch 415/1000\n",
      "8/8 [==============================] - 0s 4ms/step - loss: 0.3669 - accuracy: 0.8347\n",
      "Epoch 416/1000\n",
      "8/8 [==============================] - 0s 5ms/step - loss: 0.3674 - accuracy: 0.8223\n",
      "Epoch 417/1000\n",
      "8/8 [==============================] - 0s 4ms/step - loss: 0.3942 - accuracy: 0.8347\n",
      "Epoch 418/1000\n",
      "8/8 [==============================] - 0s 4ms/step - loss: 0.4154 - accuracy: 0.8058\n",
      "Epoch 419/1000\n",
      "8/8 [==============================] - 0s 4ms/step - loss: 0.3991 - accuracy: 0.8264\n",
      "Epoch 420/1000\n",
      "8/8 [==============================] - 0s 4ms/step - loss: 0.3839 - accuracy: 0.8182\n",
      "Epoch 421/1000\n",
      "8/8 [==============================] - 0s 3ms/step - loss: 0.3707 - accuracy: 0.8058\n",
      "Epoch 422/1000\n",
      "8/8 [==============================] - 0s 4ms/step - loss: 0.3818 - accuracy: 0.8264\n",
      "Epoch 423/1000\n",
      "8/8 [==============================] - 0s 4ms/step - loss: 0.3550 - accuracy: 0.8554\n",
      "Epoch 424/1000\n",
      "8/8 [==============================] - 0s 3ms/step - loss: 0.3641 - accuracy: 0.8347\n",
      "Epoch 425/1000\n",
      "8/8 [==============================] - 0s 3ms/step - loss: 0.3718 - accuracy: 0.8140\n",
      "Epoch 426/1000\n",
      "8/8 [==============================] - 0s 4ms/step - loss: 0.4057 - accuracy: 0.8264\n",
      "Epoch 427/1000\n",
      "8/8 [==============================] - 0s 3ms/step - loss: 0.3636 - accuracy: 0.8430\n",
      "Epoch 428/1000\n",
      "8/8 [==============================] - 0s 4ms/step - loss: 0.3789 - accuracy: 0.8347\n",
      "Epoch 429/1000\n",
      "8/8 [==============================] - 0s 4ms/step - loss: 0.3547 - accuracy: 0.8471\n",
      "Epoch 430/1000\n",
      "8/8 [==============================] - 0s 3ms/step - loss: 0.3647 - accuracy: 0.8388\n",
      "Epoch 431/1000\n",
      "8/8 [==============================] - 0s 4ms/step - loss: 0.3570 - accuracy: 0.8512\n",
      "Epoch 432/1000\n",
      "8/8 [==============================] - 0s 3ms/step - loss: 0.3575 - accuracy: 0.8347\n",
      "Epoch 433/1000\n",
      "8/8 [==============================] - 0s 3ms/step - loss: 0.3552 - accuracy: 0.8471\n",
      "Epoch 434/1000\n",
      "8/8 [==============================] - 0s 3ms/step - loss: 0.3636 - accuracy: 0.8306\n",
      "Epoch 435/1000\n",
      "8/8 [==============================] - 0s 3ms/step - loss: 0.3720 - accuracy: 0.8306\n",
      "Epoch 436/1000\n",
      "8/8 [==============================] - 0s 3ms/step - loss: 0.3720 - accuracy: 0.8388\n",
      "Epoch 437/1000\n",
      "8/8 [==============================] - 0s 3ms/step - loss: 0.3605 - accuracy: 0.8554\n",
      "Epoch 438/1000\n",
      "8/8 [==============================] - 0s 3ms/step - loss: 0.3661 - accuracy: 0.8430\n",
      "Epoch 439/1000\n",
      "8/8 [==============================] - 0s 4ms/step - loss: 0.3806 - accuracy: 0.8471\n",
      "Epoch 440/1000\n",
      "8/8 [==============================] - 0s 4ms/step - loss: 0.3614 - accuracy: 0.8388\n",
      "Epoch 441/1000\n",
      "8/8 [==============================] - 0s 3ms/step - loss: 0.3684 - accuracy: 0.8388\n",
      "Epoch 442/1000\n",
      "8/8 [==============================] - 0s 3ms/step - loss: 0.3784 - accuracy: 0.8471\n",
      "Epoch 443/1000\n",
      "8/8 [==============================] - 0s 3ms/step - loss: 0.3564 - accuracy: 0.8430\n",
      "Epoch 444/1000\n",
      "8/8 [==============================] - 0s 4ms/step - loss: 0.3569 - accuracy: 0.8430\n",
      "Epoch 445/1000\n",
      "8/8 [==============================] - 0s 4ms/step - loss: 0.3589 - accuracy: 0.8471\n",
      "Epoch 446/1000\n",
      "8/8 [==============================] - 0s 3ms/step - loss: 0.3519 - accuracy: 0.8512\n",
      "Epoch 447/1000\n",
      "8/8 [==============================] - 0s 4ms/step - loss: 0.3673 - accuracy: 0.8471\n",
      "Epoch 448/1000\n",
      "8/8 [==============================] - 0s 3ms/step - loss: 0.3710 - accuracy: 0.8430\n",
      "Epoch 449/1000\n",
      "8/8 [==============================] - 0s 5ms/step - loss: 0.3700 - accuracy: 0.8430\n",
      "Epoch 450/1000\n",
      "8/8 [==============================] - 0s 3ms/step - loss: 0.3666 - accuracy: 0.8264\n",
      "Epoch 451/1000\n",
      "8/8 [==============================] - 0s 3ms/step - loss: 0.3636 - accuracy: 0.8512\n",
      "Epoch 452/1000\n",
      "8/8 [==============================] - 0s 3ms/step - loss: 0.3583 - accuracy: 0.8388\n",
      "Epoch 453/1000\n",
      "8/8 [==============================] - 0s 3ms/step - loss: 0.3760 - accuracy: 0.8347\n",
      "Epoch 454/1000\n",
      "8/8 [==============================] - 0s 3ms/step - loss: 0.3597 - accuracy: 0.8388\n",
      "Epoch 455/1000\n",
      "8/8 [==============================] - 0s 3ms/step - loss: 0.3585 - accuracy: 0.8306\n",
      "Epoch 456/1000\n",
      "8/8 [==============================] - 0s 3ms/step - loss: 0.3566 - accuracy: 0.8388\n",
      "Epoch 457/1000\n",
      "8/8 [==============================] - 0s 3ms/step - loss: 0.3724 - accuracy: 0.8223\n",
      "Epoch 458/1000\n",
      "8/8 [==============================] - 0s 4ms/step - loss: 0.3568 - accuracy: 0.8430\n",
      "Epoch 459/1000\n",
      "8/8 [==============================] - 0s 3ms/step - loss: 0.3537 - accuracy: 0.8388\n",
      "Epoch 460/1000\n",
      "8/8 [==============================] - 0s 3ms/step - loss: 0.3639 - accuracy: 0.8388\n",
      "Epoch 461/1000\n",
      "8/8 [==============================] - 0s 3ms/step - loss: 0.3731 - accuracy: 0.8306\n",
      "Epoch 462/1000\n",
      "8/8 [==============================] - 0s 3ms/step - loss: 0.3794 - accuracy: 0.8306\n",
      "Epoch 463/1000\n",
      "8/8 [==============================] - 0s 3ms/step - loss: 0.3851 - accuracy: 0.8264\n",
      "Epoch 464/1000\n",
      "8/8 [==============================] - 0s 3ms/step - loss: 0.3679 - accuracy: 0.8430\n",
      "Epoch 465/1000\n",
      "8/8 [==============================] - 0s 3ms/step - loss: 0.3886 - accuracy: 0.8306\n",
      "Epoch 466/1000\n",
      "8/8 [==============================] - 0s 3ms/step - loss: 0.4146 - accuracy: 0.8140\n",
      "Epoch 467/1000\n",
      "8/8 [==============================] - 0s 3ms/step - loss: 0.3704 - accuracy: 0.8223\n",
      "Epoch 468/1000\n",
      "8/8 [==============================] - 0s 5ms/step - loss: 0.3987 - accuracy: 0.8223\n",
      "Epoch 469/1000\n",
      "8/8 [==============================] - 0s 4ms/step - loss: 0.4045 - accuracy: 0.8182\n",
      "Epoch 470/1000\n",
      "8/8 [==============================] - 0s 4ms/step - loss: 0.3744 - accuracy: 0.8140\n",
      "Epoch 471/1000\n",
      "8/8 [==============================] - 0s 4ms/step - loss: 0.4031 - accuracy: 0.8223\n",
      "Epoch 472/1000\n",
      "8/8 [==============================] - 0s 3ms/step - loss: 0.3793 - accuracy: 0.8264\n",
      "Epoch 473/1000\n",
      "8/8 [==============================] - 0s 5ms/step - loss: 0.3734 - accuracy: 0.8347\n",
      "Epoch 474/1000\n",
      "8/8 [==============================] - 0s 4ms/step - loss: 0.3661 - accuracy: 0.8430\n",
      "Epoch 475/1000\n",
      "8/8 [==============================] - 0s 3ms/step - loss: 0.3832 - accuracy: 0.8347\n",
      "Epoch 476/1000\n",
      "8/8 [==============================] - 0s 4ms/step - loss: 0.3877 - accuracy: 0.8264\n",
      "Epoch 477/1000\n",
      "8/8 [==============================] - 0s 3ms/step - loss: 0.3977 - accuracy: 0.8140\n",
      "Epoch 478/1000\n",
      "8/8 [==============================] - 0s 3ms/step - loss: 0.3635 - accuracy: 0.8471\n",
      "Epoch 479/1000\n",
      "8/8 [==============================] - 0s 4ms/step - loss: 0.3540 - accuracy: 0.8430\n",
      "Epoch 480/1000\n",
      "8/8 [==============================] - 0s 4ms/step - loss: 0.3746 - accuracy: 0.8347\n",
      "Epoch 481/1000\n",
      "8/8 [==============================] - 0s 3ms/step - loss: 0.3923 - accuracy: 0.8223\n",
      "Epoch 482/1000\n",
      "8/8 [==============================] - 0s 3ms/step - loss: 0.3856 - accuracy: 0.8430\n",
      "Epoch 483/1000\n",
      "8/8 [==============================] - 0s 3ms/step - loss: 0.3702 - accuracy: 0.8140\n",
      "Epoch 484/1000\n",
      "8/8 [==============================] - 0s 3ms/step - loss: 0.3653 - accuracy: 0.8347\n",
      "Epoch 485/1000\n",
      "8/8 [==============================] - 0s 5ms/step - loss: 0.3611 - accuracy: 0.8306\n",
      "Epoch 486/1000\n",
      "8/8 [==============================] - 0s 3ms/step - loss: 0.3931 - accuracy: 0.8306\n",
      "Epoch 487/1000\n",
      "8/8 [==============================] - 0s 3ms/step - loss: 0.3558 - accuracy: 0.8471\n",
      "Epoch 488/1000\n",
      "8/8 [==============================] - 0s 3ms/step - loss: 0.3707 - accuracy: 0.8595\n",
      "Epoch 489/1000\n",
      "8/8 [==============================] - 0s 4ms/step - loss: 0.3681 - accuracy: 0.8264\n",
      "Epoch 490/1000\n",
      "8/8 [==============================] - 0s 3ms/step - loss: 0.3968 - accuracy: 0.8099\n",
      "Epoch 491/1000\n",
      "8/8 [==============================] - 0s 3ms/step - loss: 0.3743 - accuracy: 0.8264\n",
      "Epoch 492/1000\n",
      "8/8 [==============================] - 0s 3ms/step - loss: 0.3606 - accuracy: 0.8347\n",
      "Epoch 493/1000\n",
      "8/8 [==============================] - 0s 3ms/step - loss: 0.3550 - accuracy: 0.8430\n",
      "Epoch 494/1000\n",
      "8/8 [==============================] - 0s 5ms/step - loss: 0.3541 - accuracy: 0.8512\n",
      "Epoch 495/1000\n",
      "8/8 [==============================] - 0s 3ms/step - loss: 0.3622 - accuracy: 0.8430\n",
      "Epoch 496/1000\n",
      "8/8 [==============================] - 0s 3ms/step - loss: 0.3557 - accuracy: 0.8512\n",
      "Epoch 497/1000\n",
      "8/8 [==============================] - 0s 3ms/step - loss: 0.3584 - accuracy: 0.8388\n",
      "Epoch 498/1000\n",
      "8/8 [==============================] - 0s 3ms/step - loss: 0.3800 - accuracy: 0.8264\n",
      "Epoch 499/1000\n",
      "8/8 [==============================] - 0s 4ms/step - loss: 0.4312 - accuracy: 0.8017\n",
      "Epoch 500/1000\n",
      "8/8 [==============================] - 0s 3ms/step - loss: 0.4008 - accuracy: 0.8017\n",
      "Epoch 501/1000\n",
      "8/8 [==============================] - 0s 3ms/step - loss: 0.3937 - accuracy: 0.8140\n",
      "Epoch 502/1000\n",
      "8/8 [==============================] - 0s 3ms/step - loss: 0.3708 - accuracy: 0.8388\n",
      "Epoch 503/1000\n",
      "8/8 [==============================] - 0s 4ms/step - loss: 0.3533 - accuracy: 0.8471\n",
      "Epoch 504/1000\n",
      "8/8 [==============================] - 0s 4ms/step - loss: 0.3637 - accuracy: 0.8430\n",
      "Epoch 505/1000\n",
      "8/8 [==============================] - 0s 3ms/step - loss: 0.4271 - accuracy: 0.8140\n",
      "Epoch 506/1000\n",
      "8/8 [==============================] - 0s 3ms/step - loss: 0.4448 - accuracy: 0.7769\n",
      "Epoch 507/1000\n",
      "8/8 [==============================] - 0s 3ms/step - loss: 0.5656 - accuracy: 0.7397\n",
      "Epoch 508/1000\n",
      "8/8 [==============================] - 0s 3ms/step - loss: 0.4364 - accuracy: 0.8058\n",
      "Epoch 509/1000\n",
      "8/8 [==============================] - 0s 4ms/step - loss: 0.4012 - accuracy: 0.8306\n",
      "Epoch 510/1000\n",
      "8/8 [==============================] - 0s 4ms/step - loss: 0.4251 - accuracy: 0.8140\n",
      "Epoch 511/1000\n",
      "8/8 [==============================] - 0s 3ms/step - loss: 0.3925 - accuracy: 0.8058\n",
      "Epoch 512/1000\n",
      "8/8 [==============================] - 0s 4ms/step - loss: 0.3542 - accuracy: 0.8471\n",
      "Epoch 513/1000\n",
      "8/8 [==============================] - 0s 4ms/step - loss: 0.3596 - accuracy: 0.8388\n",
      "Epoch 514/1000\n",
      "8/8 [==============================] - 0s 3ms/step - loss: 0.3691 - accuracy: 0.8471\n",
      "Epoch 515/1000\n",
      "8/8 [==============================] - 0s 3ms/step - loss: 0.3540 - accuracy: 0.8430\n",
      "Epoch 516/1000\n",
      "8/8 [==============================] - 0s 3ms/step - loss: 0.3507 - accuracy: 0.8471\n",
      "Epoch 517/1000\n",
      "8/8 [==============================] - 0s 4ms/step - loss: 0.3556 - accuracy: 0.8512\n",
      "Epoch 518/1000\n",
      "8/8 [==============================] - 0s 3ms/step - loss: 0.3624 - accuracy: 0.8471\n",
      "Epoch 519/1000\n",
      "8/8 [==============================] - 0s 3ms/step - loss: 0.3602 - accuracy: 0.8471\n",
      "Epoch 520/1000\n",
      "8/8 [==============================] - 0s 3ms/step - loss: 0.3613 - accuracy: 0.8471\n",
      "Epoch 521/1000\n",
      "8/8 [==============================] - 0s 3ms/step - loss: 0.3519 - accuracy: 0.8430\n",
      "Epoch 522/1000\n",
      "8/8 [==============================] - 0s 4ms/step - loss: 0.3874 - accuracy: 0.8140\n",
      "Epoch 523/1000\n",
      "8/8 [==============================] - 0s 4ms/step - loss: 0.4011 - accuracy: 0.8347\n",
      "Epoch 524/1000\n",
      "8/8 [==============================] - 0s 3ms/step - loss: 0.3675 - accuracy: 0.8264\n",
      "Epoch 525/1000\n",
      "8/8 [==============================] - 0s 3ms/step - loss: 0.3825 - accuracy: 0.8099\n",
      "Epoch 526/1000\n",
      "8/8 [==============================] - 0s 3ms/step - loss: 0.3799 - accuracy: 0.8306\n",
      "Epoch 527/1000\n",
      "8/8 [==============================] - 0s 3ms/step - loss: 0.3594 - accuracy: 0.8512\n",
      "Epoch 528/1000\n",
      "8/8 [==============================] - 0s 4ms/step - loss: 0.3597 - accuracy: 0.8347\n",
      "Epoch 529/1000\n",
      "8/8 [==============================] - 0s 3ms/step - loss: 0.3595 - accuracy: 0.8512\n",
      "Epoch 530/1000\n",
      "8/8 [==============================] - 0s 3ms/step - loss: 0.3598 - accuracy: 0.8430\n",
      "Epoch 531/1000\n",
      "8/8 [==============================] - 0s 3ms/step - loss: 0.3561 - accuracy: 0.8471\n",
      "Epoch 532/1000\n",
      "8/8 [==============================] - 0s 3ms/step - loss: 0.3540 - accuracy: 0.8388\n",
      "Epoch 533/1000\n",
      "8/8 [==============================] - 0s 3ms/step - loss: 0.3571 - accuracy: 0.8430\n",
      "Epoch 534/1000\n",
      "8/8 [==============================] - 0s 3ms/step - loss: 0.3530 - accuracy: 0.8347\n",
      "Epoch 535/1000\n",
      "8/8 [==============================] - 0s 3ms/step - loss: 0.3666 - accuracy: 0.8430\n",
      "Epoch 536/1000\n",
      "8/8 [==============================] - 0s 3ms/step - loss: 0.3796 - accuracy: 0.8306\n",
      "Epoch 537/1000\n",
      "8/8 [==============================] - 0s 3ms/step - loss: 0.3637 - accuracy: 0.8430\n",
      "Epoch 538/1000\n",
      "8/8 [==============================] - 0s 3ms/step - loss: 0.3698 - accuracy: 0.8347\n",
      "Epoch 539/1000\n",
      "8/8 [==============================] - 0s 3ms/step - loss: 0.3719 - accuracy: 0.8388\n",
      "Epoch 540/1000\n",
      "8/8 [==============================] - 0s 4ms/step - loss: 0.3684 - accuracy: 0.8306\n",
      "Epoch 541/1000\n",
      "8/8 [==============================] - 0s 4ms/step - loss: 0.3586 - accuracy: 0.8430\n",
      "Epoch 542/1000\n",
      "8/8 [==============================] - 0s 4ms/step - loss: 0.3557 - accuracy: 0.8512\n",
      "Epoch 543/1000\n",
      "8/8 [==============================] - 0s 3ms/step - loss: 0.3581 - accuracy: 0.8347\n",
      "Epoch 544/1000\n",
      "8/8 [==============================] - 0s 3ms/step - loss: 0.3564 - accuracy: 0.8471\n",
      "Epoch 545/1000\n",
      "8/8 [==============================] - 0s 3ms/step - loss: 0.3536 - accuracy: 0.8512\n",
      "Epoch 546/1000\n",
      "8/8 [==============================] - 0s 3ms/step - loss: 0.3643 - accuracy: 0.8554\n",
      "Epoch 547/1000\n",
      "8/8 [==============================] - 0s 3ms/step - loss: 0.3781 - accuracy: 0.8388\n",
      "Epoch 548/1000\n",
      "8/8 [==============================] - 0s 3ms/step - loss: 0.4086 - accuracy: 0.8058\n",
      "Epoch 549/1000\n",
      "8/8 [==============================] - 0s 3ms/step - loss: 0.3885 - accuracy: 0.8264\n",
      "Epoch 550/1000\n",
      "8/8 [==============================] - 0s 4ms/step - loss: 0.3888 - accuracy: 0.8058\n",
      "Epoch 551/1000\n",
      "8/8 [==============================] - 0s 3ms/step - loss: 0.3568 - accuracy: 0.8430\n",
      "Epoch 552/1000\n",
      "8/8 [==============================] - 0s 3ms/step - loss: 0.3524 - accuracy: 0.8471\n",
      "Epoch 553/1000\n",
      "8/8 [==============================] - 0s 3ms/step - loss: 0.3698 - accuracy: 0.8430\n",
      "Epoch 554/1000\n",
      "8/8 [==============================] - 0s 3ms/step - loss: 0.3782 - accuracy: 0.8223\n",
      "Epoch 555/1000\n",
      "8/8 [==============================] - 0s 3ms/step - loss: 0.3923 - accuracy: 0.8099\n",
      "Epoch 556/1000\n",
      "8/8 [==============================] - 0s 3ms/step - loss: 0.4221 - accuracy: 0.7975\n",
      "Epoch 557/1000\n",
      "8/8 [==============================] - 0s 3ms/step - loss: 0.4130 - accuracy: 0.8099\n",
      "Epoch 558/1000\n",
      "8/8 [==============================] - 0s 3ms/step - loss: 0.3737 - accuracy: 0.8264\n",
      "Epoch 559/1000\n",
      "8/8 [==============================] - 0s 3ms/step - loss: 0.3548 - accuracy: 0.8471\n",
      "Epoch 560/1000\n",
      "8/8 [==============================] - 0s 4ms/step - loss: 0.3498 - accuracy: 0.8471\n",
      "Epoch 561/1000\n",
      "8/8 [==============================] - 0s 3ms/step - loss: 0.3611 - accuracy: 0.8595\n",
      "Epoch 562/1000\n",
      "8/8 [==============================] - 0s 3ms/step - loss: 0.3698 - accuracy: 0.8347\n",
      "Epoch 563/1000\n",
      "8/8 [==============================] - 0s 3ms/step - loss: 0.3753 - accuracy: 0.8182\n",
      "Epoch 564/1000\n",
      "8/8 [==============================] - 0s 3ms/step - loss: 0.3578 - accuracy: 0.8306\n",
      "Epoch 565/1000\n",
      "8/8 [==============================] - 0s 3ms/step - loss: 0.3605 - accuracy: 0.8306\n",
      "Epoch 566/1000\n",
      "8/8 [==============================] - 0s 3ms/step - loss: 0.3583 - accuracy: 0.8430\n",
      "Epoch 567/1000\n",
      "8/8 [==============================] - 0s 3ms/step - loss: 0.3646 - accuracy: 0.8388\n",
      "Epoch 568/1000\n",
      "8/8 [==============================] - 0s 3ms/step - loss: 0.3823 - accuracy: 0.8223\n",
      "Epoch 569/1000\n",
      "8/8 [==============================] - 0s 3ms/step - loss: 0.3691 - accuracy: 0.8347\n",
      "Epoch 570/1000\n",
      "8/8 [==============================] - 0s 3ms/step - loss: 0.3868 - accuracy: 0.8182\n",
      "Epoch 571/1000\n",
      "8/8 [==============================] - 0s 3ms/step - loss: 0.3731 - accuracy: 0.8388\n",
      "Epoch 572/1000\n",
      "8/8 [==============================] - 0s 3ms/step - loss: 0.3751 - accuracy: 0.8347\n",
      "Epoch 573/1000\n",
      "8/8 [==============================] - 0s 3ms/step - loss: 0.3683 - accuracy: 0.8471\n",
      "Epoch 574/1000\n",
      "8/8 [==============================] - 0s 4ms/step - loss: 0.3886 - accuracy: 0.8347\n",
      "Epoch 575/1000\n",
      "8/8 [==============================] - 0s 4ms/step - loss: 0.3869 - accuracy: 0.8347\n",
      "Epoch 576/1000\n",
      "8/8 [==============================] - 0s 4ms/step - loss: 0.3799 - accuracy: 0.8388\n",
      "Epoch 577/1000\n",
      "8/8 [==============================] - 0s 3ms/step - loss: 0.3665 - accuracy: 0.8264\n",
      "Epoch 578/1000\n",
      "8/8 [==============================] - 0s 3ms/step - loss: 0.3562 - accuracy: 0.8388\n",
      "Epoch 579/1000\n",
      "8/8 [==============================] - 0s 3ms/step - loss: 0.3517 - accuracy: 0.8388\n",
      "Epoch 580/1000\n",
      "8/8 [==============================] - 0s 3ms/step - loss: 0.3530 - accuracy: 0.8471\n",
      "Epoch 581/1000\n",
      "8/8 [==============================] - 0s 4ms/step - loss: 0.3598 - accuracy: 0.8388\n",
      "Epoch 582/1000\n",
      "8/8 [==============================] - 0s 5ms/step - loss: 0.3497 - accuracy: 0.8388\n",
      "Epoch 583/1000\n",
      "8/8 [==============================] - 0s 5ms/step - loss: 0.3962 - accuracy: 0.8264\n",
      "Epoch 584/1000\n",
      "8/8 [==============================] - 0s 4ms/step - loss: 0.3583 - accuracy: 0.8264\n",
      "Epoch 585/1000\n",
      "8/8 [==============================] - 0s 3ms/step - loss: 0.3759 - accuracy: 0.8306\n",
      "Epoch 586/1000\n",
      "8/8 [==============================] - 0s 3ms/step - loss: 0.3523 - accuracy: 0.8430\n",
      "Epoch 587/1000\n",
      "8/8 [==============================] - 0s 4ms/step - loss: 0.3586 - accuracy: 0.8554\n",
      "Epoch 588/1000\n",
      "8/8 [==============================] - 0s 3ms/step - loss: 0.3518 - accuracy: 0.8471\n",
      "Epoch 589/1000\n",
      "8/8 [==============================] - 0s 4ms/step - loss: 0.3555 - accuracy: 0.8347\n",
      "Epoch 590/1000\n",
      "8/8 [==============================] - 0s 4ms/step - loss: 0.3719 - accuracy: 0.8140\n",
      "Epoch 591/1000\n",
      "8/8 [==============================] - 0s 3ms/step - loss: 0.4031 - accuracy: 0.8264\n",
      "Epoch 592/1000\n",
      "8/8 [==============================] - 0s 3ms/step - loss: 0.3548 - accuracy: 0.8430\n",
      "Epoch 593/1000\n",
      "8/8 [==============================] - 0s 3ms/step - loss: 0.3531 - accuracy: 0.8554\n",
      "Epoch 594/1000\n",
      "8/8 [==============================] - 0s 3ms/step - loss: 0.3601 - accuracy: 0.8388\n",
      "Epoch 595/1000\n",
      "8/8 [==============================] - 0s 3ms/step - loss: 0.3629 - accuracy: 0.8306\n",
      "Epoch 596/1000\n",
      "8/8 [==============================] - 0s 3ms/step - loss: 0.3530 - accuracy: 0.8430\n",
      "Epoch 597/1000\n",
      "8/8 [==============================] - 0s 3ms/step - loss: 0.3601 - accuracy: 0.8430\n",
      "Epoch 598/1000\n",
      "8/8 [==============================] - 0s 3ms/step - loss: 0.3531 - accuracy: 0.8471\n",
      "Epoch 599/1000\n",
      "8/8 [==============================] - 0s 3ms/step - loss: 0.3558 - accuracy: 0.8471\n",
      "Epoch 600/1000\n",
      "8/8 [==============================] - 0s 3ms/step - loss: 0.3642 - accuracy: 0.8347\n",
      "Epoch 601/1000\n",
      "8/8 [==============================] - 0s 3ms/step - loss: 0.3643 - accuracy: 0.8430\n",
      "Epoch 602/1000\n",
      "8/8 [==============================] - 0s 3ms/step - loss: 0.3612 - accuracy: 0.8223\n",
      "Epoch 603/1000\n",
      "8/8 [==============================] - 0s 3ms/step - loss: 0.4133 - accuracy: 0.7934\n",
      "Epoch 604/1000\n",
      "8/8 [==============================] - 0s 3ms/step - loss: 0.3924 - accuracy: 0.8140\n",
      "Epoch 605/1000\n",
      "8/8 [==============================] - 0s 3ms/step - loss: 0.3605 - accuracy: 0.8430\n",
      "Epoch 606/1000\n",
      "8/8 [==============================] - 0s 3ms/step - loss: 0.3558 - accuracy: 0.8430\n",
      "Epoch 607/1000\n",
      "8/8 [==============================] - 0s 3ms/step - loss: 0.3647 - accuracy: 0.8388\n",
      "Epoch 608/1000\n",
      "8/8 [==============================] - 0s 3ms/step - loss: 0.3856 - accuracy: 0.8264\n",
      "Epoch 609/1000\n",
      "8/8 [==============================] - 0s 3ms/step - loss: 0.3510 - accuracy: 0.8471\n",
      "Epoch 610/1000\n",
      "8/8 [==============================] - 0s 3ms/step - loss: 0.3488 - accuracy: 0.8471\n",
      "Epoch 611/1000\n",
      "8/8 [==============================] - 0s 3ms/step - loss: 0.3721 - accuracy: 0.8388\n",
      "Epoch 612/1000\n",
      "8/8 [==============================] - 0s 3ms/step - loss: 0.3933 - accuracy: 0.8347\n",
      "Epoch 613/1000\n",
      "8/8 [==============================] - 0s 3ms/step - loss: 0.3683 - accuracy: 0.8264\n",
      "Epoch 614/1000\n",
      "8/8 [==============================] - 0s 4ms/step - loss: 0.3602 - accuracy: 0.8264\n",
      "Epoch 615/1000\n",
      "8/8 [==============================] - 0s 4ms/step - loss: 0.3613 - accuracy: 0.8306\n",
      "Epoch 616/1000\n",
      "8/8 [==============================] - 0s 4ms/step - loss: 0.3660 - accuracy: 0.8388\n",
      "Epoch 617/1000\n",
      "8/8 [==============================] - 0s 3ms/step - loss: 0.3558 - accuracy: 0.8347\n",
      "Epoch 618/1000\n",
      "8/8 [==============================] - 0s 3ms/step - loss: 0.3614 - accuracy: 0.8471\n",
      "Epoch 619/1000\n",
      "8/8 [==============================] - 0s 3ms/step - loss: 0.3582 - accuracy: 0.8471\n",
      "Epoch 620/1000\n",
      "8/8 [==============================] - 0s 3ms/step - loss: 0.3608 - accuracy: 0.8471\n",
      "Epoch 621/1000\n",
      "8/8 [==============================] - 0s 4ms/step - loss: 0.3525 - accuracy: 0.8471\n",
      "Epoch 622/1000\n",
      "8/8 [==============================] - 0s 3ms/step - loss: 0.3555 - accuracy: 0.8471\n",
      "Epoch 623/1000\n",
      "8/8 [==============================] - 0s 3ms/step - loss: 0.3582 - accuracy: 0.8512\n",
      "Epoch 624/1000\n",
      "8/8 [==============================] - 0s 3ms/step - loss: 0.3596 - accuracy: 0.8264\n",
      "Epoch 625/1000\n",
      "8/8 [==============================] - 0s 3ms/step - loss: 0.3575 - accuracy: 0.8430\n",
      "Epoch 626/1000\n",
      "8/8 [==============================] - 0s 3ms/step - loss: 0.3540 - accuracy: 0.8430\n",
      "Epoch 627/1000\n",
      "8/8 [==============================] - 0s 3ms/step - loss: 0.3516 - accuracy: 0.8430\n",
      "Epoch 628/1000\n",
      "8/8 [==============================] - 0s 3ms/step - loss: 0.3504 - accuracy: 0.8471\n",
      "Epoch 629/1000\n",
      "8/8 [==============================] - 0s 3ms/step - loss: 0.3546 - accuracy: 0.8471\n",
      "Epoch 630/1000\n",
      "8/8 [==============================] - 0s 3ms/step - loss: 0.3691 - accuracy: 0.8306\n",
      "Epoch 631/1000\n",
      "8/8 [==============================] - 0s 3ms/step - loss: 0.3649 - accuracy: 0.8430\n",
      "Epoch 632/1000\n",
      "8/8 [==============================] - 0s 4ms/step - loss: 0.3558 - accuracy: 0.8388\n",
      "Epoch 633/1000\n",
      "8/8 [==============================] - 0s 3ms/step - loss: 0.3658 - accuracy: 0.8471\n",
      "Epoch 634/1000\n",
      "8/8 [==============================] - 0s 3ms/step - loss: 0.4566 - accuracy: 0.8017\n",
      "Epoch 635/1000\n",
      "8/8 [==============================] - 0s 3ms/step - loss: 0.3958 - accuracy: 0.8140\n",
      "Epoch 636/1000\n",
      "8/8 [==============================] - 0s 3ms/step - loss: 0.3642 - accuracy: 0.8430\n",
      "Epoch 637/1000\n",
      "8/8 [==============================] - 0s 3ms/step - loss: 0.3532 - accuracy: 0.8388\n",
      "Epoch 638/1000\n",
      "8/8 [==============================] - 0s 3ms/step - loss: 0.3558 - accuracy: 0.8264\n",
      "Epoch 639/1000\n",
      "8/8 [==============================] - 0s 3ms/step - loss: 0.3658 - accuracy: 0.8306\n",
      "Epoch 640/1000\n",
      "8/8 [==============================] - 0s 3ms/step - loss: 0.3606 - accuracy: 0.8388\n",
      "Epoch 641/1000\n",
      "8/8 [==============================] - 0s 3ms/step - loss: 0.3519 - accuracy: 0.8471\n",
      "Epoch 642/1000\n",
      "8/8 [==============================] - 0s 3ms/step - loss: 0.3555 - accuracy: 0.8512\n",
      "Epoch 643/1000\n",
      "8/8 [==============================] - 0s 3ms/step - loss: 0.3622 - accuracy: 0.8554\n",
      "Epoch 644/1000\n",
      "8/8 [==============================] - 0s 3ms/step - loss: 0.3648 - accuracy: 0.8430\n",
      "Epoch 645/1000\n",
      "8/8 [==============================] - 0s 4ms/step - loss: 0.3650 - accuracy: 0.8430\n",
      "Epoch 646/1000\n",
      "8/8 [==============================] - 0s 4ms/step - loss: 0.3634 - accuracy: 0.8347\n",
      "Epoch 647/1000\n",
      "8/8 [==============================] - 0s 3ms/step - loss: 0.3660 - accuracy: 0.8388\n",
      "Epoch 648/1000\n",
      "8/8 [==============================] - 0s 3ms/step - loss: 0.3616 - accuracy: 0.8388\n",
      "Epoch 649/1000\n",
      "8/8 [==============================] - 0s 3ms/step - loss: 0.3787 - accuracy: 0.8182\n",
      "Epoch 650/1000\n",
      "8/8 [==============================] - 0s 3ms/step - loss: 0.3545 - accuracy: 0.8554\n",
      "Epoch 651/1000\n",
      "8/8 [==============================] - 0s 3ms/step - loss: 0.3512 - accuracy: 0.8554\n",
      "Epoch 652/1000\n",
      "8/8 [==============================] - 0s 3ms/step - loss: 0.4080 - accuracy: 0.7810\n",
      "Epoch 653/1000\n",
      "8/8 [==============================] - 0s 3ms/step - loss: 0.3886 - accuracy: 0.8264\n",
      "Epoch 654/1000\n",
      "8/8 [==============================] - 0s 3ms/step - loss: 0.4031 - accuracy: 0.8223\n",
      "Epoch 655/1000\n",
      "8/8 [==============================] - 0s 3ms/step - loss: 0.3908 - accuracy: 0.8182\n",
      "Epoch 656/1000\n",
      "8/8 [==============================] - 0s 3ms/step - loss: 0.3578 - accuracy: 0.8512\n",
      "Epoch 657/1000\n",
      "8/8 [==============================] - 0s 3ms/step - loss: 0.3717 - accuracy: 0.8430\n",
      "Epoch 658/1000\n",
      "8/8 [==============================] - 0s 3ms/step - loss: 0.3580 - accuracy: 0.8306\n",
      "Epoch 659/1000\n",
      "8/8 [==============================] - 0s 3ms/step - loss: 0.3543 - accuracy: 0.8512\n",
      "Epoch 660/1000\n",
      "8/8 [==============================] - 0s 3ms/step - loss: 0.3553 - accuracy: 0.8347\n",
      "Epoch 661/1000\n",
      "8/8 [==============================] - 0s 3ms/step - loss: 0.3535 - accuracy: 0.8512\n",
      "Epoch 662/1000\n",
      "8/8 [==============================] - 0s 3ms/step - loss: 0.3527 - accuracy: 0.8471\n",
      "Epoch 663/1000\n",
      "8/8 [==============================] - 0s 3ms/step - loss: 0.3581 - accuracy: 0.8388\n",
      "Epoch 664/1000\n",
      "8/8 [==============================] - 0s 3ms/step - loss: 0.3579 - accuracy: 0.8471\n",
      "Epoch 665/1000\n",
      "8/8 [==============================] - 0s 4ms/step - loss: 0.3570 - accuracy: 0.8223\n",
      "Epoch 666/1000\n",
      "8/8 [==============================] - 0s 3ms/step - loss: 0.3756 - accuracy: 0.8347\n",
      "Epoch 667/1000\n",
      "8/8 [==============================] - 0s 4ms/step - loss: 0.3760 - accuracy: 0.8512\n",
      "Epoch 668/1000\n",
      "8/8 [==============================] - 0s 3ms/step - loss: 0.3783 - accuracy: 0.8264\n",
      "Epoch 669/1000\n",
      "8/8 [==============================] - 0s 3ms/step - loss: 0.3754 - accuracy: 0.8306\n",
      "Epoch 670/1000\n",
      "8/8 [==============================] - 0s 4ms/step - loss: 0.3557 - accuracy: 0.8554\n",
      "Epoch 671/1000\n",
      "8/8 [==============================] - 0s 4ms/step - loss: 0.3744 - accuracy: 0.8347\n",
      "Epoch 672/1000\n",
      "8/8 [==============================] - 0s 3ms/step - loss: 0.3512 - accuracy: 0.8512\n",
      "Epoch 673/1000\n",
      "8/8 [==============================] - 0s 3ms/step - loss: 0.3595 - accuracy: 0.8512\n",
      "Epoch 674/1000\n",
      "8/8 [==============================] - 0s 3ms/step - loss: 0.3468 - accuracy: 0.8512\n",
      "Epoch 675/1000\n",
      "8/8 [==============================] - 0s 3ms/step - loss: 0.3779 - accuracy: 0.8182\n",
      "Epoch 676/1000\n",
      "8/8 [==============================] - 0s 4ms/step - loss: 0.3705 - accuracy: 0.8595\n",
      "Epoch 677/1000\n",
      "8/8 [==============================] - 0s 4ms/step - loss: 0.3888 - accuracy: 0.8388\n",
      "Epoch 678/1000\n",
      "8/8 [==============================] - 0s 3ms/step - loss: 0.4262 - accuracy: 0.8264\n",
      "Epoch 679/1000\n",
      "8/8 [==============================] - 0s 4ms/step - loss: 0.3901 - accuracy: 0.8471\n",
      "Epoch 680/1000\n",
      "8/8 [==============================] - 0s 3ms/step - loss: 0.3770 - accuracy: 0.8388\n",
      "Epoch 681/1000\n",
      "8/8 [==============================] - 0s 4ms/step - loss: 0.3640 - accuracy: 0.8388\n",
      "Epoch 682/1000\n",
      "8/8 [==============================] - 0s 3ms/step - loss: 0.3729 - accuracy: 0.8512\n",
      "Epoch 683/1000\n",
      "8/8 [==============================] - 0s 4ms/step - loss: 0.3581 - accuracy: 0.8595\n",
      "Epoch 684/1000\n",
      "8/8 [==============================] - 0s 3ms/step - loss: 0.3504 - accuracy: 0.8264\n",
      "Epoch 685/1000\n",
      "8/8 [==============================] - 0s 3ms/step - loss: 0.3893 - accuracy: 0.8347\n",
      "Epoch 686/1000\n",
      "8/8 [==============================] - 0s 3ms/step - loss: 0.3991 - accuracy: 0.8223\n",
      "Epoch 687/1000\n",
      "8/8 [==============================] - 0s 3ms/step - loss: 0.4114 - accuracy: 0.8223\n",
      "Epoch 688/1000\n",
      "8/8 [==============================] - 0s 3ms/step - loss: 0.4144 - accuracy: 0.8099\n",
      "Epoch 689/1000\n",
      "8/8 [==============================] - 0s 3ms/step - loss: 0.3776 - accuracy: 0.8140\n",
      "Epoch 690/1000\n",
      "8/8 [==============================] - 0s 3ms/step - loss: 0.3742 - accuracy: 0.8347\n",
      "Epoch 691/1000\n",
      "8/8 [==============================] - 0s 4ms/step - loss: 0.3495 - accuracy: 0.8595\n",
      "Epoch 692/1000\n",
      "8/8 [==============================] - 0s 5ms/step - loss: 0.3603 - accuracy: 0.8223\n",
      "Epoch 693/1000\n",
      "8/8 [==============================] - 0s 3ms/step - loss: 0.3612 - accuracy: 0.8306\n",
      "Epoch 694/1000\n",
      "8/8 [==============================] - 0s 3ms/step - loss: 0.3668 - accuracy: 0.8430\n",
      "Epoch 695/1000\n",
      "8/8 [==============================] - 0s 3ms/step - loss: 0.3507 - accuracy: 0.8471\n",
      "Epoch 696/1000\n",
      "8/8 [==============================] - 0s 3ms/step - loss: 0.3609 - accuracy: 0.8430\n",
      "Epoch 697/1000\n",
      "8/8 [==============================] - 0s 3ms/step - loss: 0.3795 - accuracy: 0.8140\n",
      "Epoch 698/1000\n",
      "8/8 [==============================] - 0s 3ms/step - loss: 0.3646 - accuracy: 0.8430\n",
      "Epoch 699/1000\n",
      "8/8 [==============================] - 0s 3ms/step - loss: 0.3686 - accuracy: 0.8264\n",
      "Epoch 700/1000\n",
      "8/8 [==============================] - 0s 4ms/step - loss: 0.3516 - accuracy: 0.8388\n",
      "Epoch 701/1000\n",
      "8/8 [==============================] - 0s 3ms/step - loss: 0.3592 - accuracy: 0.8347\n",
      "Epoch 702/1000\n",
      "8/8 [==============================] - 0s 3ms/step - loss: 0.3772 - accuracy: 0.8306\n",
      "Epoch 703/1000\n",
      "8/8 [==============================] - 0s 3ms/step - loss: 0.3887 - accuracy: 0.8264\n",
      "Epoch 704/1000\n",
      "8/8 [==============================] - 0s 3ms/step - loss: 0.3554 - accuracy: 0.8306\n",
      "Epoch 705/1000\n",
      "8/8 [==============================] - 0s 3ms/step - loss: 0.3849 - accuracy: 0.8182\n",
      "Epoch 706/1000\n",
      "8/8 [==============================] - 0s 3ms/step - loss: 0.3731 - accuracy: 0.8471\n",
      "Epoch 707/1000\n",
      "8/8 [==============================] - 0s 3ms/step - loss: 0.3656 - accuracy: 0.8471\n",
      "Epoch 708/1000\n",
      "8/8 [==============================] - 0s 3ms/step - loss: 0.3681 - accuracy: 0.8306\n",
      "Epoch 709/1000\n",
      "8/8 [==============================] - 0s 3ms/step - loss: 0.3935 - accuracy: 0.8388\n",
      "Epoch 710/1000\n",
      "8/8 [==============================] - 0s 3ms/step - loss: 0.3705 - accuracy: 0.8347\n",
      "Epoch 711/1000\n",
      "8/8 [==============================] - 0s 4ms/step - loss: 0.3744 - accuracy: 0.8264\n",
      "Epoch 712/1000\n",
      "8/8 [==============================] - 0s 4ms/step - loss: 0.3752 - accuracy: 0.8264\n",
      "Epoch 713/1000\n",
      "8/8 [==============================] - 0s 3ms/step - loss: 0.3603 - accuracy: 0.8388\n",
      "Epoch 714/1000\n",
      "8/8 [==============================] - 0s 3ms/step - loss: 0.3638 - accuracy: 0.8388\n",
      "Epoch 715/1000\n",
      "8/8 [==============================] - 0s 3ms/step - loss: 0.3644 - accuracy: 0.8347\n",
      "Epoch 716/1000\n",
      "8/8 [==============================] - 0s 3ms/step - loss: 0.3611 - accuracy: 0.8471\n",
      "Epoch 717/1000\n",
      "8/8 [==============================] - 0s 3ms/step - loss: 0.3564 - accuracy: 0.8347\n",
      "Epoch 718/1000\n",
      "8/8 [==============================] - 0s 3ms/step - loss: 0.3537 - accuracy: 0.8471\n",
      "Epoch 719/1000\n",
      "8/8 [==============================] - 0s 3ms/step - loss: 0.3689 - accuracy: 0.8347\n",
      "Epoch 720/1000\n",
      "8/8 [==============================] - 0s 3ms/step - loss: 0.3530 - accuracy: 0.8388\n",
      "Epoch 721/1000\n",
      "8/8 [==============================] - 0s 3ms/step - loss: 0.3542 - accuracy: 0.8471\n",
      "Epoch 722/1000\n",
      "8/8 [==============================] - 0s 3ms/step - loss: 0.3628 - accuracy: 0.8430\n",
      "Epoch 723/1000\n",
      "8/8 [==============================] - 0s 3ms/step - loss: 0.3741 - accuracy: 0.8347\n",
      "Epoch 724/1000\n",
      "8/8 [==============================] - 0s 4ms/step - loss: 0.3532 - accuracy: 0.8430\n",
      "Epoch 725/1000\n",
      "8/8 [==============================] - 0s 4ms/step - loss: 0.3608 - accuracy: 0.8306\n",
      "Epoch 726/1000\n",
      "8/8 [==============================] - 0s 3ms/step - loss: 0.3516 - accuracy: 0.8430\n",
      "Epoch 727/1000\n",
      "8/8 [==============================] - 0s 3ms/step - loss: 0.3563 - accuracy: 0.8347\n",
      "Epoch 728/1000\n",
      "8/8 [==============================] - 0s 3ms/step - loss: 0.3658 - accuracy: 0.8430\n",
      "Epoch 729/1000\n",
      "8/8 [==============================] - 0s 3ms/step - loss: 0.3745 - accuracy: 0.8306\n",
      "Epoch 730/1000\n",
      "8/8 [==============================] - 0s 3ms/step - loss: 0.3531 - accuracy: 0.8471\n",
      "Epoch 731/1000\n",
      "8/8 [==============================] - 0s 3ms/step - loss: 0.3629 - accuracy: 0.8182\n",
      "Epoch 732/1000\n",
      "8/8 [==============================] - 0s 3ms/step - loss: 0.3529 - accuracy: 0.8430\n",
      "Epoch 733/1000\n",
      "8/8 [==============================] - 0s 3ms/step - loss: 0.3642 - accuracy: 0.8347\n",
      "Epoch 734/1000\n",
      "8/8 [==============================] - 0s 3ms/step - loss: 0.3610 - accuracy: 0.8306\n",
      "Epoch 735/1000\n",
      "8/8 [==============================] - 0s 3ms/step - loss: 0.3538 - accuracy: 0.8512\n",
      "Epoch 736/1000\n",
      "8/8 [==============================] - 0s 3ms/step - loss: 0.3664 - accuracy: 0.8430\n",
      "Epoch 737/1000\n",
      "8/8 [==============================] - 0s 3ms/step - loss: 0.3588 - accuracy: 0.8306\n",
      "Epoch 738/1000\n",
      "8/8 [==============================] - 0s 3ms/step - loss: 0.3705 - accuracy: 0.8388\n",
      "Epoch 739/1000\n",
      "8/8 [==============================] - 0s 3ms/step - loss: 0.3539 - accuracy: 0.8430\n",
      "Epoch 740/1000\n",
      "8/8 [==============================] - 0s 3ms/step - loss: 0.3568 - accuracy: 0.8430\n",
      "Epoch 741/1000\n",
      "8/8 [==============================] - 0s 3ms/step - loss: 0.3531 - accuracy: 0.8430\n",
      "Epoch 742/1000\n",
      "8/8 [==============================] - 0s 4ms/step - loss: 0.3588 - accuracy: 0.8471\n",
      "Epoch 743/1000\n",
      "8/8 [==============================] - 0s 4ms/step - loss: 0.3674 - accuracy: 0.8306\n",
      "Epoch 744/1000\n",
      "8/8 [==============================] - 0s 3ms/step - loss: 0.3738 - accuracy: 0.8140\n",
      "Epoch 745/1000\n",
      "8/8 [==============================] - 0s 3ms/step - loss: 0.3629 - accuracy: 0.8306\n",
      "Epoch 746/1000\n",
      "8/8 [==============================] - 0s 3ms/step - loss: 0.3908 - accuracy: 0.8347\n",
      "Epoch 747/1000\n",
      "8/8 [==============================] - 0s 3ms/step - loss: 0.3950 - accuracy: 0.8347\n",
      "Epoch 748/1000\n",
      "8/8 [==============================] - 0s 3ms/step - loss: 0.3630 - accuracy: 0.8347\n",
      "Epoch 749/1000\n",
      "8/8 [==============================] - 0s 3ms/step - loss: 0.3521 - accuracy: 0.8512\n",
      "Epoch 750/1000\n",
      "8/8 [==============================] - 0s 3ms/step - loss: 0.3780 - accuracy: 0.8430\n",
      "Epoch 751/1000\n",
      "8/8 [==============================] - 0s 3ms/step - loss: 0.3572 - accuracy: 0.8512\n",
      "Epoch 752/1000\n",
      "8/8 [==============================] - 0s 3ms/step - loss: 0.3585 - accuracy: 0.8512\n",
      "Epoch 753/1000\n",
      "8/8 [==============================] - 0s 4ms/step - loss: 0.3508 - accuracy: 0.8430\n",
      "Epoch 754/1000\n",
      "8/8 [==============================] - 0s 3ms/step - loss: 0.3503 - accuracy: 0.8430\n",
      "Epoch 755/1000\n",
      "8/8 [==============================] - 0s 4ms/step - loss: 0.3624 - accuracy: 0.8512\n",
      "Epoch 756/1000\n",
      "8/8 [==============================] - 0s 4ms/step - loss: 0.3629 - accuracy: 0.8430\n",
      "Epoch 757/1000\n",
      "8/8 [==============================] - 0s 5ms/step - loss: 0.3729 - accuracy: 0.8388\n",
      "Epoch 758/1000\n",
      "8/8 [==============================] - 0s 4ms/step - loss: 0.3587 - accuracy: 0.8512\n",
      "Epoch 759/1000\n",
      "8/8 [==============================] - 0s 4ms/step - loss: 0.3519 - accuracy: 0.8471\n",
      "Epoch 760/1000\n",
      "8/8 [==============================] - 0s 3ms/step - loss: 0.3793 - accuracy: 0.8182\n",
      "Epoch 761/1000\n",
      "8/8 [==============================] - 0s 4ms/step - loss: 0.4156 - accuracy: 0.7934\n",
      "Epoch 762/1000\n",
      "8/8 [==============================] - 0s 4ms/step - loss: 0.4049 - accuracy: 0.8223\n",
      "Epoch 763/1000\n",
      "8/8 [==============================] - 0s 3ms/step - loss: 0.4107 - accuracy: 0.7603\n",
      "Epoch 764/1000\n",
      "8/8 [==============================] - 0s 3ms/step - loss: 0.3968 - accuracy: 0.8017\n",
      "Epoch 765/1000\n",
      "8/8 [==============================] - 0s 3ms/step - loss: 0.3594 - accuracy: 0.8430\n",
      "Epoch 766/1000\n",
      "8/8 [==============================] - 0s 3ms/step - loss: 0.3769 - accuracy: 0.8388\n",
      "Epoch 767/1000\n",
      "8/8 [==============================] - 0s 4ms/step - loss: 0.3892 - accuracy: 0.8264\n",
      "Epoch 768/1000\n",
      "8/8 [==============================] - 0s 4ms/step - loss: 0.3853 - accuracy: 0.8182\n",
      "Epoch 769/1000\n",
      "8/8 [==============================] - 0s 3ms/step - loss: 0.4015 - accuracy: 0.8388\n",
      "Epoch 770/1000\n",
      "8/8 [==============================] - 0s 3ms/step - loss: 0.3599 - accuracy: 0.8512\n",
      "Epoch 771/1000\n",
      "8/8 [==============================] - 0s 4ms/step - loss: 0.3533 - accuracy: 0.8430\n",
      "Epoch 772/1000\n",
      "8/8 [==============================] - 0s 3ms/step - loss: 0.3558 - accuracy: 0.8430\n",
      "Epoch 773/1000\n",
      "8/8 [==============================] - 0s 3ms/step - loss: 0.3592 - accuracy: 0.8430\n",
      "Epoch 774/1000\n",
      "8/8 [==============================] - 0s 3ms/step - loss: 0.3541 - accuracy: 0.8388\n",
      "Epoch 775/1000\n",
      "8/8 [==============================] - 0s 3ms/step - loss: 0.3602 - accuracy: 0.8512\n",
      "Epoch 776/1000\n",
      "8/8 [==============================] - 0s 3ms/step - loss: 0.3831 - accuracy: 0.8430\n",
      "Epoch 777/1000\n",
      "8/8 [==============================] - 0s 3ms/step - loss: 0.3890 - accuracy: 0.8017\n",
      "Epoch 778/1000\n",
      "8/8 [==============================] - 0s 3ms/step - loss: 0.3971 - accuracy: 0.8347\n",
      "Epoch 779/1000\n",
      "8/8 [==============================] - 0s 3ms/step - loss: 0.3827 - accuracy: 0.8306\n",
      "Epoch 780/1000\n",
      "8/8 [==============================] - 0s 3ms/step - loss: 0.3845 - accuracy: 0.8223\n",
      "Epoch 781/1000\n",
      "8/8 [==============================] - 0s 3ms/step - loss: 0.3796 - accuracy: 0.8388\n",
      "Epoch 782/1000\n",
      "8/8 [==============================] - 0s 3ms/step - loss: 0.3661 - accuracy: 0.8471\n",
      "Epoch 783/1000\n",
      "8/8 [==============================] - 0s 3ms/step - loss: 0.3727 - accuracy: 0.8182\n",
      "Epoch 784/1000\n",
      "8/8 [==============================] - 0s 3ms/step - loss: 0.3563 - accuracy: 0.8430\n",
      "Epoch 785/1000\n",
      "8/8 [==============================] - 0s 3ms/step - loss: 0.3661 - accuracy: 0.8471\n",
      "Epoch 786/1000\n",
      "8/8 [==============================] - 0s 4ms/step - loss: 0.3567 - accuracy: 0.8471\n",
      "Epoch 787/1000\n",
      "8/8 [==============================] - 0s 4ms/step - loss: 0.3555 - accuracy: 0.8388\n",
      "Epoch 788/1000\n",
      "8/8 [==============================] - 0s 3ms/step - loss: 0.3823 - accuracy: 0.8430\n",
      "Epoch 789/1000\n",
      "8/8 [==============================] - 0s 3ms/step - loss: 0.3746 - accuracy: 0.8512\n",
      "Epoch 790/1000\n",
      "8/8 [==============================] - 0s 3ms/step - loss: 0.3737 - accuracy: 0.8306\n",
      "Epoch 791/1000\n",
      "8/8 [==============================] - 0s 3ms/step - loss: 0.3500 - accuracy: 0.8471\n",
      "Epoch 792/1000\n",
      "8/8 [==============================] - 0s 3ms/step - loss: 0.3577 - accuracy: 0.8430\n",
      "Epoch 793/1000\n",
      "8/8 [==============================] - 0s 4ms/step - loss: 0.3536 - accuracy: 0.8471\n",
      "Epoch 794/1000\n",
      "8/8 [==============================] - 0s 4ms/step - loss: 0.3701 - accuracy: 0.8306\n",
      "Epoch 795/1000\n",
      "8/8 [==============================] - 0s 3ms/step - loss: 0.3493 - accuracy: 0.8347\n",
      "Epoch 796/1000\n",
      "8/8 [==============================] - 0s 3ms/step - loss: 0.3596 - accuracy: 0.8471\n",
      "Epoch 797/1000\n",
      "8/8 [==============================] - 0s 3ms/step - loss: 0.3569 - accuracy: 0.8554\n",
      "Epoch 798/1000\n",
      "8/8 [==============================] - 0s 3ms/step - loss: 0.3534 - accuracy: 0.8471\n",
      "Epoch 799/1000\n",
      "8/8 [==============================] - 0s 3ms/step - loss: 0.4048 - accuracy: 0.8182\n",
      "Epoch 800/1000\n",
      "8/8 [==============================] - 0s 3ms/step - loss: 0.3681 - accuracy: 0.8306\n",
      "Epoch 801/1000\n",
      "8/8 [==============================] - 0s 5ms/step - loss: 0.3522 - accuracy: 0.8471\n",
      "Epoch 802/1000\n",
      "8/8 [==============================] - 0s 3ms/step - loss: 0.3630 - accuracy: 0.8223\n",
      "Epoch 803/1000\n",
      "8/8 [==============================] - 0s 4ms/step - loss: 0.3926 - accuracy: 0.8430\n",
      "Epoch 804/1000\n",
      "8/8 [==============================] - 0s 4ms/step - loss: 0.3864 - accuracy: 0.8264\n",
      "Epoch 805/1000\n",
      "8/8 [==============================] - 0s 4ms/step - loss: 0.3907 - accuracy: 0.8223\n",
      "Epoch 806/1000\n",
      "8/8 [==============================] - 0s 4ms/step - loss: 0.4021 - accuracy: 0.8223\n",
      "Epoch 807/1000\n",
      "8/8 [==============================] - 0s 3ms/step - loss: 0.3659 - accuracy: 0.8264\n",
      "Epoch 808/1000\n",
      "8/8 [==============================] - 0s 5ms/step - loss: 0.3598 - accuracy: 0.8388\n",
      "Epoch 809/1000\n",
      "8/8 [==============================] - 0s 3ms/step - loss: 0.3638 - accuracy: 0.8264\n",
      "Epoch 810/1000\n",
      "8/8 [==============================] - 0s 3ms/step - loss: 0.3576 - accuracy: 0.8388\n",
      "Epoch 811/1000\n",
      "8/8 [==============================] - 0s 3ms/step - loss: 0.3520 - accuracy: 0.8388\n",
      "Epoch 812/1000\n",
      "8/8 [==============================] - 0s 4ms/step - loss: 0.3508 - accuracy: 0.8430\n",
      "Epoch 813/1000\n",
      "8/8 [==============================] - 0s 3ms/step - loss: 0.3511 - accuracy: 0.8471\n",
      "Epoch 814/1000\n",
      "8/8 [==============================] - 0s 3ms/step - loss: 0.3560 - accuracy: 0.8512\n",
      "Epoch 815/1000\n",
      "8/8 [==============================] - 0s 3ms/step - loss: 0.3599 - accuracy: 0.8430\n",
      "Epoch 816/1000\n",
      "8/8 [==============================] - 0s 3ms/step - loss: 0.3652 - accuracy: 0.8388\n",
      "Epoch 817/1000\n",
      "8/8 [==============================] - 0s 3ms/step - loss: 0.3664 - accuracy: 0.8347\n",
      "Epoch 818/1000\n",
      "8/8 [==============================] - 0s 3ms/step - loss: 0.3643 - accuracy: 0.8388\n",
      "Epoch 819/1000\n",
      "8/8 [==============================] - 0s 3ms/step - loss: 0.3763 - accuracy: 0.8430\n",
      "Epoch 820/1000\n",
      "8/8 [==============================] - 0s 3ms/step - loss: 0.3685 - accuracy: 0.8471\n",
      "Epoch 821/1000\n",
      "8/8 [==============================] - 0s 3ms/step - loss: 0.3515 - accuracy: 0.8554\n",
      "Epoch 822/1000\n",
      "8/8 [==============================] - 0s 3ms/step - loss: 0.3535 - accuracy: 0.8430\n",
      "Epoch 823/1000\n",
      "8/8 [==============================] - 0s 3ms/step - loss: 0.3592 - accuracy: 0.8554\n",
      "Epoch 824/1000\n",
      "8/8 [==============================] - 0s 5ms/step - loss: 0.3571 - accuracy: 0.8388\n",
      "Epoch 825/1000\n",
      "8/8 [==============================] - 0s 4ms/step - loss: 0.3641 - accuracy: 0.8388\n",
      "Epoch 826/1000\n",
      "8/8 [==============================] - 0s 3ms/step - loss: 0.3689 - accuracy: 0.8347\n",
      "Epoch 827/1000\n",
      "8/8 [==============================] - 0s 4ms/step - loss: 0.3903 - accuracy: 0.8306\n",
      "Epoch 828/1000\n",
      "8/8 [==============================] - 0s 4ms/step - loss: 0.3796 - accuracy: 0.8430\n",
      "Epoch 829/1000\n",
      "8/8 [==============================] - 0s 3ms/step - loss: 0.3675 - accuracy: 0.8471\n",
      "Epoch 830/1000\n",
      "8/8 [==============================] - 0s 3ms/step - loss: 0.3876 - accuracy: 0.8099\n",
      "Epoch 831/1000\n",
      "8/8 [==============================] - 0s 3ms/step - loss: 0.3555 - accuracy: 0.8471\n",
      "Epoch 832/1000\n",
      "8/8 [==============================] - 0s 3ms/step - loss: 0.3730 - accuracy: 0.8140\n",
      "Epoch 833/1000\n",
      "8/8 [==============================] - 0s 3ms/step - loss: 0.4032 - accuracy: 0.8099\n",
      "Epoch 834/1000\n",
      "8/8 [==============================] - 0s 3ms/step - loss: 0.3761 - accuracy: 0.8430\n",
      "Epoch 835/1000\n",
      "8/8 [==============================] - 0s 3ms/step - loss: 0.3663 - accuracy: 0.8347\n",
      "Epoch 836/1000\n",
      "8/8 [==============================] - 0s 3ms/step - loss: 0.3596 - accuracy: 0.8347\n",
      "Epoch 837/1000\n",
      "8/8 [==============================] - 0s 4ms/step - loss: 0.3957 - accuracy: 0.8099\n",
      "Epoch 838/1000\n",
      "8/8 [==============================] - 0s 4ms/step - loss: 0.3833 - accuracy: 0.8140\n",
      "Epoch 839/1000\n",
      "8/8 [==============================] - 0s 5ms/step - loss: 0.3503 - accuracy: 0.8347\n",
      "Epoch 840/1000\n",
      "8/8 [==============================] - 0s 5ms/step - loss: 0.3659 - accuracy: 0.8347\n",
      "Epoch 841/1000\n",
      "8/8 [==============================] - 0s 3ms/step - loss: 0.3604 - accuracy: 0.8512\n",
      "Epoch 842/1000\n",
      "8/8 [==============================] - 0s 3ms/step - loss: 0.3534 - accuracy: 0.8471\n",
      "Epoch 843/1000\n",
      "8/8 [==============================] - 0s 3ms/step - loss: 0.3549 - accuracy: 0.8636\n",
      "Epoch 844/1000\n",
      "8/8 [==============================] - 0s 3ms/step - loss: 0.3501 - accuracy: 0.8430\n",
      "Epoch 845/1000\n",
      "8/8 [==============================] - 0s 3ms/step - loss: 0.3551 - accuracy: 0.8430\n",
      "Epoch 846/1000\n",
      "8/8 [==============================] - 0s 3ms/step - loss: 0.3531 - accuracy: 0.8430\n",
      "Epoch 847/1000\n",
      "8/8 [==============================] - 0s 3ms/step - loss: 0.3526 - accuracy: 0.8430\n",
      "Epoch 848/1000\n",
      "8/8 [==============================] - 0s 3ms/step - loss: 0.3644 - accuracy: 0.8430\n",
      "Epoch 849/1000\n",
      "8/8 [==============================] - 0s 3ms/step - loss: 0.3762 - accuracy: 0.8306\n",
      "Epoch 850/1000\n",
      "8/8 [==============================] - 0s 3ms/step - loss: 0.3521 - accuracy: 0.8430\n",
      "Epoch 851/1000\n",
      "8/8 [==============================] - 0s 3ms/step - loss: 0.3817 - accuracy: 0.8388\n",
      "Epoch 852/1000\n",
      "8/8 [==============================] - 0s 3ms/step - loss: 0.4682 - accuracy: 0.7769\n",
      "Epoch 853/1000\n",
      "8/8 [==============================] - 0s 3ms/step - loss: 0.3973 - accuracy: 0.8264\n",
      "Epoch 854/1000\n",
      "8/8 [==============================] - 0s 4ms/step - loss: 0.3646 - accuracy: 0.8430\n",
      "Epoch 855/1000\n",
      "8/8 [==============================] - 0s 3ms/step - loss: 0.3619 - accuracy: 0.8388\n",
      "Epoch 856/1000\n",
      "8/8 [==============================] - 0s 4ms/step - loss: 0.3570 - accuracy: 0.8512\n",
      "Epoch 857/1000\n",
      "8/8 [==============================] - 0s 3ms/step - loss: 0.3825 - accuracy: 0.8182\n",
      "Epoch 858/1000\n",
      "8/8 [==============================] - 0s 3ms/step - loss: 0.3527 - accuracy: 0.8512\n",
      "Epoch 859/1000\n",
      "8/8 [==============================] - 0s 3ms/step - loss: 0.3571 - accuracy: 0.8264\n",
      "Epoch 860/1000\n",
      "8/8 [==============================] - 0s 4ms/step - loss: 0.3517 - accuracy: 0.8471\n",
      "Epoch 861/1000\n",
      "8/8 [==============================] - 0s 4ms/step - loss: 0.3523 - accuracy: 0.8182\n",
      "Epoch 862/1000\n",
      "8/8 [==============================] - 0s 3ms/step - loss: 0.3575 - accuracy: 0.8388\n",
      "Epoch 863/1000\n",
      "8/8 [==============================] - 0s 3ms/step - loss: 0.3552 - accuracy: 0.8430\n",
      "Epoch 864/1000\n",
      "8/8 [==============================] - 0s 3ms/step - loss: 0.3573 - accuracy: 0.8512\n",
      "Epoch 865/1000\n",
      "8/8 [==============================] - 0s 3ms/step - loss: 0.3573 - accuracy: 0.8430\n",
      "Epoch 866/1000\n",
      "8/8 [==============================] - 0s 5ms/step - loss: 0.3631 - accuracy: 0.8471\n",
      "Epoch 867/1000\n",
      "8/8 [==============================] - 0s 4ms/step - loss: 0.3559 - accuracy: 0.8595\n",
      "Epoch 868/1000\n",
      "8/8 [==============================] - 0s 4ms/step - loss: 0.3760 - accuracy: 0.8471\n",
      "Epoch 869/1000\n",
      "8/8 [==============================] - 0s 4ms/step - loss: 0.3735 - accuracy: 0.8264\n",
      "Epoch 870/1000\n",
      "8/8 [==============================] - 0s 4ms/step - loss: 0.3697 - accuracy: 0.8306\n",
      "Epoch 871/1000\n",
      "8/8 [==============================] - 0s 4ms/step - loss: 0.3549 - accuracy: 0.8347\n",
      "Epoch 872/1000\n",
      "8/8 [==============================] - 0s 4ms/step - loss: 0.3548 - accuracy: 0.8471\n",
      "Epoch 873/1000\n",
      "8/8 [==============================] - 0s 3ms/step - loss: 0.3618 - accuracy: 0.8388\n",
      "Epoch 874/1000\n",
      "8/8 [==============================] - 0s 3ms/step - loss: 0.3615 - accuracy: 0.8430\n",
      "Epoch 875/1000\n",
      "8/8 [==============================] - 0s 3ms/step - loss: 0.3533 - accuracy: 0.8471\n",
      "Epoch 876/1000\n",
      "8/8 [==============================] - 0s 3ms/step - loss: 0.3555 - accuracy: 0.8430\n",
      "Epoch 877/1000\n",
      "8/8 [==============================] - 0s 3ms/step - loss: 0.3607 - accuracy: 0.8388\n",
      "Epoch 878/1000\n",
      "8/8 [==============================] - 0s 3ms/step - loss: 0.3639 - accuracy: 0.8223\n",
      "Epoch 879/1000\n",
      "8/8 [==============================] - 0s 3ms/step - loss: 0.3744 - accuracy: 0.8512\n",
      "Epoch 880/1000\n",
      "8/8 [==============================] - 0s 3ms/step - loss: 0.3619 - accuracy: 0.8347\n",
      "Epoch 881/1000\n",
      "8/8 [==============================] - 0s 3ms/step - loss: 0.3593 - accuracy: 0.8430\n",
      "Epoch 882/1000\n",
      "8/8 [==============================] - 0s 3ms/step - loss: 0.3564 - accuracy: 0.8347\n",
      "Epoch 883/1000\n",
      "8/8 [==============================] - 0s 3ms/step - loss: 0.3549 - accuracy: 0.8430\n",
      "Epoch 884/1000\n",
      "8/8 [==============================] - 0s 4ms/step - loss: 0.3915 - accuracy: 0.8347\n",
      "Epoch 885/1000\n",
      "8/8 [==============================] - 0s 3ms/step - loss: 0.3821 - accuracy: 0.8264\n",
      "Epoch 886/1000\n",
      "8/8 [==============================] - 0s 3ms/step - loss: 0.3688 - accuracy: 0.8388\n",
      "Epoch 887/1000\n",
      "8/8 [==============================] - 0s 3ms/step - loss: 0.3784 - accuracy: 0.8471\n",
      "Epoch 888/1000\n",
      "8/8 [==============================] - 0s 3ms/step - loss: 0.3734 - accuracy: 0.8223\n",
      "Epoch 889/1000\n",
      "8/8 [==============================] - 0s 3ms/step - loss: 0.3478 - accuracy: 0.8388\n",
      "Epoch 890/1000\n",
      "8/8 [==============================] - 0s 3ms/step - loss: 0.3665 - accuracy: 0.8430\n",
      "Epoch 891/1000\n",
      "8/8 [==============================] - 0s 3ms/step - loss: 0.3579 - accuracy: 0.8471\n",
      "Epoch 892/1000\n",
      "8/8 [==============================] - 0s 3ms/step - loss: 0.3631 - accuracy: 0.8512\n",
      "Epoch 893/1000\n",
      "8/8 [==============================] - 0s 3ms/step - loss: 0.3497 - accuracy: 0.8471\n",
      "Epoch 894/1000\n",
      "8/8 [==============================] - 0s 3ms/step - loss: 0.3542 - accuracy: 0.8430\n",
      "Epoch 895/1000\n",
      "8/8 [==============================] - 0s 3ms/step - loss: 0.3586 - accuracy: 0.8388\n",
      "Epoch 896/1000\n",
      "8/8 [==============================] - 0s 3ms/step - loss: 0.3551 - accuracy: 0.8264\n",
      "Epoch 897/1000\n",
      "8/8 [==============================] - 0s 4ms/step - loss: 0.3525 - accuracy: 0.8471\n",
      "Epoch 898/1000\n",
      "8/8 [==============================] - 0s 3ms/step - loss: 0.3537 - accuracy: 0.8430\n",
      "Epoch 899/1000\n",
      "8/8 [==============================] - 0s 4ms/step - loss: 0.3611 - accuracy: 0.8512\n",
      "Epoch 900/1000\n",
      "8/8 [==============================] - 0s 3ms/step - loss: 0.3647 - accuracy: 0.8264\n",
      "Epoch 901/1000\n",
      "8/8 [==============================] - 0s 3ms/step - loss: 0.3502 - accuracy: 0.8430\n",
      "Epoch 902/1000\n",
      "8/8 [==============================] - 0s 4ms/step - loss: 0.3556 - accuracy: 0.8388\n",
      "Epoch 903/1000\n",
      "8/8 [==============================] - 0s 4ms/step - loss: 0.3559 - accuracy: 0.8347\n",
      "Epoch 904/1000\n",
      "8/8 [==============================] - 0s 4ms/step - loss: 0.3564 - accuracy: 0.8430\n",
      "Epoch 905/1000\n",
      "8/8 [==============================] - 0s 4ms/step - loss: 0.3620 - accuracy: 0.8264\n",
      "Epoch 906/1000\n",
      "8/8 [==============================] - 0s 3ms/step - loss: 0.3643 - accuracy: 0.8347\n",
      "Epoch 907/1000\n",
      "8/8 [==============================] - 0s 3ms/step - loss: 0.3641 - accuracy: 0.8264\n",
      "Epoch 908/1000\n",
      "8/8 [==============================] - 0s 3ms/step - loss: 0.3862 - accuracy: 0.8182\n",
      "Epoch 909/1000\n",
      "8/8 [==============================] - 0s 4ms/step - loss: 0.3696 - accuracy: 0.8223\n",
      "Epoch 910/1000\n",
      "8/8 [==============================] - 0s 4ms/step - loss: 0.3635 - accuracy: 0.8264\n",
      "Epoch 911/1000\n",
      "8/8 [==============================] - 0s 4ms/step - loss: 0.3492 - accuracy: 0.8471\n",
      "Epoch 912/1000\n",
      "8/8 [==============================] - 0s 3ms/step - loss: 0.3491 - accuracy: 0.8430\n",
      "Epoch 913/1000\n",
      "8/8 [==============================] - 0s 4ms/step - loss: 0.3918 - accuracy: 0.8306\n",
      "Epoch 914/1000\n",
      "8/8 [==============================] - 0s 3ms/step - loss: 0.3537 - accuracy: 0.8388\n",
      "Epoch 915/1000\n",
      "8/8 [==============================] - 0s 3ms/step - loss: 0.3604 - accuracy: 0.8347\n",
      "Epoch 916/1000\n",
      "8/8 [==============================] - 0s 3ms/step - loss: 0.3561 - accuracy: 0.8306\n",
      "Epoch 917/1000\n",
      "8/8 [==============================] - 0s 3ms/step - loss: 0.3537 - accuracy: 0.8347\n",
      "Epoch 918/1000\n",
      "8/8 [==============================] - 0s 3ms/step - loss: 0.3694 - accuracy: 0.8264\n",
      "Epoch 919/1000\n",
      "8/8 [==============================] - 0s 3ms/step - loss: 0.3517 - accuracy: 0.8471\n",
      "Epoch 920/1000\n",
      "8/8 [==============================] - 0s 4ms/step - loss: 0.3640 - accuracy: 0.8471\n",
      "Epoch 921/1000\n",
      "8/8 [==============================] - 0s 3ms/step - loss: 0.3628 - accuracy: 0.8347\n",
      "Epoch 922/1000\n",
      "8/8 [==============================] - 0s 3ms/step - loss: 0.3581 - accuracy: 0.8430\n",
      "Epoch 923/1000\n",
      "8/8 [==============================] - 0s 4ms/step - loss: 0.3526 - accuracy: 0.8430\n",
      "Epoch 924/1000\n",
      "8/8 [==============================] - 0s 3ms/step - loss: 0.3701 - accuracy: 0.8264\n",
      "Epoch 925/1000\n",
      "8/8 [==============================] - 0s 3ms/step - loss: 0.3618 - accuracy: 0.8347\n",
      "Epoch 926/1000\n",
      "8/8 [==============================] - 0s 3ms/step - loss: 0.3535 - accuracy: 0.8388\n",
      "Epoch 927/1000\n",
      "8/8 [==============================] - 0s 3ms/step - loss: 0.3521 - accuracy: 0.8471\n",
      "Epoch 928/1000\n",
      "8/8 [==============================] - 0s 3ms/step - loss: 0.3608 - accuracy: 0.8430\n",
      "Epoch 929/1000\n",
      "8/8 [==============================] - 0s 3ms/step - loss: 0.4003 - accuracy: 0.8099\n",
      "Epoch 930/1000\n",
      "8/8 [==============================] - 0s 3ms/step - loss: 0.3779 - accuracy: 0.8223\n",
      "Epoch 931/1000\n",
      "8/8 [==============================] - 0s 4ms/step - loss: 0.3840 - accuracy: 0.8264\n",
      "Epoch 932/1000\n",
      "8/8 [==============================] - 0s 3ms/step - loss: 0.3896 - accuracy: 0.8471\n",
      "Epoch 933/1000\n",
      "8/8 [==============================] - 0s 3ms/step - loss: 0.3592 - accuracy: 0.8554\n",
      "Epoch 934/1000\n",
      "8/8 [==============================] - 0s 4ms/step - loss: 0.3617 - accuracy: 0.8554\n",
      "Epoch 935/1000\n",
      "8/8 [==============================] - 0s 3ms/step - loss: 0.3642 - accuracy: 0.8471\n",
      "Epoch 936/1000\n",
      "8/8 [==============================] - 0s 3ms/step - loss: 0.3984 - accuracy: 0.8264\n",
      "Epoch 937/1000\n",
      "8/8 [==============================] - 0s 3ms/step - loss: 0.4041 - accuracy: 0.8058\n",
      "Epoch 938/1000\n",
      "8/8 [==============================] - 0s 3ms/step - loss: 0.4135 - accuracy: 0.8058\n",
      "Epoch 939/1000\n",
      "8/8 [==============================] - 0s 3ms/step - loss: 0.3557 - accuracy: 0.8306\n",
      "Epoch 940/1000\n",
      "8/8 [==============================] - 0s 3ms/step - loss: 0.3479 - accuracy: 0.8471\n",
      "Epoch 941/1000\n",
      "8/8 [==============================] - 0s 3ms/step - loss: 0.3632 - accuracy: 0.8388\n",
      "Epoch 942/1000\n",
      "8/8 [==============================] - 0s 3ms/step - loss: 0.3648 - accuracy: 0.8471\n",
      "Epoch 943/1000\n",
      "8/8 [==============================] - 0s 3ms/step - loss: 0.3566 - accuracy: 0.8471\n",
      "Epoch 944/1000\n",
      "8/8 [==============================] - 0s 4ms/step - loss: 0.3610 - accuracy: 0.8388\n",
      "Epoch 945/1000\n",
      "8/8 [==============================] - 0s 3ms/step - loss: 0.3742 - accuracy: 0.8388\n",
      "Epoch 946/1000\n",
      "8/8 [==============================] - 0s 3ms/step - loss: 0.3736 - accuracy: 0.8388\n",
      "Epoch 947/1000\n",
      "8/8 [==============================] - 0s 3ms/step - loss: 0.3593 - accuracy: 0.8430\n",
      "Epoch 948/1000\n",
      "8/8 [==============================] - 0s 4ms/step - loss: 0.3642 - accuracy: 0.8471\n",
      "Epoch 949/1000\n",
      "8/8 [==============================] - 0s 4ms/step - loss: 0.3617 - accuracy: 0.8430\n",
      "Epoch 950/1000\n",
      "8/8 [==============================] - 0s 4ms/step - loss: 0.3506 - accuracy: 0.8388\n",
      "Epoch 951/1000\n",
      "8/8 [==============================] - 0s 4ms/step - loss: 0.3829 - accuracy: 0.8306\n",
      "Epoch 952/1000\n",
      "8/8 [==============================] - 0s 3ms/step - loss: 0.3682 - accuracy: 0.8264\n",
      "Epoch 953/1000\n",
      "8/8 [==============================] - 0s 5ms/step - loss: 0.3876 - accuracy: 0.8388\n",
      "Epoch 954/1000\n",
      "8/8 [==============================] - 0s 5ms/step - loss: 0.3610 - accuracy: 0.8512\n",
      "Epoch 955/1000\n",
      "8/8 [==============================] - 0s 3ms/step - loss: 0.3537 - accuracy: 0.8388\n",
      "Epoch 956/1000\n",
      "8/8 [==============================] - 0s 4ms/step - loss: 0.3518 - accuracy: 0.8471\n",
      "Epoch 957/1000\n",
      "8/8 [==============================] - 0s 5ms/step - loss: 0.3803 - accuracy: 0.8430\n",
      "Epoch 958/1000\n",
      "8/8 [==============================] - 0s 4ms/step - loss: 0.3610 - accuracy: 0.8471\n",
      "Epoch 959/1000\n",
      "8/8 [==============================] - 0s 4ms/step - loss: 0.3847 - accuracy: 0.8306\n",
      "Epoch 960/1000\n",
      "8/8 [==============================] - 0s 4ms/step - loss: 0.3611 - accuracy: 0.8430\n",
      "Epoch 961/1000\n",
      "8/8 [==============================] - 0s 4ms/step - loss: 0.3596 - accuracy: 0.8388\n",
      "Epoch 962/1000\n",
      "8/8 [==============================] - 0s 4ms/step - loss: 0.3567 - accuracy: 0.8554\n",
      "Epoch 963/1000\n",
      "8/8 [==============================] - 0s 4ms/step - loss: 0.3534 - accuracy: 0.8430\n",
      "Epoch 964/1000\n",
      "8/8 [==============================] - 0s 5ms/step - loss: 0.3587 - accuracy: 0.8264\n",
      "Epoch 965/1000\n",
      "8/8 [==============================] - 0s 4ms/step - loss: 0.3853 - accuracy: 0.8512\n",
      "Epoch 966/1000\n",
      "8/8 [==============================] - 0s 3ms/step - loss: 0.3937 - accuracy: 0.8182\n",
      "Epoch 967/1000\n",
      "8/8 [==============================] - 0s 4ms/step - loss: 0.4353 - accuracy: 0.7727\n",
      "Epoch 968/1000\n",
      "8/8 [==============================] - 0s 4ms/step - loss: 0.4175 - accuracy: 0.8140\n",
      "Epoch 969/1000\n",
      "8/8 [==============================] - 0s 5ms/step - loss: 0.4125 - accuracy: 0.8264\n",
      "Epoch 970/1000\n",
      "8/8 [==============================] - 0s 4ms/step - loss: 0.3761 - accuracy: 0.8347\n",
      "Epoch 971/1000\n",
      "8/8 [==============================] - 0s 4ms/step - loss: 0.3660 - accuracy: 0.8140\n",
      "Epoch 972/1000\n",
      "8/8 [==============================] - 0s 4ms/step - loss: 0.3626 - accuracy: 0.8347\n",
      "Epoch 973/1000\n",
      "8/8 [==============================] - 0s 4ms/step - loss: 0.3896 - accuracy: 0.8058\n",
      "Epoch 974/1000\n",
      "8/8 [==============================] - 0s 5ms/step - loss: 0.3755 - accuracy: 0.8388\n",
      "Epoch 975/1000\n",
      "8/8 [==============================] - 0s 4ms/step - loss: 0.3840 - accuracy: 0.8099\n",
      "Epoch 976/1000\n",
      "8/8 [==============================] - 0s 5ms/step - loss: 0.3615 - accuracy: 0.8471\n",
      "Epoch 977/1000\n",
      "8/8 [==============================] - 0s 4ms/step - loss: 0.3619 - accuracy: 0.8430\n",
      "Epoch 978/1000\n",
      "8/8 [==============================] - 0s 4ms/step - loss: 0.3692 - accuracy: 0.8347\n",
      "Epoch 979/1000\n",
      "8/8 [==============================] - 0s 3ms/step - loss: 0.3594 - accuracy: 0.8554\n",
      "Epoch 980/1000\n",
      "8/8 [==============================] - 0s 3ms/step - loss: 0.3633 - accuracy: 0.8347\n",
      "Epoch 981/1000\n",
      "8/8 [==============================] - 0s 5ms/step - loss: 0.3515 - accuracy: 0.8388\n",
      "Epoch 982/1000\n",
      "8/8 [==============================] - 0s 5ms/step - loss: 0.3564 - accuracy: 0.8430\n",
      "Epoch 983/1000\n",
      "8/8 [==============================] - 0s 4ms/step - loss: 0.3502 - accuracy: 0.8471\n",
      "Epoch 984/1000\n",
      "8/8 [==============================] - 0s 4ms/step - loss: 0.3854 - accuracy: 0.8388\n",
      "Epoch 985/1000\n",
      "8/8 [==============================] - 0s 4ms/step - loss: 0.3803 - accuracy: 0.8388\n",
      "Epoch 986/1000\n",
      "8/8 [==============================] - 0s 4ms/step - loss: 0.3698 - accuracy: 0.8554\n",
      "Epoch 987/1000\n",
      "8/8 [==============================] - 0s 3ms/step - loss: 0.3628 - accuracy: 0.8430\n",
      "Epoch 988/1000\n",
      "8/8 [==============================] - 0s 4ms/step - loss: 0.3699 - accuracy: 0.8388\n",
      "Epoch 989/1000\n",
      "8/8 [==============================] - 0s 3ms/step - loss: 0.3598 - accuracy: 0.8347\n",
      "Epoch 990/1000\n",
      "8/8 [==============================] - 0s 3ms/step - loss: 0.3759 - accuracy: 0.8388\n",
      "Epoch 991/1000\n",
      "8/8 [==============================] - 0s 3ms/step - loss: 0.3848 - accuracy: 0.8182\n",
      "Epoch 992/1000\n",
      "8/8 [==============================] - 0s 4ms/step - loss: 0.3840 - accuracy: 0.8264\n",
      "Epoch 993/1000\n",
      "8/8 [==============================] - 0s 4ms/step - loss: 0.3745 - accuracy: 0.8223\n",
      "Epoch 994/1000\n",
      "8/8 [==============================] - 0s 4ms/step - loss: 0.3681 - accuracy: 0.8595\n",
      "Epoch 995/1000\n",
      "8/8 [==============================] - 0s 4ms/step - loss: 0.3546 - accuracy: 0.8471\n",
      "Epoch 996/1000\n",
      "8/8 [==============================] - 0s 5ms/step - loss: 0.3577 - accuracy: 0.8512\n",
      "Epoch 997/1000\n",
      "8/8 [==============================] - 0s 4ms/step - loss: 0.3672 - accuracy: 0.8430\n",
      "Epoch 998/1000\n",
      "8/8 [==============================] - 0s 4ms/step - loss: 0.3644 - accuracy: 0.8223\n",
      "Epoch 999/1000\n",
      "8/8 [==============================] - 0s 3ms/step - loss: 0.3934 - accuracy: 0.8264\n",
      "Epoch 1000/1000\n",
      "8/8 [==============================] - 0s 3ms/step - loss: 0.4069 - accuracy: 0.8223\n"
     ]
    },
    {
     "data": {
      "text/plain": [
       "<keras.callbacks.History at 0x7a8838235ed0>"
      ]
     },
     "execution_count": 63,
     "metadata": {},
     "output_type": "execute_result"
    }
   ],
   "source": [
    "model.fit(X_train,Y_train,epochs=1000)"
   ]
  },
  {
   "cell_type": "code",
   "execution_count": null,
   "metadata": {
    "colab": {
     "base_uri": "https://localhost:8080/"
    },
    "id": "NU98rUYnkVZ9",
    "outputId": "1e22c01a-cdaf-4327-f1dc-2503408b33de"
   },
   "outputs": [
    {
     "name": "stdout",
     "output_type": "stream",
     "text": [
      "2/2 [==============================] - 0s 5ms/step\n"
     ]
    }
   ],
   "source": [
    "Y_pred_nn = model.predict(X_test)"
   ]
  },
  {
   "cell_type": "code",
   "execution_count": null,
   "metadata": {
    "colab": {
     "base_uri": "https://localhost:8080/"
    },
    "id": "F_Zg0GVKkXv9",
    "outputId": "85b5c058-199f-468d-cc40-5dc0cb5ac7c1"
   },
   "outputs": [
    {
     "data": {
      "text/plain": [
       "(61, 1)"
      ]
     },
     "execution_count": 65,
     "metadata": {},
     "output_type": "execute_result"
    }
   ],
   "source": [
    "Y_pred_nn.shape"
   ]
  },
  {
   "cell_type": "code",
   "execution_count": null,
   "metadata": {
    "id": "kZ60KihFkafi"
   },
   "outputs": [],
   "source": [
    "rounded = [round(x[0]) for x in Y_pred_nn]\n",
    "\n",
    "Y_pred_nn = rounded"
   ]
  },
  {
   "cell_type": "code",
   "execution_count": null,
   "metadata": {
    "colab": {
     "base_uri": "https://localhost:8080/"
    },
    "id": "cL41kriNkedJ",
    "outputId": "80409e68-1c32-4a33-b388-e8212bd9da29"
   },
   "outputs": [
    {
     "name": "stdout",
     "output_type": "stream",
     "text": [
      "The accuracy score achieved using Neural Network is: 81.97 %\n"
     ]
    }
   ],
   "source": [
    "score_nn = round(accuracy_score(Y_pred_nn,Y_test)*100,2)\n",
    "\n",
    "print(\"The accuracy score achieved using Neural Network is: \"+str(score_nn)+\" %\")"
   ]
  },
  {
   "cell_type": "markdown",
   "metadata": {
    "id": "wBFKfNRxlKZK"
   },
   "source": [
    "# Output final score"
   ]
  },
  {
   "cell_type": "code",
   "execution_count": null,
   "metadata": {
    "colab": {
     "base_uri": "https://localhost:8080/"
    },
    "id": "pMQQQJg3lMAj",
    "outputId": "7d9a09e1-bc02-4658-b743-5b8c7ae635f7"
   },
   "outputs": [
    {
     "name": "stdout",
     "output_type": "stream",
     "text": [
      "The accuracy score achieved using Logistic Regression is: 85.25 %\n",
      "The accuracy score achieved using Naive Bayes is: 85.25 %\n",
      "The accuracy score achieved using Support Vector Machine is: 81.97 %\n",
      "The accuracy score achieved using K-Nearest Neighbors is: 67.21 %\n",
      "The accuracy score achieved using Decision Tree is: 81.97 %\n",
      "The accuracy score achieved using Random Forest is: 90.16 %\n",
      "The accuracy score achieved using XGBoost is: 78.69 %\n",
      "The accuracy score achieved using Neural Network is: 81.97 %\n"
     ]
    }
   ],
   "source": [
    "scores = [score_lr,score_nb,score_svm,score_knn,score_dt,score_rf,score_xgb,score_nn]\n",
    "algorithms = [\"Logistic Regression\",\"Naive Bayes\",\"Support Vector Machine\",\"K-Nearest Neighbors\",\"Decision Tree\",\"Random Forest\",\"XGBoost\",\"Neural Network\"]\n",
    "\n",
    "for i in range(len(algorithms)):\n",
    "    print(\"The accuracy score achieved using \"+algorithms[i]+\" is: \"+str(scores[i])+\" %\")"
   ]
  },
  {
   "cell_type": "code",
   "execution_count": null,
   "metadata": {
    "colab": {
     "base_uri": "https://localhost:8080/",
     "height": 891
    },
    "id": "W4ZLyWXuoBQ5",
    "outputId": "54d75f17-c42a-4ada-a619-c7f08a4ae8c3"
   },
   "outputs": [
    {
     "data": {
      "text/plain": [
       "<Axes: xlabel='Algorithms', ylabel='Accuracy score'>"
      ]
     },
     "execution_count": 69,
     "metadata": {},
     "output_type": "execute_result"
    },
    {
     "data": {
      "image/png": "[encoded data removed]",
      "text/plain": [
       "<Figure size 1500x800 with 1 Axes>"
      ]
     },
     "metadata": {},
     "output_type": "display_data"
    }
   ],
   "source": [
    "sns.set(rc={'figure.figsize':(15,8)})\n",
    "plt.xlabel(\"Algorithms\")\n",
    "plt.ylabel(\"Accuracy score\")\n",
    "plt.xticks(rotation=90)\n",
    "\n",
    "sns.barplot(x=algorithms,y=scores)"
   ]
  },
  {
   "cell_type": "code",
   "execution_count": null,
   "metadata": {
    "id": "3lwiOUQdI6Vq"
   },
   "outputs": [],
   "source": [
    "import pickle\n"
   ]
  },
  {
   "cell_type": "code",
   "execution_count": null,
   "metadata": {
    "id": "b5xfUwCy8ar8"
   },
   "outputs": [],
   "source": [
    "filename='trained.sav'\n",
    "pickle.dump(rf,open(filename,'wb'))"
   ]
  },
  {
   "cell_type": "code",
   "execution_count": null,
   "metadata": {
    "id": "v_rRleFRG1DW"
   },
   "outputs": [],
   "source": [
    "loaded_model = pickle.load(open('trained.sav','rb'))\n"
   ]
  },
  {
   "cell_type": "code",
   "execution_count": null,
   "metadata": {
    "colab": {
     "base_uri": "https://localhost:8080/"
    },
    "id": "5XEW6hWrGggb",
    "outputId": "a70c0b55-4ea7-428c-8150-0c4a2966812e"
   },
   "outputs": [
    {
     "name": "stdout",
     "output_type": "stream",
     "text": [
      "[ 58   0   3 150 283   1   0 162   0   1   2   0   2]\n",
      "<class 'numpy.ndarray'>\n",
      "(1, 13)\n",
      "[1]\n",
      "The Person is prone to heart disease\n"
     ]
    }
   ],
   "source": [
    "input_data=(58,0,3,150,283,1,0,162,0,1,2,0,2)\n",
    "# input_data=int(input_data)\n",
    "input_array=np.asarray(input_data)\n",
    "# print(input_array)\n",
    "print(type(input_array))\n",
    "input_reshape=input_array.reshape(1,-1)\n",
    "# print(input_reshape.shape)\n",
    "prediction=loaded_model.predict(input_reshape)\n",
    "print(prediction)\n",
    "\n",
    "if (prediction[0]== 0):\n",
    "  print(\"The Person is not prone to heart disease\")\n",
    "else:\n",
    "  print(\"The Person is prone to heart disease\")\n"
   ]
  }
 ],
 "metadata": {
  "colab": {
   "provenance": []
  },
  "kernelspec": {
   "display_name": "Python 3",
   "name": "python3"
  },
  "language_info": {
   "name": "python"
  }
 },
 "nbformat": 4,
 "nbformat_minor": 0
}
